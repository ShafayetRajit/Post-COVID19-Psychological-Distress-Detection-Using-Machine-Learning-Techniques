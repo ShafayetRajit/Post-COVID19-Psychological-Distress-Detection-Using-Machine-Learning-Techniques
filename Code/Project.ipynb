{
  "nbformat": 4,
  "nbformat_minor": 0,
  "metadata": {
    "colab": {
      "provenance": [],
      "collapsed_sections": []
    },
    "kernelspec": {
      "name": "python3",
      "display_name": "Python 3"
    },
    "language_info": {
      "name": "python"
    }
  },
  "cells": [
    {
      "cell_type": "markdown",
      "source": [
        "**Post-Covid Psychological Distress Detection Using Machine Learning Techniques**"
      ],
      "metadata": {
        "id": "DochiM33uWqU"
      }
    },
    {
      "cell_type": "markdown",
      "source": [
        "# Data fetch"
      ],
      "metadata": {
        "id": "UfnyvY1puU13"
      }
    },
    {
      "cell_type": "code",
      "metadata": {
        "id": "ajvI5nK_oyUB"
      },
      "source": [
        "!pip install -U -q PyDrive\n",
        "from pydrive.auth import GoogleAuth\n",
        "from pydrive.drive import GoogleDrive\n",
        "from google.colab import auth\n",
        "from oauth2client.client import GoogleCredentials"
      ],
      "execution_count": 1,
      "outputs": []
    },
    {
      "cell_type": "code",
      "metadata": {
        "id": "JxuP4tQZpF8W"
      },
      "source": [
        "#Connecting to Google drive account\n",
        "auth.authenticate_user()\n",
        "gauth = GoogleAuth()\n",
        "gauth.credentials = GoogleCredentials.get_application_default()\n",
        "drive = GoogleDrive(gauth)"
      ],
      "execution_count": 2,
      "outputs": []
    },
    {
      "cell_type": "code",
      "source": [
        "downloaded = drive.CreateFile({'id':'1ul0BuVLPCYNQ3hQAopDGyd_vUeKgwxhU'}) # replace the id with id of file you want to access\n",
        "downloaded.GetContentFile('Dataset')"
      ],
      "metadata": {
        "id": "6brot0bbvJNT"
      },
      "execution_count": 3,
      "outputs": []
    },
    {
      "cell_type": "code",
      "source": [
        "#Loading the dataset to a Pandas Dataframe\n",
        "import pandas as pd\n",
        "df = pd.read_csv('Dataset') "
      ],
      "metadata": {
        "id": "FOtDghIl3QKy"
      },
      "execution_count": 4,
      "outputs": []
    },
    {
      "cell_type": "markdown",
      "source": [
        "# Analyzing data\n"
      ],
      "metadata": {
        "id": "Tf_UDiMWdhdl"
      }
    },
    {
      "cell_type": "code",
      "metadata": {
        "colab": {
          "base_uri": "https://localhost:8080/"
        },
        "id": "V-f4rm_4rFYf",
        "outputId": "b76d6a3e-f23b-4b8e-a34b-83c880d62301"
      },
      "source": [
        "#Checking the dataframe\n",
        "print(df.head(1))\n",
        "print(df.shape)"
      ],
      "execution_count": 5,
      "outputs": [
        {
          "output_type": "stream",
          "name": "stdout",
          "text": [
            "           Timestamp    Age Gender Marital Status Profession Family type  \\\n",
            "0  8/7/2022 11:24:40  18-24   Male      Unmarried    Student     Nuclear   \n",
            "\n",
            "  How would you describe your area of residence during COVID-19?  \\\n",
            "0                                          Sub-urban               \n",
            "\n",
            "  How would you describe the ease of access to the nearest medical support from your area of residence during COVID-19?  \\\n",
            "0                           Close but Hard to Manage                                                                      \n",
            "\n",
            "  Did you live with your family members during COVID-19?  \\\n",
            "0                                                Yes       \n",
            "\n",
            "  What is your current monthly income?  ...  \\\n",
            "0                 Less than 10,000 BDT  ...   \n",
            "\n",
            "  Have you lost any family member(s) due to COVID-19?  \\\n",
            "0                                                 No    \n",
            "\n",
            "  Did you ever take mental health counseling?  \\\n",
            "0                                          No   \n",
            "\n",
            "  Did you experience any level of depression or anxiety during COVID-19 lockdown?  \\\n",
            "0                                                 No                                \n",
            "\n",
            "   Feeling nervous, anxious, or on edge    \\\n",
            "0                                       1   \n",
            "\n",
            "  Not being able to stop or control worrying    \\\n",
            "0                                            0   \n",
            "\n",
            "  Worrying too much about different things  Trouble relaxing   \\\n",
            "0                                         2                 1   \n",
            "\n",
            "  Being so restless that it is hard to sit still   \\\n",
            "0                                               0   \n",
            "\n",
            "  Becoming easily annoyed or irritable   \\\n",
            "0                                     3   \n",
            "\n",
            "  Feeling afraid, as if something awful might happen   \n",
            "0                                                  2   \n",
            "\n",
            "[1 rows x 30 columns]\n",
            "(225, 30)\n"
          ]
        }
      ]
    },
    {
      "cell_type": "code",
      "source": [
        "df.columns"
      ],
      "metadata": {
        "colab": {
          "base_uri": "https://localhost:8080/"
        },
        "id": "YOfxH4Fz49bL",
        "outputId": "085468f1-c789-48cb-887e-0b9fee3b7d3c"
      },
      "execution_count": 6,
      "outputs": [
        {
          "output_type": "execute_result",
          "data": {
            "text/plain": [
              "Index(['Timestamp', 'Age', 'Gender', 'Marital Status', 'Profession',\n",
              "       'Family type',\n",
              "       'How would you describe your area of residence during COVID-19?',\n",
              "       'How would you describe the ease of access to the nearest medical support from your area of residence during COVID-19?',\n",
              "       'Did you live with your family members during COVID-19?',\n",
              "       'What is your current monthly income?',\n",
              "       'What is your familys current monthly income?',\n",
              "       'Did your family have a consistent monthly income during COVID-19?',\n",
              "       'Who is the primary earner of your family?',\n",
              "       'Did you lose your job during COVID-19?',\n",
              "       'Did any of your family member(s) lose jobs during COVID-19?',\n",
              "       'Were your ever pressured to work extra hours during COVID-19 by your employer?',\n",
              "       'Do you work from home currently?',\n",
              "       'Did you have to discontinue your studies during COVID-19? ',\n",
              "       'Have you ever been infected with COVID-19?',\n",
              "       'Has any of your family member(s) ever been infected with COVID-19?',\n",
              "       'Have you lost any family member(s) due to COVID-19?',\n",
              "       'Did you ever take mental health counseling?',\n",
              "       'Did you experience any level of depression or anxiety during COVID-19 lockdown?',\n",
              "       ' Feeling nervous, anxious, or on edge  ',\n",
              "       'Not being able to stop or control worrying  ',\n",
              "       'Worrying too much about different things ', 'Trouble relaxing ',\n",
              "       'Being so restless that it is hard to sit still ',\n",
              "       'Becoming easily annoyed or irritable ',\n",
              "       'Feeling afraid, as if something awful might happen '],\n",
              "      dtype='object')"
            ]
          },
          "metadata": {},
          "execution_count": 6
        }
      ]
    },
    {
      "cell_type": "code",
      "source": [
        "#Dropping the Timestamp column\n",
        "df =  df.drop(columns = 'Timestamp')"
      ],
      "metadata": {
        "id": "KIQ60NEX6R_0"
      },
      "execution_count": 7,
      "outputs": []
    },
    {
      "cell_type": "code",
      "source": [
        "df.head()"
      ],
      "metadata": {
        "colab": {
          "base_uri": "https://localhost:8080/",
          "height": 820
        },
        "id": "0C1XUHaO5aGH",
        "outputId": "625115a4-90de-4396-ee7c-84ed8d22921a"
      },
      "execution_count": 8,
      "outputs": [
        {
          "output_type": "execute_result",
          "data": {
            "text/plain": [
              "     Age  Gender Marital Status Profession Family type  \\\n",
              "0  18-24    Male      Unmarried    Student     Nuclear   \n",
              "1  18-24  Female      Unmarried    Student     Nuclear   \n",
              "2  18-24    Male      Unmarried    Student     Nuclear   \n",
              "3  18-24    Male      Unmarried    Student     Nuclear   \n",
              "4  18-24    Male      Unmarried    Student     Nuclear   \n",
              "\n",
              "  How would you describe your area of residence during COVID-19?  \\\n",
              "0                                          Sub-urban               \n",
              "1                                              Urban               \n",
              "2                                          Sub-urban               \n",
              "3                                              Rural               \n",
              "4                                              Rural               \n",
              "\n",
              "  How would you describe the ease of access to the nearest medical support from your area of residence during COVID-19?  \\\n",
              "0                           Close but Hard to Manage                                                                      \n",
              "1                              Close and Manageable.                                                                      \n",
              "2                              Close and Manageable.                                                                      \n",
              "3                              Close and Manageable.                                                                      \n",
              "4                           Close but Hard to Manage                                                                      \n",
              "\n",
              "  Did you live with your family members during COVID-19?  \\\n",
              "0                                                Yes       \n",
              "1                                                Yes       \n",
              "2                                                Yes       \n",
              "3                                                Yes       \n",
              "4                                                Yes       \n",
              "\n",
              "     What is your current monthly income?  \\\n",
              "0                    Less than 10,000 BDT   \n",
              "1                   10,000BDT - 39,000BDT   \n",
              "2  I do not have any income at the moment   \n",
              "3                    Less than 10,000 BDT   \n",
              "4  I do not have any income at the moment   \n",
              "\n",
              "  What is your familys current monthly income?  ...  \\\n",
              "0                        More than 1,50,00 BDT  ...   \n",
              "1                      1,20,000 - 1,49,999 BDT  ...   \n",
              "2                          70,000 - 99,999 BDT  ...   \n",
              "3                         Less than 30,000 BDT  ...   \n",
              "4                         Less than 30,000 BDT  ...   \n",
              "\n",
              "  Have you lost any family member(s) due to COVID-19?  \\\n",
              "0                                                 No    \n",
              "1                                                 No    \n",
              "2                                                 No    \n",
              "3                                                 No    \n",
              "4                                                 No    \n",
              "\n",
              "  Did you ever take mental health counseling?  \\\n",
              "0                                          No   \n",
              "1                                          No   \n",
              "2                                         Yes   \n",
              "3                                          No   \n",
              "4                                          No   \n",
              "\n",
              "  Did you experience any level of depression or anxiety during COVID-19 lockdown?  \\\n",
              "0                                                 No                                \n",
              "1                                                Yes                                \n",
              "2                                                 No                                \n",
              "3                                                Yes                                \n",
              "4                                                Yes                                \n",
              "\n",
              "   Feeling nervous, anxious, or on edge    \\\n",
              "0                                       1   \n",
              "1                                       2   \n",
              "2                                       0   \n",
              "3                                       1   \n",
              "4                                       2   \n",
              "\n",
              "  Not being able to stop or control worrying    \\\n",
              "0                                            0   \n",
              "1                                            2   \n",
              "2                                            0   \n",
              "3                                            1   \n",
              "4                                            1   \n",
              "\n",
              "  Worrying too much about different things  Trouble relaxing   \\\n",
              "0                                         2                 1   \n",
              "1                                         2                 2   \n",
              "2                                         0                 0   \n",
              "3                                         1                 1   \n",
              "4                                         2                 2   \n",
              "\n",
              "  Being so restless that it is hard to sit still   \\\n",
              "0                                               0   \n",
              "1                                               0   \n",
              "2                                               0   \n",
              "3                                               2   \n",
              "4                                               2   \n",
              "\n",
              "  Becoming easily annoyed or irritable   \\\n",
              "0                                     3   \n",
              "1                                     2   \n",
              "2                                     0   \n",
              "3                                     3   \n",
              "4                                     2   \n",
              "\n",
              "  Feeling afraid, as if something awful might happen   \n",
              "0                                                  2   \n",
              "1                                                  2   \n",
              "2                                                  0   \n",
              "3                                                  3   \n",
              "4                                                  1   \n",
              "\n",
              "[5 rows x 29 columns]"
            ],
            "text/html": [
              "\n",
              "  <div id=\"df-236e0eb4-d889-4345-9b98-297932068f9d\">\n",
              "    <div class=\"colab-df-container\">\n",
              "      <div>\n",
              "<style scoped>\n",
              "    .dataframe tbody tr th:only-of-type {\n",
              "        vertical-align: middle;\n",
              "    }\n",
              "\n",
              "    .dataframe tbody tr th {\n",
              "        vertical-align: top;\n",
              "    }\n",
              "\n",
              "    .dataframe thead th {\n",
              "        text-align: right;\n",
              "    }\n",
              "</style>\n",
              "<table border=\"1\" class=\"dataframe\">\n",
              "  <thead>\n",
              "    <tr style=\"text-align: right;\">\n",
              "      <th></th>\n",
              "      <th>Age</th>\n",
              "      <th>Gender</th>\n",
              "      <th>Marital Status</th>\n",
              "      <th>Profession</th>\n",
              "      <th>Family type</th>\n",
              "      <th>How would you describe your area of residence during COVID-19?</th>\n",
              "      <th>How would you describe the ease of access to the nearest medical support from your area of residence during COVID-19?</th>\n",
              "      <th>Did you live with your family members during COVID-19?</th>\n",
              "      <th>What is your current monthly income?</th>\n",
              "      <th>What is your familys current monthly income?</th>\n",
              "      <th>...</th>\n",
              "      <th>Have you lost any family member(s) due to COVID-19?</th>\n",
              "      <th>Did you ever take mental health counseling?</th>\n",
              "      <th>Did you experience any level of depression or anxiety during COVID-19 lockdown?</th>\n",
              "      <th>Feeling nervous, anxious, or on edge</th>\n",
              "      <th>Not being able to stop or control worrying</th>\n",
              "      <th>Worrying too much about different things</th>\n",
              "      <th>Trouble relaxing</th>\n",
              "      <th>Being so restless that it is hard to sit still</th>\n",
              "      <th>Becoming easily annoyed or irritable</th>\n",
              "      <th>Feeling afraid, as if something awful might happen</th>\n",
              "    </tr>\n",
              "  </thead>\n",
              "  <tbody>\n",
              "    <tr>\n",
              "      <th>0</th>\n",
              "      <td>18-24</td>\n",
              "      <td>Male</td>\n",
              "      <td>Unmarried</td>\n",
              "      <td>Student</td>\n",
              "      <td>Nuclear</td>\n",
              "      <td>Sub-urban</td>\n",
              "      <td>Close but Hard to Manage</td>\n",
              "      <td>Yes</td>\n",
              "      <td>Less than 10,000 BDT</td>\n",
              "      <td>More than 1,50,00 BDT</td>\n",
              "      <td>...</td>\n",
              "      <td>No</td>\n",
              "      <td>No</td>\n",
              "      <td>No</td>\n",
              "      <td>1</td>\n",
              "      <td>0</td>\n",
              "      <td>2</td>\n",
              "      <td>1</td>\n",
              "      <td>0</td>\n",
              "      <td>3</td>\n",
              "      <td>2</td>\n",
              "    </tr>\n",
              "    <tr>\n",
              "      <th>1</th>\n",
              "      <td>18-24</td>\n",
              "      <td>Female</td>\n",
              "      <td>Unmarried</td>\n",
              "      <td>Student</td>\n",
              "      <td>Nuclear</td>\n",
              "      <td>Urban</td>\n",
              "      <td>Close and Manageable.</td>\n",
              "      <td>Yes</td>\n",
              "      <td>10,000BDT - 39,000BDT</td>\n",
              "      <td>1,20,000 - 1,49,999 BDT</td>\n",
              "      <td>...</td>\n",
              "      <td>No</td>\n",
              "      <td>No</td>\n",
              "      <td>Yes</td>\n",
              "      <td>2</td>\n",
              "      <td>2</td>\n",
              "      <td>2</td>\n",
              "      <td>2</td>\n",
              "      <td>0</td>\n",
              "      <td>2</td>\n",
              "      <td>2</td>\n",
              "    </tr>\n",
              "    <tr>\n",
              "      <th>2</th>\n",
              "      <td>18-24</td>\n",
              "      <td>Male</td>\n",
              "      <td>Unmarried</td>\n",
              "      <td>Student</td>\n",
              "      <td>Nuclear</td>\n",
              "      <td>Sub-urban</td>\n",
              "      <td>Close and Manageable.</td>\n",
              "      <td>Yes</td>\n",
              "      <td>I do not have any income at the moment</td>\n",
              "      <td>70,000 - 99,999 BDT</td>\n",
              "      <td>...</td>\n",
              "      <td>No</td>\n",
              "      <td>Yes</td>\n",
              "      <td>No</td>\n",
              "      <td>0</td>\n",
              "      <td>0</td>\n",
              "      <td>0</td>\n",
              "      <td>0</td>\n",
              "      <td>0</td>\n",
              "      <td>0</td>\n",
              "      <td>0</td>\n",
              "    </tr>\n",
              "    <tr>\n",
              "      <th>3</th>\n",
              "      <td>18-24</td>\n",
              "      <td>Male</td>\n",
              "      <td>Unmarried</td>\n",
              "      <td>Student</td>\n",
              "      <td>Nuclear</td>\n",
              "      <td>Rural</td>\n",
              "      <td>Close and Manageable.</td>\n",
              "      <td>Yes</td>\n",
              "      <td>Less than 10,000 BDT</td>\n",
              "      <td>Less than 30,000 BDT</td>\n",
              "      <td>...</td>\n",
              "      <td>No</td>\n",
              "      <td>No</td>\n",
              "      <td>Yes</td>\n",
              "      <td>1</td>\n",
              "      <td>1</td>\n",
              "      <td>1</td>\n",
              "      <td>1</td>\n",
              "      <td>2</td>\n",
              "      <td>3</td>\n",
              "      <td>3</td>\n",
              "    </tr>\n",
              "    <tr>\n",
              "      <th>4</th>\n",
              "      <td>18-24</td>\n",
              "      <td>Male</td>\n",
              "      <td>Unmarried</td>\n",
              "      <td>Student</td>\n",
              "      <td>Nuclear</td>\n",
              "      <td>Rural</td>\n",
              "      <td>Close but Hard to Manage</td>\n",
              "      <td>Yes</td>\n",
              "      <td>I do not have any income at the moment</td>\n",
              "      <td>Less than 30,000 BDT</td>\n",
              "      <td>...</td>\n",
              "      <td>No</td>\n",
              "      <td>No</td>\n",
              "      <td>Yes</td>\n",
              "      <td>2</td>\n",
              "      <td>1</td>\n",
              "      <td>2</td>\n",
              "      <td>2</td>\n",
              "      <td>2</td>\n",
              "      <td>2</td>\n",
              "      <td>1</td>\n",
              "    </tr>\n",
              "  </tbody>\n",
              "</table>\n",
              "<p>5 rows × 29 columns</p>\n",
              "</div>\n",
              "      <button class=\"colab-df-convert\" onclick=\"convertToInteractive('df-236e0eb4-d889-4345-9b98-297932068f9d')\"\n",
              "              title=\"Convert this dataframe to an interactive table.\"\n",
              "              style=\"display:none;\">\n",
              "        \n",
              "  <svg xmlns=\"http://www.w3.org/2000/svg\" height=\"24px\"viewBox=\"0 0 24 24\"\n",
              "       width=\"24px\">\n",
              "    <path d=\"M0 0h24v24H0V0z\" fill=\"none\"/>\n",
              "    <path d=\"M18.56 5.44l.94 2.06.94-2.06 2.06-.94-2.06-.94-.94-2.06-.94 2.06-2.06.94zm-11 1L8.5 8.5l.94-2.06 2.06-.94-2.06-.94L8.5 2.5l-.94 2.06-2.06.94zm10 10l.94 2.06.94-2.06 2.06-.94-2.06-.94-.94-2.06-.94 2.06-2.06.94z\"/><path d=\"M17.41 7.96l-1.37-1.37c-.4-.4-.92-.59-1.43-.59-.52 0-1.04.2-1.43.59L10.3 9.45l-7.72 7.72c-.78.78-.78 2.05 0 2.83L4 21.41c.39.39.9.59 1.41.59.51 0 1.02-.2 1.41-.59l7.78-7.78 2.81-2.81c.8-.78.8-2.07 0-2.86zM5.41 20L4 18.59l7.72-7.72 1.47 1.35L5.41 20z\"/>\n",
              "  </svg>\n",
              "      </button>\n",
              "      \n",
              "  <style>\n",
              "    .colab-df-container {\n",
              "      display:flex;\n",
              "      flex-wrap:wrap;\n",
              "      gap: 12px;\n",
              "    }\n",
              "\n",
              "    .colab-df-convert {\n",
              "      background-color: #E8F0FE;\n",
              "      border: none;\n",
              "      border-radius: 50%;\n",
              "      cursor: pointer;\n",
              "      display: none;\n",
              "      fill: #1967D2;\n",
              "      height: 32px;\n",
              "      padding: 0 0 0 0;\n",
              "      width: 32px;\n",
              "    }\n",
              "\n",
              "    .colab-df-convert:hover {\n",
              "      background-color: #E2EBFA;\n",
              "      box-shadow: 0px 1px 2px rgba(60, 64, 67, 0.3), 0px 1px 3px 1px rgba(60, 64, 67, 0.15);\n",
              "      fill: #174EA6;\n",
              "    }\n",
              "\n",
              "    [theme=dark] .colab-df-convert {\n",
              "      background-color: #3B4455;\n",
              "      fill: #D2E3FC;\n",
              "    }\n",
              "\n",
              "    [theme=dark] .colab-df-convert:hover {\n",
              "      background-color: #434B5C;\n",
              "      box-shadow: 0px 1px 3px 1px rgba(0, 0, 0, 0.15);\n",
              "      filter: drop-shadow(0px 1px 2px rgba(0, 0, 0, 0.3));\n",
              "      fill: #FFFFFF;\n",
              "    }\n",
              "  </style>\n",
              "\n",
              "      <script>\n",
              "        const buttonEl =\n",
              "          document.querySelector('#df-236e0eb4-d889-4345-9b98-297932068f9d button.colab-df-convert');\n",
              "        buttonEl.style.display =\n",
              "          google.colab.kernel.accessAllowed ? 'block' : 'none';\n",
              "\n",
              "        async function convertToInteractive(key) {\n",
              "          const element = document.querySelector('#df-236e0eb4-d889-4345-9b98-297932068f9d');\n",
              "          const dataTable =\n",
              "            await google.colab.kernel.invokeFunction('convertToInteractive',\n",
              "                                                     [key], {});\n",
              "          if (!dataTable) return;\n",
              "\n",
              "          const docLinkHtml = 'Like what you see? Visit the ' +\n",
              "            '<a target=\"_blank\" href=https://colab.research.google.com/notebooks/data_table.ipynb>data table notebook</a>'\n",
              "            + ' to learn more about interactive tables.';\n",
              "          element.innerHTML = '';\n",
              "          dataTable['output_type'] = 'display_data';\n",
              "          await google.colab.output.renderOutput(dataTable, element);\n",
              "          const docLink = document.createElement('div');\n",
              "          docLink.innerHTML = docLinkHtml;\n",
              "          element.appendChild(docLink);\n",
              "        }\n",
              "      </script>\n",
              "    </div>\n",
              "  </div>\n",
              "  "
            ]
          },
          "metadata": {},
          "execution_count": 8
        }
      ]
    },
    {
      "cell_type": "markdown",
      "source": [
        "## Modifying and visualizing data"
      ],
      "metadata": {
        "id": "huaOBT2reLcK"
      }
    },
    {
      "cell_type": "code",
      "source": [
        "#Renaming the column titles.\n",
        "newAttributeNames = {'Age':'age', 'Gender':'gender', 'Marital Status':'mar_status', 'Profession':'profession',\n",
        "       'Family type':'family_type',\n",
        "       'How would you describe your area of residence during COVID-19?':'res_area',\n",
        "       'How would you describe the ease of access to the nearest medical support from your area of residence during COVID-19?':'med_support',\n",
        "       'Did you live with your family members during COVID-19?':'living_style',\n",
        "       'What is your current monthly income?':'monthly_income',\n",
        "       'What is your familys current monthly income?':'family_income',\n",
        "       'Did your family have a consistent monthly income during COVID-19?':'earn_consistency',\n",
        "       'Who is the primary earner of your family?':'prim_earner',\n",
        "       'Did you lose your job during COVID-19?':'job_covid',\n",
        "       'Did any of your family member(s) lose jobs during COVID-19?':'lose_job',\n",
        "       'Were your ever pressured to work extra hours during COVID-19 by your employer?':'work_pressure',\n",
        "       'Do you work from home currently?':'work_home',\n",
        "       'Did you have to discontinue your studies during COVID-19? ':'study',\n",
        "       'Have you ever been infected with COVID-19?':'covid_infec',\n",
        "       'Has any of your family member(s) ever been infected with COVID-19?':'covid_infec_fam',\n",
        "       'Have you lost any family member(s) due to COVID-19?':'lose_family',\n",
        "       'Did you ever take mental health counseling?':'mental_counsel',\n",
        "       'Did you experience any level of depression or anxiety during COVID-19 lockdown?':'anx_covid',\n",
        "       ' Feeling nervous, anxious, or on edge  ':'psy_nervous',\n",
        "       'Not being able to stop or control worrying  ':'psy_worry',\n",
        "       'Worrying too much about different things ':'psy_diff_worry', 'Trouble relaxing ':'psy_trouble_relax',\n",
        "       'Being so restless that it is hard to sit still ':'psy_restless',\n",
        "       'Becoming easily annoyed or irritable ':'psy_annoy',\n",
        "       'Feeling afraid, as if something awful might happen ':'psy_fear'} \n",
        "df.rename(newAttributeNames, axis=1, inplace=True)"
      ],
      "metadata": {
        "id": "OpG1r9oc6VvN"
      },
      "execution_count": 9,
      "outputs": []
    },
    {
      "cell_type": "code",
      "source": [
        "df.columns"
      ],
      "metadata": {
        "colab": {
          "base_uri": "https://localhost:8080/"
        },
        "id": "9FJVWvHa9A-I",
        "outputId": "22955b14-9ddd-4655-b336-ed2eaaea221d"
      },
      "execution_count": 10,
      "outputs": [
        {
          "output_type": "execute_result",
          "data": {
            "text/plain": [
              "Index(['age', 'gender', 'mar_status', 'profession', 'family_type', 'res_area',\n",
              "       'med_support', 'living_style', 'monthly_income', 'family_income',\n",
              "       'earn_consistency', 'prim_earner', 'job_covid', 'lose_job',\n",
              "       'work_pressure', 'work_home', 'study', 'covid_infec', 'covid_infec_fam',\n",
              "       'lose_family', 'mental_counsel', 'anx_covid', 'psy_nervous',\n",
              "       'psy_worry', 'psy_diff_worry', 'psy_trouble_relax', 'psy_restless',\n",
              "       'psy_annoy', 'psy_fear'],\n",
              "      dtype='object')"
            ]
          },
          "metadata": {},
          "execution_count": 10
        }
      ]
    },
    {
      "cell_type": "code",
      "source": [
        "unique_vals = df['age'].unique()\n",
        "print(unique_vals)\n",
        "print(len(unique_vals))"
      ],
      "metadata": {
        "colab": {
          "base_uri": "https://localhost:8080/"
        },
        "id": "96P3FgjJ9aVQ",
        "outputId": "ee4a8d13-022c-49ac-9633-7f78d097f00a"
      },
      "execution_count": 11,
      "outputs": [
        {
          "output_type": "stream",
          "name": "stdout",
          "text": [
            "['18-24' '25-34' '45-54' '35-44' 'Below 18']\n",
            "5\n"
          ]
        }
      ]
    },
    {
      "cell_type": "code",
      "source": [
        "#Importing all necessary libraries\n",
        "import numpy as np\n",
        "from matplotlib import pyplot as plt \n",
        "import seaborn as sns\n",
        "\n",
        "import warnings\n",
        "warnings.filterwarnings('ignore')\n",
        "%matplotlib inline"
      ],
      "metadata": {
        "id": "cBo2Clr443tH"
      },
      "execution_count": 12,
      "outputs": []
    },
    {
      "cell_type": "code",
      "source": [
        "sns.set(style = 'whitegrid')\n",
        "sns.histplot(x='gender', data = df);"
      ],
      "metadata": {
        "colab": {
          "base_uri": "https://localhost:8080/",
          "height": 285
        },
        "id": "Slz-usmW45K9",
        "outputId": "8cfd430b-73e0-401b-8779-f0f95dbacfd7"
      },
      "execution_count": 13,
      "outputs": [
        {
          "output_type": "display_data",
          "data": {
            "text/plain": [
              "<Figure size 432x288 with 1 Axes>"
            ],
            "image/png": "[encoded data removed]"
          },
          "metadata": {}
        }
      ]
    },
    {
      "cell_type": "code",
      "source": [
        "sns.set(style = 'whitegrid')\n",
        "sns.histplot(x='age', data = df); #may be consideredvto drop"
      ],
      "metadata": {
        "colab": {
          "base_uri": "https://localhost:8080/",
          "height": 285
        },
        "id": "NSr0xn0l91hL",
        "outputId": "1e6e7f24-8c79-4a78-abc6-0a8ac3e04bb9"
      },
      "execution_count": 14,
      "outputs": [
        {
          "output_type": "display_data",
          "data": {
            "text/plain": [
              "<Figure size 432x288 with 1 Axes>"
            ],
            "image/png": "[encoded data removed]"
          },
          "metadata": {}
        }
      ]
    },
    {
      "cell_type": "markdown",
      "source": [
        "Assigning label to categorical value of age."
      ],
      "metadata": {
        "id": "pQFh7eNsfAH-"
      }
    },
    {
      "cell_type": "code",
      "source": [
        "#Scaling age\n",
        "# 'Below 18' - CH\n",
        "# '18 - 24' - YA\n",
        "# '25 - 34' - AD\n",
        "# '35 - 44' - OA\n",
        "# '45 - 54' - OL\n",
        "\n",
        "ageScale = {'Below 18':'CH', '18-24':'YA',\n",
        "       '25-34':'AD', '35-44':'OA',\n",
        "       '45-54':'OL'}"
      ],
      "metadata": {
        "id": "FSca1hPl93p1"
      },
      "execution_count": 15,
      "outputs": []
    },
    {
      "cell_type": "code",
      "source": [
        "df['age'].replace(ageScale, inplace = True)"
      ],
      "metadata": {
        "id": "MyddVuXK_e7M"
      },
      "execution_count": 16,
      "outputs": []
    },
    {
      "cell_type": "code",
      "source": [
        "df.head()"
      ],
      "metadata": {
        "colab": {
          "base_uri": "https://localhost:8080/",
          "height": 438
        },
        "id": "Tzctcw-j_m4r",
        "outputId": "5d3c449b-2e12-4229-ddc0-2df95ddd7549"
      },
      "execution_count": 17,
      "outputs": [
        {
          "output_type": "execute_result",
          "data": {
            "text/plain": [
              "  age  gender mar_status profession family_type   res_area  \\\n",
              "0  YA    Male  Unmarried    Student     Nuclear  Sub-urban   \n",
              "1  YA  Female  Unmarried    Student     Nuclear      Urban   \n",
              "2  YA    Male  Unmarried    Student     Nuclear  Sub-urban   \n",
              "3  YA    Male  Unmarried    Student     Nuclear      Rural   \n",
              "4  YA    Male  Unmarried    Student     Nuclear      Rural   \n",
              "\n",
              "                med_support living_style  \\\n",
              "0  Close but Hard to Manage          Yes   \n",
              "1     Close and Manageable.          Yes   \n",
              "2     Close and Manageable.          Yes   \n",
              "3     Close and Manageable.          Yes   \n",
              "4  Close but Hard to Manage          Yes   \n",
              "\n",
              "                           monthly_income            family_income  ...  \\\n",
              "0                    Less than 10,000 BDT    More than 1,50,00 BDT  ...   \n",
              "1                   10,000BDT - 39,000BDT  1,20,000 - 1,49,999 BDT  ...   \n",
              "2  I do not have any income at the moment      70,000 - 99,999 BDT  ...   \n",
              "3                    Less than 10,000 BDT     Less than 30,000 BDT  ...   \n",
              "4  I do not have any income at the moment     Less than 30,000 BDT  ...   \n",
              "\n",
              "  lose_family mental_counsel anx_covid psy_nervous psy_worry psy_diff_worry  \\\n",
              "0          No             No        No           1         0              2   \n",
              "1          No             No       Yes           2         2              2   \n",
              "2          No            Yes        No           0         0              0   \n",
              "3          No             No       Yes           1         1              1   \n",
              "4          No             No       Yes           2         1              2   \n",
              "\n",
              "  psy_trouble_relax psy_restless psy_annoy psy_fear  \n",
              "0                 1            0         3        2  \n",
              "1                 2            0         2        2  \n",
              "2                 0            0         0        0  \n",
              "3                 1            2         3        3  \n",
              "4                 2            2         2        1  \n",
              "\n",
              "[5 rows x 29 columns]"
            ],
            "text/html": [
              "\n",
              "  <div id=\"df-ddddcfe7-a2fb-4c51-9776-14397f019972\">\n",
              "    <div class=\"colab-df-container\">\n",
              "      <div>\n",
              "<style scoped>\n",
              "    .dataframe tbody tr th:only-of-type {\n",
              "        vertical-align: middle;\n",
              "    }\n",
              "\n",
              "    .dataframe tbody tr th {\n",
              "        vertical-align: top;\n",
              "    }\n",
              "\n",
              "    .dataframe thead th {\n",
              "        text-align: right;\n",
              "    }\n",
              "</style>\n",
              "<table border=\"1\" class=\"dataframe\">\n",
              "  <thead>\n",
              "    <tr style=\"text-align: right;\">\n",
              "      <th></th>\n",
              "      <th>age</th>\n",
              "      <th>gender</th>\n",
              "      <th>mar_status</th>\n",
              "      <th>profession</th>\n",
              "      <th>family_type</th>\n",
              "      <th>res_area</th>\n",
              "      <th>med_support</th>\n",
              "      <th>living_style</th>\n",
              "      <th>monthly_income</th>\n",
              "      <th>family_income</th>\n",
              "      <th>...</th>\n",
              "      <th>lose_family</th>\n",
              "      <th>mental_counsel</th>\n",
              "      <th>anx_covid</th>\n",
              "      <th>psy_nervous</th>\n",
              "      <th>psy_worry</th>\n",
              "      <th>psy_diff_worry</th>\n",
              "      <th>psy_trouble_relax</th>\n",
              "      <th>psy_restless</th>\n",
              "      <th>psy_annoy</th>\n",
              "      <th>psy_fear</th>\n",
              "    </tr>\n",
              "  </thead>\n",
              "  <tbody>\n",
              "    <tr>\n",
              "      <th>0</th>\n",
              "      <td>YA</td>\n",
              "      <td>Male</td>\n",
              "      <td>Unmarried</td>\n",
              "      <td>Student</td>\n",
              "      <td>Nuclear</td>\n",
              "      <td>Sub-urban</td>\n",
              "      <td>Close but Hard to Manage</td>\n",
              "      <td>Yes</td>\n",
              "      <td>Less than 10,000 BDT</td>\n",
              "      <td>More than 1,50,00 BDT</td>\n",
              "      <td>...</td>\n",
              "      <td>No</td>\n",
              "      <td>No</td>\n",
              "      <td>No</td>\n",
              "      <td>1</td>\n",
              "      <td>0</td>\n",
              "      <td>2</td>\n",
              "      <td>1</td>\n",
              "      <td>0</td>\n",
              "      <td>3</td>\n",
              "      <td>2</td>\n",
              "    </tr>\n",
              "    <tr>\n",
              "      <th>1</th>\n",
              "      <td>YA</td>\n",
              "      <td>Female</td>\n",
              "      <td>Unmarried</td>\n",
              "      <td>Student</td>\n",
              "      <td>Nuclear</td>\n",
              "      <td>Urban</td>\n",
              "      <td>Close and Manageable.</td>\n",
              "      <td>Yes</td>\n",
              "      <td>10,000BDT - 39,000BDT</td>\n",
              "      <td>1,20,000 - 1,49,999 BDT</td>\n",
              "      <td>...</td>\n",
              "      <td>No</td>\n",
              "      <td>No</td>\n",
              "      <td>Yes</td>\n",
              "      <td>2</td>\n",
              "      <td>2</td>\n",
              "      <td>2</td>\n",
              "      <td>2</td>\n",
              "      <td>0</td>\n",
              "      <td>2</td>\n",
              "      <td>2</td>\n",
              "    </tr>\n",
              "    <tr>\n",
              "      <th>2</th>\n",
              "      <td>YA</td>\n",
              "      <td>Male</td>\n",
              "      <td>Unmarried</td>\n",
              "      <td>Student</td>\n",
              "      <td>Nuclear</td>\n",
              "      <td>Sub-urban</td>\n",
              "      <td>Close and Manageable.</td>\n",
              "      <td>Yes</td>\n",
              "      <td>I do not have any income at the moment</td>\n",
              "      <td>70,000 - 99,999 BDT</td>\n",
              "      <td>...</td>\n",
              "      <td>No</td>\n",
              "      <td>Yes</td>\n",
              "      <td>No</td>\n",
              "      <td>0</td>\n",
              "      <td>0</td>\n",
              "      <td>0</td>\n",
              "      <td>0</td>\n",
              "      <td>0</td>\n",
              "      <td>0</td>\n",
              "      <td>0</td>\n",
              "    </tr>\n",
              "    <tr>\n",
              "      <th>3</th>\n",
              "      <td>YA</td>\n",
              "      <td>Male</td>\n",
              "      <td>Unmarried</td>\n",
              "      <td>Student</td>\n",
              "      <td>Nuclear</td>\n",
              "      <td>Rural</td>\n",
              "      <td>Close and Manageable.</td>\n",
              "      <td>Yes</td>\n",
              "      <td>Less than 10,000 BDT</td>\n",
              "      <td>Less than 30,000 BDT</td>\n",
              "      <td>...</td>\n",
              "      <td>No</td>\n",
              "      <td>No</td>\n",
              "      <td>Yes</td>\n",
              "      <td>1</td>\n",
              "      <td>1</td>\n",
              "      <td>1</td>\n",
              "      <td>1</td>\n",
              "      <td>2</td>\n",
              "      <td>3</td>\n",
              "      <td>3</td>\n",
              "    </tr>\n",
              "    <tr>\n",
              "      <th>4</th>\n",
              "      <td>YA</td>\n",
              "      <td>Male</td>\n",
              "      <td>Unmarried</td>\n",
              "      <td>Student</td>\n",
              "      <td>Nuclear</td>\n",
              "      <td>Rural</td>\n",
              "      <td>Close but Hard to Manage</td>\n",
              "      <td>Yes</td>\n",
              "      <td>I do not have any income at the moment</td>\n",
              "      <td>Less than 30,000 BDT</td>\n",
              "      <td>...</td>\n",
              "      <td>No</td>\n",
              "      <td>No</td>\n",
              "      <td>Yes</td>\n",
              "      <td>2</td>\n",
              "      <td>1</td>\n",
              "      <td>2</td>\n",
              "      <td>2</td>\n",
              "      <td>2</td>\n",
              "      <td>2</td>\n",
              "      <td>1</td>\n",
              "    </tr>\n",
              "  </tbody>\n",
              "</table>\n",
              "<p>5 rows × 29 columns</p>\n",
              "</div>\n",
              "      <button class=\"colab-df-convert\" onclick=\"convertToInteractive('df-ddddcfe7-a2fb-4c51-9776-14397f019972')\"\n",
              "              title=\"Convert this dataframe to an interactive table.\"\n",
              "              style=\"display:none;\">\n",
              "        \n",
              "  <svg xmlns=\"http://www.w3.org/2000/svg\" height=\"24px\"viewBox=\"0 0 24 24\"\n",
              "       width=\"24px\">\n",
              "    <path d=\"M0 0h24v24H0V0z\" fill=\"none\"/>\n",
              "    <path d=\"M18.56 5.44l.94 2.06.94-2.06 2.06-.94-2.06-.94-.94-2.06-.94 2.06-2.06.94zm-11 1L8.5 8.5l.94-2.06 2.06-.94-2.06-.94L8.5 2.5l-.94 2.06-2.06.94zm10 10l.94 2.06.94-2.06 2.06-.94-2.06-.94-.94-2.06-.94 2.06-2.06.94z\"/><path d=\"M17.41 7.96l-1.37-1.37c-.4-.4-.92-.59-1.43-.59-.52 0-1.04.2-1.43.59L10.3 9.45l-7.72 7.72c-.78.78-.78 2.05 0 2.83L4 21.41c.39.39.9.59 1.41.59.51 0 1.02-.2 1.41-.59l7.78-7.78 2.81-2.81c.8-.78.8-2.07 0-2.86zM5.41 20L4 18.59l7.72-7.72 1.47 1.35L5.41 20z\"/>\n",
              "  </svg>\n",
              "      </button>\n",
              "      \n",
              "  <style>\n",
              "    .colab-df-container {\n",
              "      display:flex;\n",
              "      flex-wrap:wrap;\n",
              "      gap: 12px;\n",
              "    }\n",
              "\n",
              "    .colab-df-convert {\n",
              "      background-color: #E8F0FE;\n",
              "      border: none;\n",
              "      border-radius: 50%;\n",
              "      cursor: pointer;\n",
              "      display: none;\n",
              "      fill: #1967D2;\n",
              "      height: 32px;\n",
              "      padding: 0 0 0 0;\n",
              "      width: 32px;\n",
              "    }\n",
              "\n",
              "    .colab-df-convert:hover {\n",
              "      background-color: #E2EBFA;\n",
              "      box-shadow: 0px 1px 2px rgba(60, 64, 67, 0.3), 0px 1px 3px 1px rgba(60, 64, 67, 0.15);\n",
              "      fill: #174EA6;\n",
              "    }\n",
              "\n",
              "    [theme=dark] .colab-df-convert {\n",
              "      background-color: #3B4455;\n",
              "      fill: #D2E3FC;\n",
              "    }\n",
              "\n",
              "    [theme=dark] .colab-df-convert:hover {\n",
              "      background-color: #434B5C;\n",
              "      box-shadow: 0px 1px 3px 1px rgba(0, 0, 0, 0.15);\n",
              "      filter: drop-shadow(0px 1px 2px rgba(0, 0, 0, 0.3));\n",
              "      fill: #FFFFFF;\n",
              "    }\n",
              "  </style>\n",
              "\n",
              "      <script>\n",
              "        const buttonEl =\n",
              "          document.querySelector('#df-ddddcfe7-a2fb-4c51-9776-14397f019972 button.colab-df-convert');\n",
              "        buttonEl.style.display =\n",
              "          google.colab.kernel.accessAllowed ? 'block' : 'none';\n",
              "\n",
              "        async function convertToInteractive(key) {\n",
              "          const element = document.querySelector('#df-ddddcfe7-a2fb-4c51-9776-14397f019972');\n",
              "          const dataTable =\n",
              "            await google.colab.kernel.invokeFunction('convertToInteractive',\n",
              "                                                     [key], {});\n",
              "          if (!dataTable) return;\n",
              "\n",
              "          const docLinkHtml = 'Like what you see? Visit the ' +\n",
              "            '<a target=\"_blank\" href=https://colab.research.google.com/notebooks/data_table.ipynb>data table notebook</a>'\n",
              "            + ' to learn more about interactive tables.';\n",
              "          element.innerHTML = '';\n",
              "          dataTable['output_type'] = 'display_data';\n",
              "          await google.colab.output.renderOutput(dataTable, element);\n",
              "          const docLink = document.createElement('div');\n",
              "          docLink.innerHTML = docLinkHtml;\n",
              "          element.appendChild(docLink);\n",
              "        }\n",
              "      </script>\n",
              "    </div>\n",
              "  </div>\n",
              "  "
            ]
          },
          "metadata": {},
          "execution_count": 17
        }
      ]
    },
    {
      "cell_type": "code",
      "source": [
        "sns.set(style = 'whitegrid')\n",
        "sns.histplot(x='age', data = df); #may be consideredvto drop"
      ],
      "metadata": {
        "colab": {
          "base_uri": "https://localhost:8080/",
          "height": 285
        },
        "id": "7iCU69_O_naT",
        "outputId": "0bb6d2e0-4145-4f6c-f924-ea2a3ec6feef"
      },
      "execution_count": 18,
      "outputs": [
        {
          "output_type": "display_data",
          "data": {
            "text/plain": [
              "<Figure size 432x288 with 1 Axes>"
            ],
            "image/png": "[encoded data removed]"
          },
          "metadata": {}
        }
      ]
    },
    {
      "cell_type": "code",
      "source": [
        "sns.countplot(x='covid_infec', data = df)"
      ],
      "metadata": {
        "colab": {
          "base_uri": "https://localhost:8080/",
          "height": 302
        },
        "id": "-hrBAbBbRH7s",
        "outputId": "59239ece-8307-43c9-e741-438ff2a9a26e"
      },
      "execution_count": 19,
      "outputs": [
        {
          "output_type": "execute_result",
          "data": {
            "text/plain": [
              "<matplotlib.axes._subplots.AxesSubplot at 0x7f826643bbd0>"
            ]
          },
          "metadata": {},
          "execution_count": 19
        },
        {
          "output_type": "display_data",
          "data": {
            "text/plain": [
              "<Figure size 432x288 with 1 Axes>"
            ],
            "image/png": "[encoded data removed]"
          },
          "metadata": {}
        }
      ]
    },
    {
      "cell_type": "code",
      "source": [
        "sns.countplot(x='covid_infec_fam', data = df)"
      ],
      "metadata": {
        "colab": {
          "base_uri": "https://localhost:8080/",
          "height": 302
        },
        "id": "hfBZb-HOR6lx",
        "outputId": "5e74a469-611e-49dc-b7ae-5c3fcc7d4375"
      },
      "execution_count": 20,
      "outputs": [
        {
          "output_type": "execute_result",
          "data": {
            "text/plain": [
              "<matplotlib.axes._subplots.AxesSubplot at 0x7f8272d9eb10>"
            ]
          },
          "metadata": {},
          "execution_count": 20
        },
        {
          "output_type": "display_data",
          "data": {
            "text/plain": [
              "<Figure size 432x288 with 1 Axes>"
            ],
            "image/png": "[encoded data removed]"
          },
          "metadata": {}
        }
      ]
    },
    {
      "cell_type": "code",
      "source": [
        "sns.countplot(x='earn_consistency', data = df)"
      ],
      "metadata": {
        "colab": {
          "base_uri": "https://localhost:8080/",
          "height": 302
        },
        "id": "LCLGKLI0R75J",
        "outputId": "3fb3b7a8-471e-46e8-b022-5355a0d39266"
      },
      "execution_count": 21,
      "outputs": [
        {
          "output_type": "execute_result",
          "data": {
            "text/plain": [
              "<matplotlib.axes._subplots.AxesSubplot at 0x7f8266370090>"
            ]
          },
          "metadata": {},
          "execution_count": 21
        },
        {
          "output_type": "display_data",
          "data": {
            "text/plain": [
              "<Figure size 432x288 with 1 Axes>"
            ],
            "image/png": "[encoded data removed]"
          },
          "metadata": {}
        }
      ]
    },
    {
      "cell_type": "code",
      "source": [
        "sns.countplot(x='lose_job', data = df)"
      ],
      "metadata": {
        "colab": {
          "base_uri": "https://localhost:8080/",
          "height": 304
        },
        "id": "Uo2sT3YhR-80",
        "outputId": "107fcf80-cd89-4784-f5fb-e78f02ed3e0a"
      },
      "execution_count": 22,
      "outputs": [
        {
          "output_type": "execute_result",
          "data": {
            "text/plain": [
              "<matplotlib.axes._subplots.AxesSubplot at 0x7f82662d5ed0>"
            ]
          },
          "metadata": {},
          "execution_count": 22
        },
        {
          "output_type": "display_data",
          "data": {
            "text/plain": [
              "<Figure size 432x288 with 1 Axes>"
            ],
            "image/png": "[encoded data removed]"
          },
          "metadata": {}
        }
      ]
    },
    {
      "cell_type": "code",
      "source": [
        "sns.countplot(x='study', data = df)"
      ],
      "metadata": {
        "colab": {
          "base_uri": "https://localhost:8080/",
          "height": 302
        },
        "id": "zLpTjDWYSDdH",
        "outputId": "77528494-e118-4cef-ad43-92d41a3c732a"
      },
      "execution_count": 23,
      "outputs": [
        {
          "output_type": "execute_result",
          "data": {
            "text/plain": [
              "<matplotlib.axes._subplots.AxesSubplot at 0x7f82672e0b90>"
            ]
          },
          "metadata": {},
          "execution_count": 23
        },
        {
          "output_type": "display_data",
          "data": {
            "text/plain": [
              "<Figure size 432x288 with 1 Axes>"
            ],
            "image/png": "[encoded data removed]"
          },
          "metadata": {}
        }
      ]
    },
    {
      "cell_type": "code",
      "source": [
        "sns.countplot(x='lose_family', data = df)"
      ],
      "metadata": {
        "colab": {
          "base_uri": "https://localhost:8080/",
          "height": 302
        },
        "id": "oFukix8GSHIo",
        "outputId": "09ba165a-7e7c-4811-d122-ed8032d6927c"
      },
      "execution_count": 24,
      "outputs": [
        {
          "output_type": "execute_result",
          "data": {
            "text/plain": [
              "<matplotlib.axes._subplots.AxesSubplot at 0x7f8266239990>"
            ]
          },
          "metadata": {},
          "execution_count": 24
        },
        {
          "output_type": "display_data",
          "data": {
            "text/plain": [
              "<Figure size 432x288 with 1 Axes>"
            ],
            "image/png": "[encoded data removed]"
          },
          "metadata": {}
        }
      ]
    },
    {
      "cell_type": "code",
      "source": [
        "sns.countplot(x='mental_counsel', data = df)"
      ],
      "metadata": {
        "colab": {
          "base_uri": "https://localhost:8080/",
          "height": 302
        },
        "id": "3e0IGOGJSLKY",
        "outputId": "48f9b0d3-bada-4710-a1f2-9a740214df36"
      },
      "execution_count": 25,
      "outputs": [
        {
          "output_type": "execute_result",
          "data": {
            "text/plain": [
              "<matplotlib.axes._subplots.AxesSubplot at 0x7f8266181a90>"
            ]
          },
          "metadata": {},
          "execution_count": 25
        },
        {
          "output_type": "display_data",
          "data": {
            "text/plain": [
              "<Figure size 432x288 with 1 Axes>"
            ],
            "image/png": "[encoded data removed]"
          },
          "metadata": {}
        }
      ]
    },
    {
      "cell_type": "code",
      "source": [
        "sns.countplot(x='anx_covid', data = df)"
      ],
      "metadata": {
        "colab": {
          "base_uri": "https://localhost:8080/",
          "height": 302
        },
        "id": "oO94IjiWSNLv",
        "outputId": "3b44c95d-1240-4bae-af58-781c75e8b34e"
      },
      "execution_count": 26,
      "outputs": [
        {
          "output_type": "execute_result",
          "data": {
            "text/plain": [
              "<matplotlib.axes._subplots.AxesSubplot at 0x7f826615fd10>"
            ]
          },
          "metadata": {},
          "execution_count": 26
        },
        {
          "output_type": "display_data",
          "data": {
            "text/plain": [
              "<Figure size 432x288 with 1 Axes>"
            ],
            "image/png": "[encoded data removed]"
          },
          "metadata": {}
        }
      ]
    },
    {
      "cell_type": "code",
      "source": [
        "sns.countplot(x='work_pressure', data = df)"
      ],
      "metadata": {
        "colab": {
          "base_uri": "https://localhost:8080/",
          "height": 302
        },
        "id": "j_wMNcLJS0XX",
        "outputId": "ce3201ae-7f2d-43a9-c08a-274aada07dd3"
      },
      "execution_count": 27,
      "outputs": [
        {
          "output_type": "execute_result",
          "data": {
            "text/plain": [
              "<matplotlib.axes._subplots.AxesSubplot at 0x7f82660c1490>"
            ]
          },
          "metadata": {},
          "execution_count": 27
        },
        {
          "output_type": "display_data",
          "data": {
            "text/plain": [
              "<Figure size 432x288 with 1 Axes>"
            ],
            "image/png": "[encoded data removed]"
          },
          "metadata": {}
        }
      ]
    },
    {
      "cell_type": "markdown",
      "source": [
        "Visualzing the categories of psychological evaluation by quantity. "
      ],
      "metadata": {
        "id": "eNddtFaOfJwi"
      }
    },
    {
      "cell_type": "code",
      "source": [
        "#Scaling Emotional responses (in contrast to nervousness)\n",
        "#Scale Range : 1-5 represents Least positive - Most Positive\n",
        "unique_vals = df['psy_nervous'].unique()\n",
        "unique_vals"
      ],
      "metadata": {
        "id": "FxWsOEkWAI0M",
        "colab": {
          "base_uri": "https://localhost:8080/"
        },
        "outputId": "00df28f1-6a2f-460d-a029-753ab912a991"
      },
      "execution_count": 28,
      "outputs": [
        {
          "output_type": "execute_result",
          "data": {
            "text/plain": [
              "array([1, 2, 0, 3])"
            ]
          },
          "metadata": {},
          "execution_count": 28
        }
      ]
    },
    {
      "cell_type": "code",
      "source": [
        "sns.countplot(x='psy_nervous',data=df)"
      ],
      "metadata": {
        "colab": {
          "base_uri": "https://localhost:8080/",
          "height": 304
        },
        "id": "HI6YO-wNlknx",
        "outputId": "fb5de63b-8e47-4915-e524-c06492ffa933"
      },
      "execution_count": 29,
      "outputs": [
        {
          "output_type": "execute_result",
          "data": {
            "text/plain": [
              "<matplotlib.axes._subplots.AxesSubplot at 0x7f8266211bd0>"
            ]
          },
          "metadata": {},
          "execution_count": 29
        },
        {
          "output_type": "display_data",
          "data": {
            "text/plain": [
              "<Figure size 432x288 with 1 Axes>"
            ],
            "image/png": "[encoded data removed]"
          },
          "metadata": {}
        }
      ]
    },
    {
      "cell_type": "code",
      "source": [
        "sns.countplot(x='psy_worry',data=df)"
      ],
      "metadata": {
        "colab": {
          "base_uri": "https://localhost:8080/",
          "height": 302
        },
        "id": "xRF15fFellaK",
        "outputId": "d1ce1887-2423-41f7-9c4b-b7885f78e07d"
      },
      "execution_count": 30,
      "outputs": [
        {
          "output_type": "execute_result",
          "data": {
            "text/plain": [
              "<matplotlib.axes._subplots.AxesSubplot at 0x7f826641c690>"
            ]
          },
          "metadata": {},
          "execution_count": 30
        },
        {
          "output_type": "display_data",
          "data": {
            "text/plain": [
              "<Figure size 432x288 with 1 Axes>"
            ],
            "image/png": "[encoded data removed]"
          },
          "metadata": {}
        }
      ]
    },
    {
      "cell_type": "code",
      "source": [
        "sns.countplot(x='psy_diff_worry',data=df)"
      ],
      "metadata": {
        "colab": {
          "base_uri": "https://localhost:8080/",
          "height": 302
        },
        "id": "6DY_66u0l1Ax",
        "outputId": "e0e128cf-26eb-49ec-b09e-4d250f5086e8"
      },
      "execution_count": 31,
      "outputs": [
        {
          "output_type": "execute_result",
          "data": {
            "text/plain": [
              "<matplotlib.axes._subplots.AxesSubplot at 0x7f8266948790>"
            ]
          },
          "metadata": {},
          "execution_count": 31
        },
        {
          "output_type": "display_data",
          "data": {
            "text/plain": [
              "<Figure size 432x288 with 1 Axes>"
            ],
            "image/png": "[encoded data removed]"
          },
          "metadata": {}
        }
      ]
    },
    {
      "cell_type": "code",
      "source": [
        "sns.countplot(x='psy_trouble_relax',data=df)"
      ],
      "metadata": {
        "colab": {
          "base_uri": "https://localhost:8080/",
          "height": 302
        },
        "id": "SoKBWGBKl5Nr",
        "outputId": "155e88ad-600d-4b3a-f54e-7ecc99630f72"
      },
      "execution_count": 32,
      "outputs": [
        {
          "output_type": "execute_result",
          "data": {
            "text/plain": [
              "<matplotlib.axes._subplots.AxesSubplot at 0x7f82662bbf10>"
            ]
          },
          "metadata": {},
          "execution_count": 32
        },
        {
          "output_type": "display_data",
          "data": {
            "text/plain": [
              "<Figure size 432x288 with 1 Axes>"
            ],
            "image/png": "[encoded data removed]"
          },
          "metadata": {}
        }
      ]
    },
    {
      "cell_type": "code",
      "source": [
        "sns.countplot(x='psy_restless',data=df)"
      ],
      "metadata": {
        "colab": {
          "base_uri": "https://localhost:8080/",
          "height": 302
        },
        "id": "jXBtuVTxmBph",
        "outputId": "00c2e9dc-8d98-4f86-ac7f-4dbf6dc46663"
      },
      "execution_count": 33,
      "outputs": [
        {
          "output_type": "execute_result",
          "data": {
            "text/plain": [
              "<matplotlib.axes._subplots.AxesSubplot at 0x7f8266082510>"
            ]
          },
          "metadata": {},
          "execution_count": 33
        },
        {
          "output_type": "display_data",
          "data": {
            "text/plain": [
              "<Figure size 432x288 with 1 Axes>"
            ],
            "image/png": "[encoded data removed]"
          },
          "metadata": {}
        }
      ]
    },
    {
      "cell_type": "code",
      "source": [
        "sns.countplot(x='psy_annoy',data=df)"
      ],
      "metadata": {
        "colab": {
          "base_uri": "https://localhost:8080/",
          "height": 302
        },
        "id": "iQn2-BuPmgZB",
        "outputId": "c15b40e1-2ca9-4768-c1db-f4396fad204b"
      },
      "execution_count": 34,
      "outputs": [
        {
          "output_type": "execute_result",
          "data": {
            "text/plain": [
              "<matplotlib.axes._subplots.AxesSubplot at 0x7f8265fdb750>"
            ]
          },
          "metadata": {},
          "execution_count": 34
        },
        {
          "output_type": "display_data",
          "data": {
            "text/plain": [
              "<Figure size 432x288 with 1 Axes>"
            ],
            "image/png": "[encoded data removed]"
          },
          "metadata": {}
        }
      ]
    },
    {
      "cell_type": "code",
      "source": [
        "sns.countplot(x='psy_fear',data=df)"
      ],
      "metadata": {
        "colab": {
          "base_uri": "https://localhost:8080/",
          "height": 302
        },
        "id": "cx5RyMCAmjr6",
        "outputId": "dbb02d72-8c84-4ce9-d954-aff7fb73ecbe"
      },
      "execution_count": 35,
      "outputs": [
        {
          "output_type": "execute_result",
          "data": {
            "text/plain": [
              "<matplotlib.axes._subplots.AxesSubplot at 0x7f8265fb2650>"
            ]
          },
          "metadata": {},
          "execution_count": 35
        },
        {
          "output_type": "display_data",
          "data": {
            "text/plain": [
              "<Figure size 432x288 with 1 Axes>"
            ],
            "image/png": "[encoded data removed]"
          },
          "metadata": {}
        }
      ]
    },
    {
      "cell_type": "markdown",
      "source": [
        "Visualizing other data points."
      ],
      "metadata": {
        "id": "KQKuf_mzfW_V"
      }
    },
    {
      "cell_type": "code",
      "source": [
        "sns.countplot(x='mar_status',data=df)"
      ],
      "metadata": {
        "colab": {
          "base_uri": "https://localhost:8080/",
          "height": 302
        },
        "id": "yvKrjL2Lmndp",
        "outputId": "aae62c02-442a-4561-8205-670da26a52ab"
      },
      "execution_count": 36,
      "outputs": [
        {
          "output_type": "execute_result",
          "data": {
            "text/plain": [
              "<matplotlib.axes._subplots.AxesSubplot at 0x7f8265f31890>"
            ]
          },
          "metadata": {},
          "execution_count": 36
        },
        {
          "output_type": "display_data",
          "data": {
            "text/plain": [
              "<Figure size 432x288 with 1 Axes>"
            ],
            "image/png": "[encoded data removed]"
          },
          "metadata": {}
        }
      ]
    },
    {
      "cell_type": "code",
      "source": [
        "sns.countplot(x='profession',data=df)"
      ],
      "metadata": {
        "colab": {
          "base_uri": "https://localhost:8080/",
          "height": 302
        },
        "id": "dQUID2oQn0ua",
        "outputId": "8588794b-c587-480c-dfa3-6674b4b0ec5c"
      },
      "execution_count": 37,
      "outputs": [
        {
          "output_type": "execute_result",
          "data": {
            "text/plain": [
              "<matplotlib.axes._subplots.AxesSubplot at 0x7f8265e95850>"
            ]
          },
          "metadata": {},
          "execution_count": 37
        },
        {
          "output_type": "display_data",
          "data": {
            "text/plain": [
              "<Figure size 432x288 with 1 Axes>"
            ],
            "image/png": "[encoded data removed]"
          },
          "metadata": {}
        }
      ]
    },
    {
      "cell_type": "code",
      "metadata": {
        "colab": {
          "base_uri": "https://localhost:8080/"
        },
        "id": "ZIpTONiwAf7q",
        "outputId": "c571e632-3f69-4ee3-8d84-ba779a1761d2"
      },
      "source": [
        "for cols in df.columns:\n",
        "    unique_vals = df[cols].unique()\n",
        "    if len(unique_vals) <= 10:\n",
        "        print(\"Feature \", cols, \" has \", len(unique_vals), \" unique values ----> \", unique_vals)\n",
        "    else:\n",
        "        print(\"Feature \", cols, \" has \", len(unique_vals), \" unique values\")"
      ],
      "execution_count": 38,
      "outputs": [
        {
          "output_type": "stream",
          "name": "stdout",
          "text": [
            "Feature  age  has  5  unique values ---->  ['YA' 'AD' 'OL' 'OA' 'CH']\n",
            "Feature  gender  has  2  unique values ---->  ['Male' 'Female']\n",
            "Feature  mar_status  has  2  unique values ---->  ['Unmarried' 'Married']\n",
            "Feature  profession  has  5  unique values ---->  ['Student' 'Employed' 'Other' 'Personal Business' 'Unemployed']\n",
            "Feature  family_type  has  2  unique values ---->  ['Nuclear' 'Extended']\n",
            "Feature  res_area  has  3  unique values ---->  ['Sub-urban' 'Urban' 'Rural']\n",
            "Feature  med_support  has  4  unique values ---->  ['Close but Hard to Manage' 'Close and Manageable.' 'Far but Manageable'\n",
            " 'Far and Hard to Manage']\n",
            "Feature  living_style  has  2  unique values ---->  ['Yes' 'No']\n",
            "Feature  monthly_income  has  8  unique values ---->  ['Less than 10,000 BDT' '10,000BDT - 39,000BDT'\n",
            " 'I do not have any income at the moment' 'More than 1,00,000 BDT'\n",
            " '70,000 BDT - 99,999BDT' '50,000BDT - 69,999BDT' '10,000BDT - 29,999 BDT'\n",
            " '30,000BDT - 49,999BDT']\n",
            "Feature  family_income  has  7  unique values ---->  ['More than 1,50,00 BDT' '1,20,000 - 1,49,999 BDT' '70,000 - 99,999 BDT'\n",
            " 'Less than 30,000 BDT' '30,000 - 49,999 BDT' '1,00,000 - 1,19,999 BDT'\n",
            " '50,000 - 69,999 BDT']\n",
            "Feature  earn_consistency  has  2  unique values ---->  ['Yes' 'No']\n",
            "Feature  prim_earner  has  5  unique values ---->  ['Father' 'Yourself' 'Other' 'Husband' 'Mother']\n",
            "Feature  job_covid  has  3  unique values ---->  ['Not applicable' 'No' 'Yes']\n",
            "Feature  lose_job  has  2  unique values ---->  ['No' 'Yes']\n",
            "Feature  work_pressure  has  3  unique values ---->  ['No' 'Not applicable' 'Yes']\n",
            "Feature  work_home  has  3  unique values ---->  ['Not applicable' 'Yes' 'No']\n",
            "Feature  study  has  3  unique values ---->  ['Yes' 'No' 'Not applicable']\n",
            "Feature  covid_infec  has  2  unique values ---->  ['No' 'Yes']\n",
            "Feature  covid_infec_fam  has  2  unique values ---->  ['No' 'Yes']\n",
            "Feature  lose_family  has  2  unique values ---->  ['No' 'Yes']\n",
            "Feature  mental_counsel  has  2  unique values ---->  ['No' 'Yes']\n",
            "Feature  anx_covid  has  2  unique values ---->  ['No' 'Yes']\n",
            "Feature  psy_nervous  has  4  unique values ---->  [1 2 0 3]\n",
            "Feature  psy_worry  has  4  unique values ---->  [0 2 1 3]\n",
            "Feature  psy_diff_worry  has  4  unique values ---->  [2 0 1 3]\n",
            "Feature  psy_trouble_relax  has  4  unique values ---->  [1 2 0 3]\n",
            "Feature  psy_restless  has  4  unique values ---->  [0 2 3 1]\n",
            "Feature  psy_annoy  has  4  unique values ---->  [3 2 0 1]\n",
            "Feature  psy_fear  has  4  unique values ---->  [2 0 3 1]\n"
          ]
        }
      ]
    },
    {
      "cell_type": "code",
      "metadata": {
        "colab": {
          "base_uri": "https://localhost:8080/"
        },
        "id": "z503d8yLJtpD",
        "outputId": "4bd72bb3-f29f-47c4-9340-597e5b613e38"
      },
      "source": [
        "unique_vals = df['med_support'].unique()\n",
        "unique_vals"
      ],
      "execution_count": 39,
      "outputs": [
        {
          "output_type": "execute_result",
          "data": {
            "text/plain": [
              "array(['Close but Hard to Manage', 'Close and Manageable.',\n",
              "       'Far but Manageable', 'Far and Hard to Manage'], dtype=object)"
            ]
          },
          "metadata": {},
          "execution_count": 39
        }
      ]
    },
    {
      "cell_type": "markdown",
      "source": [
        "Assigning label to categorical value of medical support."
      ],
      "metadata": {
        "id": "9Lp3dG85fh1x"
      }
    },
    {
      "cell_type": "code",
      "source": [
        "df['med_support'].replace({'Close but Hard to Manage':'CH', 'Far but Manageable':'FM',\n",
        "       'Close and Manageable.':'CM', 'Far and Hard to Manage':'FH'}, inplace = True)"
      ],
      "metadata": {
        "id": "3hnMCquWqona"
      },
      "execution_count": 40,
      "outputs": []
    },
    {
      "cell_type": "code",
      "source": [
        "df.head()"
      ],
      "metadata": {
        "colab": {
          "base_uri": "https://localhost:8080/",
          "height": 421
        },
        "id": "jSByiGCjqyLw",
        "outputId": "97d4ad67-c156-41ee-cbf8-8da0e53bc183"
      },
      "execution_count": 41,
      "outputs": [
        {
          "output_type": "execute_result",
          "data": {
            "text/plain": [
              "  age  gender mar_status profession family_type   res_area med_support  \\\n",
              "0  YA    Male  Unmarried    Student     Nuclear  Sub-urban          CH   \n",
              "1  YA  Female  Unmarried    Student     Nuclear      Urban          CM   \n",
              "2  YA    Male  Unmarried    Student     Nuclear  Sub-urban          CM   \n",
              "3  YA    Male  Unmarried    Student     Nuclear      Rural          CM   \n",
              "4  YA    Male  Unmarried    Student     Nuclear      Rural          CH   \n",
              "\n",
              "  living_style                          monthly_income  \\\n",
              "0          Yes                    Less than 10,000 BDT   \n",
              "1          Yes                   10,000BDT - 39,000BDT   \n",
              "2          Yes  I do not have any income at the moment   \n",
              "3          Yes                    Less than 10,000 BDT   \n",
              "4          Yes  I do not have any income at the moment   \n",
              "\n",
              "             family_income  ... lose_family mental_counsel anx_covid  \\\n",
              "0    More than 1,50,00 BDT  ...          No             No        No   \n",
              "1  1,20,000 - 1,49,999 BDT  ...          No             No       Yes   \n",
              "2      70,000 - 99,999 BDT  ...          No            Yes        No   \n",
              "3     Less than 30,000 BDT  ...          No             No       Yes   \n",
              "4     Less than 30,000 BDT  ...          No             No       Yes   \n",
              "\n",
              "  psy_nervous psy_worry psy_diff_worry psy_trouble_relax psy_restless  \\\n",
              "0           1         0              2                 1            0   \n",
              "1           2         2              2                 2            0   \n",
              "2           0         0              0                 0            0   \n",
              "3           1         1              1                 1            2   \n",
              "4           2         1              2                 2            2   \n",
              "\n",
              "  psy_annoy psy_fear  \n",
              "0         3        2  \n",
              "1         2        2  \n",
              "2         0        0  \n",
              "3         3        3  \n",
              "4         2        1  \n",
              "\n",
              "[5 rows x 29 columns]"
            ],
            "text/html": [
              "\n",
              "  <div id=\"df-34a20e3d-bf15-4acf-9f63-bbf5b9aa9ffb\">\n",
              "    <div class=\"colab-df-container\">\n",
              "      <div>\n",
              "<style scoped>\n",
              "    .dataframe tbody tr th:only-of-type {\n",
              "        vertical-align: middle;\n",
              "    }\n",
              "\n",
              "    .dataframe tbody tr th {\n",
              "        vertical-align: top;\n",
              "    }\n",
              "\n",
              "    .dataframe thead th {\n",
              "        text-align: right;\n",
              "    }\n",
              "</style>\n",
              "<table border=\"1\" class=\"dataframe\">\n",
              "  <thead>\n",
              "    <tr style=\"text-align: right;\">\n",
              "      <th></th>\n",
              "      <th>age</th>\n",
              "      <th>gender</th>\n",
              "      <th>mar_status</th>\n",
              "      <th>profession</th>\n",
              "      <th>family_type</th>\n",
              "      <th>res_area</th>\n",
              "      <th>med_support</th>\n",
              "      <th>living_style</th>\n",
              "      <th>monthly_income</th>\n",
              "      <th>family_income</th>\n",
              "      <th>...</th>\n",
              "      <th>lose_family</th>\n",
              "      <th>mental_counsel</th>\n",
              "      <th>anx_covid</th>\n",
              "      <th>psy_nervous</th>\n",
              "      <th>psy_worry</th>\n",
              "      <th>psy_diff_worry</th>\n",
              "      <th>psy_trouble_relax</th>\n",
              "      <th>psy_restless</th>\n",
              "      <th>psy_annoy</th>\n",
              "      <th>psy_fear</th>\n",
              "    </tr>\n",
              "  </thead>\n",
              "  <tbody>\n",
              "    <tr>\n",
              "      <th>0</th>\n",
              "      <td>YA</td>\n",
              "      <td>Male</td>\n",
              "      <td>Unmarried</td>\n",
              "      <td>Student</td>\n",
              "      <td>Nuclear</td>\n",
              "      <td>Sub-urban</td>\n",
              "      <td>CH</td>\n",
              "      <td>Yes</td>\n",
              "      <td>Less than 10,000 BDT</td>\n",
              "      <td>More than 1,50,00 BDT</td>\n",
              "      <td>...</td>\n",
              "      <td>No</td>\n",
              "      <td>No</td>\n",
              "      <td>No</td>\n",
              "      <td>1</td>\n",
              "      <td>0</td>\n",
              "      <td>2</td>\n",
              "      <td>1</td>\n",
              "      <td>0</td>\n",
              "      <td>3</td>\n",
              "      <td>2</td>\n",
              "    </tr>\n",
              "    <tr>\n",
              "      <th>1</th>\n",
              "      <td>YA</td>\n",
              "      <td>Female</td>\n",
              "      <td>Unmarried</td>\n",
              "      <td>Student</td>\n",
              "      <td>Nuclear</td>\n",
              "      <td>Urban</td>\n",
              "      <td>CM</td>\n",
              "      <td>Yes</td>\n",
              "      <td>10,000BDT - 39,000BDT</td>\n",
              "      <td>1,20,000 - 1,49,999 BDT</td>\n",
              "      <td>...</td>\n",
              "      <td>No</td>\n",
              "      <td>No</td>\n",
              "      <td>Yes</td>\n",
              "      <td>2</td>\n",
              "      <td>2</td>\n",
              "      <td>2</td>\n",
              "      <td>2</td>\n",
              "      <td>0</td>\n",
              "      <td>2</td>\n",
              "      <td>2</td>\n",
              "    </tr>\n",
              "    <tr>\n",
              "      <th>2</th>\n",
              "      <td>YA</td>\n",
              "      <td>Male</td>\n",
              "      <td>Unmarried</td>\n",
              "      <td>Student</td>\n",
              "      <td>Nuclear</td>\n",
              "      <td>Sub-urban</td>\n",
              "      <td>CM</td>\n",
              "      <td>Yes</td>\n",
              "      <td>I do not have any income at the moment</td>\n",
              "      <td>70,000 - 99,999 BDT</td>\n",
              "      <td>...</td>\n",
              "      <td>No</td>\n",
              "      <td>Yes</td>\n",
              "      <td>No</td>\n",
              "      <td>0</td>\n",
              "      <td>0</td>\n",
              "      <td>0</td>\n",
              "      <td>0</td>\n",
              "      <td>0</td>\n",
              "      <td>0</td>\n",
              "      <td>0</td>\n",
              "    </tr>\n",
              "    <tr>\n",
              "      <th>3</th>\n",
              "      <td>YA</td>\n",
              "      <td>Male</td>\n",
              "      <td>Unmarried</td>\n",
              "      <td>Student</td>\n",
              "      <td>Nuclear</td>\n",
              "      <td>Rural</td>\n",
              "      <td>CM</td>\n",
              "      <td>Yes</td>\n",
              "      <td>Less than 10,000 BDT</td>\n",
              "      <td>Less than 30,000 BDT</td>\n",
              "      <td>...</td>\n",
              "      <td>No</td>\n",
              "      <td>No</td>\n",
              "      <td>Yes</td>\n",
              "      <td>1</td>\n",
              "      <td>1</td>\n",
              "      <td>1</td>\n",
              "      <td>1</td>\n",
              "      <td>2</td>\n",
              "      <td>3</td>\n",
              "      <td>3</td>\n",
              "    </tr>\n",
              "    <tr>\n",
              "      <th>4</th>\n",
              "      <td>YA</td>\n",
              "      <td>Male</td>\n",
              "      <td>Unmarried</td>\n",
              "      <td>Student</td>\n",
              "      <td>Nuclear</td>\n",
              "      <td>Rural</td>\n",
              "      <td>CH</td>\n",
              "      <td>Yes</td>\n",
              "      <td>I do not have any income at the moment</td>\n",
              "      <td>Less than 30,000 BDT</td>\n",
              "      <td>...</td>\n",
              "      <td>No</td>\n",
              "      <td>No</td>\n",
              "      <td>Yes</td>\n",
              "      <td>2</td>\n",
              "      <td>1</td>\n",
              "      <td>2</td>\n",
              "      <td>2</td>\n",
              "      <td>2</td>\n",
              "      <td>2</td>\n",
              "      <td>1</td>\n",
              "    </tr>\n",
              "  </tbody>\n",
              "</table>\n",
              "<p>5 rows × 29 columns</p>\n",
              "</div>\n",
              "      <button class=\"colab-df-convert\" onclick=\"convertToInteractive('df-34a20e3d-bf15-4acf-9f63-bbf5b9aa9ffb')\"\n",
              "              title=\"Convert this dataframe to an interactive table.\"\n",
              "              style=\"display:none;\">\n",
              "        \n",
              "  <svg xmlns=\"http://www.w3.org/2000/svg\" height=\"24px\"viewBox=\"0 0 24 24\"\n",
              "       width=\"24px\">\n",
              "    <path d=\"M0 0h24v24H0V0z\" fill=\"none\"/>\n",
              "    <path d=\"M18.56 5.44l.94 2.06.94-2.06 2.06-.94-2.06-.94-.94-2.06-.94 2.06-2.06.94zm-11 1L8.5 8.5l.94-2.06 2.06-.94-2.06-.94L8.5 2.5l-.94 2.06-2.06.94zm10 10l.94 2.06.94-2.06 2.06-.94-2.06-.94-.94-2.06-.94 2.06-2.06.94z\"/><path d=\"M17.41 7.96l-1.37-1.37c-.4-.4-.92-.59-1.43-.59-.52 0-1.04.2-1.43.59L10.3 9.45l-7.72 7.72c-.78.78-.78 2.05 0 2.83L4 21.41c.39.39.9.59 1.41.59.51 0 1.02-.2 1.41-.59l7.78-7.78 2.81-2.81c.8-.78.8-2.07 0-2.86zM5.41 20L4 18.59l7.72-7.72 1.47 1.35L5.41 20z\"/>\n",
              "  </svg>\n",
              "      </button>\n",
              "      \n",
              "  <style>\n",
              "    .colab-df-container {\n",
              "      display:flex;\n",
              "      flex-wrap:wrap;\n",
              "      gap: 12px;\n",
              "    }\n",
              "\n",
              "    .colab-df-convert {\n",
              "      background-color: #E8F0FE;\n",
              "      border: none;\n",
              "      border-radius: 50%;\n",
              "      cursor: pointer;\n",
              "      display: none;\n",
              "      fill: #1967D2;\n",
              "      height: 32px;\n",
              "      padding: 0 0 0 0;\n",
              "      width: 32px;\n",
              "    }\n",
              "\n",
              "    .colab-df-convert:hover {\n",
              "      background-color: #E2EBFA;\n",
              "      box-shadow: 0px 1px 2px rgba(60, 64, 67, 0.3), 0px 1px 3px 1px rgba(60, 64, 67, 0.15);\n",
              "      fill: #174EA6;\n",
              "    }\n",
              "\n",
              "    [theme=dark] .colab-df-convert {\n",
              "      background-color: #3B4455;\n",
              "      fill: #D2E3FC;\n",
              "    }\n",
              "\n",
              "    [theme=dark] .colab-df-convert:hover {\n",
              "      background-color: #434B5C;\n",
              "      box-shadow: 0px 1px 3px 1px rgba(0, 0, 0, 0.15);\n",
              "      filter: drop-shadow(0px 1px 2px rgba(0, 0, 0, 0.3));\n",
              "      fill: #FFFFFF;\n",
              "    }\n",
              "  </style>\n",
              "\n",
              "      <script>\n",
              "        const buttonEl =\n",
              "          document.querySelector('#df-34a20e3d-bf15-4acf-9f63-bbf5b9aa9ffb button.colab-df-convert');\n",
              "        buttonEl.style.display =\n",
              "          google.colab.kernel.accessAllowed ? 'block' : 'none';\n",
              "\n",
              "        async function convertToInteractive(key) {\n",
              "          const element = document.querySelector('#df-34a20e3d-bf15-4acf-9f63-bbf5b9aa9ffb');\n",
              "          const dataTable =\n",
              "            await google.colab.kernel.invokeFunction('convertToInteractive',\n",
              "                                                     [key], {});\n",
              "          if (!dataTable) return;\n",
              "\n",
              "          const docLinkHtml = 'Like what you see? Visit the ' +\n",
              "            '<a target=\"_blank\" href=https://colab.research.google.com/notebooks/data_table.ipynb>data table notebook</a>'\n",
              "            + ' to learn more about interactive tables.';\n",
              "          element.innerHTML = '';\n",
              "          dataTable['output_type'] = 'display_data';\n",
              "          await google.colab.output.renderOutput(dataTable, element);\n",
              "          const docLink = document.createElement('div');\n",
              "          docLink.innerHTML = docLinkHtml;\n",
              "          element.appendChild(docLink);\n",
              "        }\n",
              "      </script>\n",
              "    </div>\n",
              "  </div>\n",
              "  "
            ]
          },
          "metadata": {},
          "execution_count": 41
        }
      ]
    },
    {
      "cell_type": "code",
      "source": [
        "unique_vals = df['family_income'].unique()\n",
        "unique_vals"
      ],
      "metadata": {
        "colab": {
          "base_uri": "https://localhost:8080/"
        },
        "id": "yZwwN3b9q1dK",
        "outputId": "ceaa2a5e-332c-47e8-b88c-5b5e9620aab9"
      },
      "execution_count": 42,
      "outputs": [
        {
          "output_type": "execute_result",
          "data": {
            "text/plain": [
              "array(['More than 1,50,00 BDT', '1,20,000 - 1,49,999 BDT',\n",
              "       '70,000 - 99,999 BDT', 'Less than 30,000 BDT',\n",
              "       '30,000 - 49,999 BDT', '1,00,000 - 1,19,999 BDT',\n",
              "       '50,000 - 69,999 BDT'], dtype=object)"
            ]
          },
          "metadata": {},
          "execution_count": 42
        }
      ]
    },
    {
      "cell_type": "markdown",
      "source": [
        "Assigning label to categorical value of family income."
      ],
      "metadata": {
        "id": "cOz0gmitfpDS"
      }
    },
    {
      "cell_type": "code",
      "source": [
        "family_income_scale = {'More than 1,50,00 BDT':'SRI', '1,20,000 - 1,49,999 BDT':'RI',\n",
        "       '70,000 - 99,999 BDT':'HMC', 'Less than 30,000 BDT':'LOI',\n",
        "       '30,000 - 49,999 BDT':'LMC', '1,00,000 - 1,19,999 BDT':'HC',\n",
        "       '50,000 - 69,999 BDT':'MC'}"
      ],
      "metadata": {
        "id": "bzBWWKnSrAEg"
      },
      "execution_count": 43,
      "outputs": []
    },
    {
      "cell_type": "code",
      "source": [
        "df['family_income'].replace(family_income_scale, inplace = True)"
      ],
      "metadata": {
        "id": "jiFycX-ar_nz"
      },
      "execution_count": 44,
      "outputs": []
    },
    {
      "cell_type": "code",
      "source": [
        "df.head()"
      ],
      "metadata": {
        "colab": {
          "base_uri": "https://localhost:8080/",
          "height": 421
        },
        "id": "sW3ZwUafsZzh",
        "outputId": "b514490a-1beb-4e3c-ed03-8e0165b3ce1a"
      },
      "execution_count": 45,
      "outputs": [
        {
          "output_type": "execute_result",
          "data": {
            "text/plain": [
              "  age  gender mar_status profession family_type   res_area med_support  \\\n",
              "0  YA    Male  Unmarried    Student     Nuclear  Sub-urban          CH   \n",
              "1  YA  Female  Unmarried    Student     Nuclear      Urban          CM   \n",
              "2  YA    Male  Unmarried    Student     Nuclear  Sub-urban          CM   \n",
              "3  YA    Male  Unmarried    Student     Nuclear      Rural          CM   \n",
              "4  YA    Male  Unmarried    Student     Nuclear      Rural          CH   \n",
              "\n",
              "  living_style                          monthly_income family_income  ...  \\\n",
              "0          Yes                    Less than 10,000 BDT           SRI  ...   \n",
              "1          Yes                   10,000BDT - 39,000BDT            RI  ...   \n",
              "2          Yes  I do not have any income at the moment           HMC  ...   \n",
              "3          Yes                    Less than 10,000 BDT           LOI  ...   \n",
              "4          Yes  I do not have any income at the moment           LOI  ...   \n",
              "\n",
              "  lose_family mental_counsel anx_covid psy_nervous psy_worry psy_diff_worry  \\\n",
              "0          No             No        No           1         0              2   \n",
              "1          No             No       Yes           2         2              2   \n",
              "2          No            Yes        No           0         0              0   \n",
              "3          No             No       Yes           1         1              1   \n",
              "4          No             No       Yes           2         1              2   \n",
              "\n",
              "  psy_trouble_relax psy_restless psy_annoy psy_fear  \n",
              "0                 1            0         3        2  \n",
              "1                 2            0         2        2  \n",
              "2                 0            0         0        0  \n",
              "3                 1            2         3        3  \n",
              "4                 2            2         2        1  \n",
              "\n",
              "[5 rows x 29 columns]"
            ],
            "text/html": [
              "\n",
              "  <div id=\"df-5a790564-de68-46e4-ae1a-b1942b5289be\">\n",
              "    <div class=\"colab-df-container\">\n",
              "      <div>\n",
              "<style scoped>\n",
              "    .dataframe tbody tr th:only-of-type {\n",
              "        vertical-align: middle;\n",
              "    }\n",
              "\n",
              "    .dataframe tbody tr th {\n",
              "        vertical-align: top;\n",
              "    }\n",
              "\n",
              "    .dataframe thead th {\n",
              "        text-align: right;\n",
              "    }\n",
              "</style>\n",
              "<table border=\"1\" class=\"dataframe\">\n",
              "  <thead>\n",
              "    <tr style=\"text-align: right;\">\n",
              "      <th></th>\n",
              "      <th>age</th>\n",
              "      <th>gender</th>\n",
              "      <th>mar_status</th>\n",
              "      <th>profession</th>\n",
              "      <th>family_type</th>\n",
              "      <th>res_area</th>\n",
              "      <th>med_support</th>\n",
              "      <th>living_style</th>\n",
              "      <th>monthly_income</th>\n",
              "      <th>family_income</th>\n",
              "      <th>...</th>\n",
              "      <th>lose_family</th>\n",
              "      <th>mental_counsel</th>\n",
              "      <th>anx_covid</th>\n",
              "      <th>psy_nervous</th>\n",
              "      <th>psy_worry</th>\n",
              "      <th>psy_diff_worry</th>\n",
              "      <th>psy_trouble_relax</th>\n",
              "      <th>psy_restless</th>\n",
              "      <th>psy_annoy</th>\n",
              "      <th>psy_fear</th>\n",
              "    </tr>\n",
              "  </thead>\n",
              "  <tbody>\n",
              "    <tr>\n",
              "      <th>0</th>\n",
              "      <td>YA</td>\n",
              "      <td>Male</td>\n",
              "      <td>Unmarried</td>\n",
              "      <td>Student</td>\n",
              "      <td>Nuclear</td>\n",
              "      <td>Sub-urban</td>\n",
              "      <td>CH</td>\n",
              "      <td>Yes</td>\n",
              "      <td>Less than 10,000 BDT</td>\n",
              "      <td>SRI</td>\n",
              "      <td>...</td>\n",
              "      <td>No</td>\n",
              "      <td>No</td>\n",
              "      <td>No</td>\n",
              "      <td>1</td>\n",
              "      <td>0</td>\n",
              "      <td>2</td>\n",
              "      <td>1</td>\n",
              "      <td>0</td>\n",
              "      <td>3</td>\n",
              "      <td>2</td>\n",
              "    </tr>\n",
              "    <tr>\n",
              "      <th>1</th>\n",
              "      <td>YA</td>\n",
              "      <td>Female</td>\n",
              "      <td>Unmarried</td>\n",
              "      <td>Student</td>\n",
              "      <td>Nuclear</td>\n",
              "      <td>Urban</td>\n",
              "      <td>CM</td>\n",
              "      <td>Yes</td>\n",
              "      <td>10,000BDT - 39,000BDT</td>\n",
              "      <td>RI</td>\n",
              "      <td>...</td>\n",
              "      <td>No</td>\n",
              "      <td>No</td>\n",
              "      <td>Yes</td>\n",
              "      <td>2</td>\n",
              "      <td>2</td>\n",
              "      <td>2</td>\n",
              "      <td>2</td>\n",
              "      <td>0</td>\n",
              "      <td>2</td>\n",
              "      <td>2</td>\n",
              "    </tr>\n",
              "    <tr>\n",
              "      <th>2</th>\n",
              "      <td>YA</td>\n",
              "      <td>Male</td>\n",
              "      <td>Unmarried</td>\n",
              "      <td>Student</td>\n",
              "      <td>Nuclear</td>\n",
              "      <td>Sub-urban</td>\n",
              "      <td>CM</td>\n",
              "      <td>Yes</td>\n",
              "      <td>I do not have any income at the moment</td>\n",
              "      <td>HMC</td>\n",
              "      <td>...</td>\n",
              "      <td>No</td>\n",
              "      <td>Yes</td>\n",
              "      <td>No</td>\n",
              "      <td>0</td>\n",
              "      <td>0</td>\n",
              "      <td>0</td>\n",
              "      <td>0</td>\n",
              "      <td>0</td>\n",
              "      <td>0</td>\n",
              "      <td>0</td>\n",
              "    </tr>\n",
              "    <tr>\n",
              "      <th>3</th>\n",
              "      <td>YA</td>\n",
              "      <td>Male</td>\n",
              "      <td>Unmarried</td>\n",
              "      <td>Student</td>\n",
              "      <td>Nuclear</td>\n",
              "      <td>Rural</td>\n",
              "      <td>CM</td>\n",
              "      <td>Yes</td>\n",
              "      <td>Less than 10,000 BDT</td>\n",
              "      <td>LOI</td>\n",
              "      <td>...</td>\n",
              "      <td>No</td>\n",
              "      <td>No</td>\n",
              "      <td>Yes</td>\n",
              "      <td>1</td>\n",
              "      <td>1</td>\n",
              "      <td>1</td>\n",
              "      <td>1</td>\n",
              "      <td>2</td>\n",
              "      <td>3</td>\n",
              "      <td>3</td>\n",
              "    </tr>\n",
              "    <tr>\n",
              "      <th>4</th>\n",
              "      <td>YA</td>\n",
              "      <td>Male</td>\n",
              "      <td>Unmarried</td>\n",
              "      <td>Student</td>\n",
              "      <td>Nuclear</td>\n",
              "      <td>Rural</td>\n",
              "      <td>CH</td>\n",
              "      <td>Yes</td>\n",
              "      <td>I do not have any income at the moment</td>\n",
              "      <td>LOI</td>\n",
              "      <td>...</td>\n",
              "      <td>No</td>\n",
              "      <td>No</td>\n",
              "      <td>Yes</td>\n",
              "      <td>2</td>\n",
              "      <td>1</td>\n",
              "      <td>2</td>\n",
              "      <td>2</td>\n",
              "      <td>2</td>\n",
              "      <td>2</td>\n",
              "      <td>1</td>\n",
              "    </tr>\n",
              "  </tbody>\n",
              "</table>\n",
              "<p>5 rows × 29 columns</p>\n",
              "</div>\n",
              "      <button class=\"colab-df-convert\" onclick=\"convertToInteractive('df-5a790564-de68-46e4-ae1a-b1942b5289be')\"\n",
              "              title=\"Convert this dataframe to an interactive table.\"\n",
              "              style=\"display:none;\">\n",
              "        \n",
              "  <svg xmlns=\"http://www.w3.org/2000/svg\" height=\"24px\"viewBox=\"0 0 24 24\"\n",
              "       width=\"24px\">\n",
              "    <path d=\"M0 0h24v24H0V0z\" fill=\"none\"/>\n",
              "    <path d=\"M18.56 5.44l.94 2.06.94-2.06 2.06-.94-2.06-.94-.94-2.06-.94 2.06-2.06.94zm-11 1L8.5 8.5l.94-2.06 2.06-.94-2.06-.94L8.5 2.5l-.94 2.06-2.06.94zm10 10l.94 2.06.94-2.06 2.06-.94-2.06-.94-.94-2.06-.94 2.06-2.06.94z\"/><path d=\"M17.41 7.96l-1.37-1.37c-.4-.4-.92-.59-1.43-.59-.52 0-1.04.2-1.43.59L10.3 9.45l-7.72 7.72c-.78.78-.78 2.05 0 2.83L4 21.41c.39.39.9.59 1.41.59.51 0 1.02-.2 1.41-.59l7.78-7.78 2.81-2.81c.8-.78.8-2.07 0-2.86zM5.41 20L4 18.59l7.72-7.72 1.47 1.35L5.41 20z\"/>\n",
              "  </svg>\n",
              "      </button>\n",
              "      \n",
              "  <style>\n",
              "    .colab-df-container {\n",
              "      display:flex;\n",
              "      flex-wrap:wrap;\n",
              "      gap: 12px;\n",
              "    }\n",
              "\n",
              "    .colab-df-convert {\n",
              "      background-color: #E8F0FE;\n",
              "      border: none;\n",
              "      border-radius: 50%;\n",
              "      cursor: pointer;\n",
              "      display: none;\n",
              "      fill: #1967D2;\n",
              "      height: 32px;\n",
              "      padding: 0 0 0 0;\n",
              "      width: 32px;\n",
              "    }\n",
              "\n",
              "    .colab-df-convert:hover {\n",
              "      background-color: #E2EBFA;\n",
              "      box-shadow: 0px 1px 2px rgba(60, 64, 67, 0.3), 0px 1px 3px 1px rgba(60, 64, 67, 0.15);\n",
              "      fill: #174EA6;\n",
              "    }\n",
              "\n",
              "    [theme=dark] .colab-df-convert {\n",
              "      background-color: #3B4455;\n",
              "      fill: #D2E3FC;\n",
              "    }\n",
              "\n",
              "    [theme=dark] .colab-df-convert:hover {\n",
              "      background-color: #434B5C;\n",
              "      box-shadow: 0px 1px 3px 1px rgba(0, 0, 0, 0.15);\n",
              "      filter: drop-shadow(0px 1px 2px rgba(0, 0, 0, 0.3));\n",
              "      fill: #FFFFFF;\n",
              "    }\n",
              "  </style>\n",
              "\n",
              "      <script>\n",
              "        const buttonEl =\n",
              "          document.querySelector('#df-5a790564-de68-46e4-ae1a-b1942b5289be button.colab-df-convert');\n",
              "        buttonEl.style.display =\n",
              "          google.colab.kernel.accessAllowed ? 'block' : 'none';\n",
              "\n",
              "        async function convertToInteractive(key) {\n",
              "          const element = document.querySelector('#df-5a790564-de68-46e4-ae1a-b1942b5289be');\n",
              "          const dataTable =\n",
              "            await google.colab.kernel.invokeFunction('convertToInteractive',\n",
              "                                                     [key], {});\n",
              "          if (!dataTable) return;\n",
              "\n",
              "          const docLinkHtml = 'Like what you see? Visit the ' +\n",
              "            '<a target=\"_blank\" href=https://colab.research.google.com/notebooks/data_table.ipynb>data table notebook</a>'\n",
              "            + ' to learn more about interactive tables.';\n",
              "          element.innerHTML = '';\n",
              "          dataTable['output_type'] = 'display_data';\n",
              "          await google.colab.output.renderOutput(dataTable, element);\n",
              "          const docLink = document.createElement('div');\n",
              "          docLink.innerHTML = docLinkHtml;\n",
              "          element.appendChild(docLink);\n",
              "        }\n",
              "      </script>\n",
              "    </div>\n",
              "  </div>\n",
              "  "
            ]
          },
          "metadata": {},
          "execution_count": 45
        }
      ]
    },
    {
      "cell_type": "code",
      "source": [
        "unique_vals = df['monthly_income'].unique()\n",
        "unique_vals"
      ],
      "metadata": {
        "colab": {
          "base_uri": "https://localhost:8080/"
        },
        "id": "zPNMLEJlsc7x",
        "outputId": "a81c5798-3cd5-4999-c3dc-f0bcb4cdbecc"
      },
      "execution_count": 46,
      "outputs": [
        {
          "output_type": "execute_result",
          "data": {
            "text/plain": [
              "array(['Less than 10,000 BDT', '10,000BDT - 39,000BDT',\n",
              "       'I do not have any income at the moment', 'More than 1,00,000 BDT',\n",
              "       '70,000 BDT - 99,999BDT', '50,000BDT - 69,999BDT',\n",
              "       '10,000BDT - 29,999 BDT', '30,000BDT - 49,999BDT'], dtype=object)"
            ]
          },
          "metadata": {},
          "execution_count": 46
        }
      ]
    },
    {
      "cell_type": "markdown",
      "source": [
        "Assigning label to categorical value of monthly income."
      ],
      "metadata": {
        "id": "39l8Je6Pf3rW"
      }
    },
    {
      "cell_type": "code",
      "source": [
        "monthly_income_scale = {'Less than 10,000 BDT':'LO', '10,000BDT - 39,000BDT':'LMC',\n",
        "       'I do not have any income at the moment':'NO', 'More than 1,00,000 BDT':'HI',\n",
        "       '70,000 BDT - 99,999BDT':'HC', '50,000BDT - 69,999BDT':'HMC',\n",
        "       '10,000BDT - 29,999 BDT':'LMC', '30,000BDT - 49,999BDT':'MC'}"
      ],
      "metadata": {
        "id": "jWfsw_rZtAsJ"
      },
      "execution_count": 47,
      "outputs": []
    },
    {
      "cell_type": "code",
      "source": [
        "df.head()"
      ],
      "metadata": {
        "colab": {
          "base_uri": "https://localhost:8080/",
          "height": 421
        },
        "id": "oNhLseqSt9P-",
        "outputId": "2929d56b-9b97-4c97-c49b-28891b396595"
      },
      "execution_count": 48,
      "outputs": [
        {
          "output_type": "execute_result",
          "data": {
            "text/plain": [
              "  age  gender mar_status profession family_type   res_area med_support  \\\n",
              "0  YA    Male  Unmarried    Student     Nuclear  Sub-urban          CH   \n",
              "1  YA  Female  Unmarried    Student     Nuclear      Urban          CM   \n",
              "2  YA    Male  Unmarried    Student     Nuclear  Sub-urban          CM   \n",
              "3  YA    Male  Unmarried    Student     Nuclear      Rural          CM   \n",
              "4  YA    Male  Unmarried    Student     Nuclear      Rural          CH   \n",
              "\n",
              "  living_style                          monthly_income family_income  ...  \\\n",
              "0          Yes                    Less than 10,000 BDT           SRI  ...   \n",
              "1          Yes                   10,000BDT - 39,000BDT            RI  ...   \n",
              "2          Yes  I do not have any income at the moment           HMC  ...   \n",
              "3          Yes                    Less than 10,000 BDT           LOI  ...   \n",
              "4          Yes  I do not have any income at the moment           LOI  ...   \n",
              "\n",
              "  lose_family mental_counsel anx_covid psy_nervous psy_worry psy_diff_worry  \\\n",
              "0          No             No        No           1         0              2   \n",
              "1          No             No       Yes           2         2              2   \n",
              "2          No            Yes        No           0         0              0   \n",
              "3          No             No       Yes           1         1              1   \n",
              "4          No             No       Yes           2         1              2   \n",
              "\n",
              "  psy_trouble_relax psy_restless psy_annoy psy_fear  \n",
              "0                 1            0         3        2  \n",
              "1                 2            0         2        2  \n",
              "2                 0            0         0        0  \n",
              "3                 1            2         3        3  \n",
              "4                 2            2         2        1  \n",
              "\n",
              "[5 rows x 29 columns]"
            ],
            "text/html": [
              "\n",
              "  <div id=\"df-99cab3f4-a0c6-44e1-b868-fe2d85f729b8\">\n",
              "    <div class=\"colab-df-container\">\n",
              "      <div>\n",
              "<style scoped>\n",
              "    .dataframe tbody tr th:only-of-type {\n",
              "        vertical-align: middle;\n",
              "    }\n",
              "\n",
              "    .dataframe tbody tr th {\n",
              "        vertical-align: top;\n",
              "    }\n",
              "\n",
              "    .dataframe thead th {\n",
              "        text-align: right;\n",
              "    }\n",
              "</style>\n",
              "<table border=\"1\" class=\"dataframe\">\n",
              "  <thead>\n",
              "    <tr style=\"text-align: right;\">\n",
              "      <th></th>\n",
              "      <th>age</th>\n",
              "      <th>gender</th>\n",
              "      <th>mar_status</th>\n",
              "      <th>profession</th>\n",
              "      <th>family_type</th>\n",
              "      <th>res_area</th>\n",
              "      <th>med_support</th>\n",
              "      <th>living_style</th>\n",
              "      <th>monthly_income</th>\n",
              "      <th>family_income</th>\n",
              "      <th>...</th>\n",
              "      <th>lose_family</th>\n",
              "      <th>mental_counsel</th>\n",
              "      <th>anx_covid</th>\n",
              "      <th>psy_nervous</th>\n",
              "      <th>psy_worry</th>\n",
              "      <th>psy_diff_worry</th>\n",
              "      <th>psy_trouble_relax</th>\n",
              "      <th>psy_restless</th>\n",
              "      <th>psy_annoy</th>\n",
              "      <th>psy_fear</th>\n",
              "    </tr>\n",
              "  </thead>\n",
              "  <tbody>\n",
              "    <tr>\n",
              "      <th>0</th>\n",
              "      <td>YA</td>\n",
              "      <td>Male</td>\n",
              "      <td>Unmarried</td>\n",
              "      <td>Student</td>\n",
              "      <td>Nuclear</td>\n",
              "      <td>Sub-urban</td>\n",
              "      <td>CH</td>\n",
              "      <td>Yes</td>\n",
              "      <td>Less than 10,000 BDT</td>\n",
              "      <td>SRI</td>\n",
              "      <td>...</td>\n",
              "      <td>No</td>\n",
              "      <td>No</td>\n",
              "      <td>No</td>\n",
              "      <td>1</td>\n",
              "      <td>0</td>\n",
              "      <td>2</td>\n",
              "      <td>1</td>\n",
              "      <td>0</td>\n",
              "      <td>3</td>\n",
              "      <td>2</td>\n",
              "    </tr>\n",
              "    <tr>\n",
              "      <th>1</th>\n",
              "      <td>YA</td>\n",
              "      <td>Female</td>\n",
              "      <td>Unmarried</td>\n",
              "      <td>Student</td>\n",
              "      <td>Nuclear</td>\n",
              "      <td>Urban</td>\n",
              "      <td>CM</td>\n",
              "      <td>Yes</td>\n",
              "      <td>10,000BDT - 39,000BDT</td>\n",
              "      <td>RI</td>\n",
              "      <td>...</td>\n",
              "      <td>No</td>\n",
              "      <td>No</td>\n",
              "      <td>Yes</td>\n",
              "      <td>2</td>\n",
              "      <td>2</td>\n",
              "      <td>2</td>\n",
              "      <td>2</td>\n",
              "      <td>0</td>\n",
              "      <td>2</td>\n",
              "      <td>2</td>\n",
              "    </tr>\n",
              "    <tr>\n",
              "      <th>2</th>\n",
              "      <td>YA</td>\n",
              "      <td>Male</td>\n",
              "      <td>Unmarried</td>\n",
              "      <td>Student</td>\n",
              "      <td>Nuclear</td>\n",
              "      <td>Sub-urban</td>\n",
              "      <td>CM</td>\n",
              "      <td>Yes</td>\n",
              "      <td>I do not have any income at the moment</td>\n",
              "      <td>HMC</td>\n",
              "      <td>...</td>\n",
              "      <td>No</td>\n",
              "      <td>Yes</td>\n",
              "      <td>No</td>\n",
              "      <td>0</td>\n",
              "      <td>0</td>\n",
              "      <td>0</td>\n",
              "      <td>0</td>\n",
              "      <td>0</td>\n",
              "      <td>0</td>\n",
              "      <td>0</td>\n",
              "    </tr>\n",
              "    <tr>\n",
              "      <th>3</th>\n",
              "      <td>YA</td>\n",
              "      <td>Male</td>\n",
              "      <td>Unmarried</td>\n",
              "      <td>Student</td>\n",
              "      <td>Nuclear</td>\n",
              "      <td>Rural</td>\n",
              "      <td>CM</td>\n",
              "      <td>Yes</td>\n",
              "      <td>Less than 10,000 BDT</td>\n",
              "      <td>LOI</td>\n",
              "      <td>...</td>\n",
              "      <td>No</td>\n",
              "      <td>No</td>\n",
              "      <td>Yes</td>\n",
              "      <td>1</td>\n",
              "      <td>1</td>\n",
              "      <td>1</td>\n",
              "      <td>1</td>\n",
              "      <td>2</td>\n",
              "      <td>3</td>\n",
              "      <td>3</td>\n",
              "    </tr>\n",
              "    <tr>\n",
              "      <th>4</th>\n",
              "      <td>YA</td>\n",
              "      <td>Male</td>\n",
              "      <td>Unmarried</td>\n",
              "      <td>Student</td>\n",
              "      <td>Nuclear</td>\n",
              "      <td>Rural</td>\n",
              "      <td>CH</td>\n",
              "      <td>Yes</td>\n",
              "      <td>I do not have any income at the moment</td>\n",
              "      <td>LOI</td>\n",
              "      <td>...</td>\n",
              "      <td>No</td>\n",
              "      <td>No</td>\n",
              "      <td>Yes</td>\n",
              "      <td>2</td>\n",
              "      <td>1</td>\n",
              "      <td>2</td>\n",
              "      <td>2</td>\n",
              "      <td>2</td>\n",
              "      <td>2</td>\n",
              "      <td>1</td>\n",
              "    </tr>\n",
              "  </tbody>\n",
              "</table>\n",
              "<p>5 rows × 29 columns</p>\n",
              "</div>\n",
              "      <button class=\"colab-df-convert\" onclick=\"convertToInteractive('df-99cab3f4-a0c6-44e1-b868-fe2d85f729b8')\"\n",
              "              title=\"Convert this dataframe to an interactive table.\"\n",
              "              style=\"display:none;\">\n",
              "        \n",
              "  <svg xmlns=\"http://www.w3.org/2000/svg\" height=\"24px\"viewBox=\"0 0 24 24\"\n",
              "       width=\"24px\">\n",
              "    <path d=\"M0 0h24v24H0V0z\" fill=\"none\"/>\n",
              "    <path d=\"M18.56 5.44l.94 2.06.94-2.06 2.06-.94-2.06-.94-.94-2.06-.94 2.06-2.06.94zm-11 1L8.5 8.5l.94-2.06 2.06-.94-2.06-.94L8.5 2.5l-.94 2.06-2.06.94zm10 10l.94 2.06.94-2.06 2.06-.94-2.06-.94-.94-2.06-.94 2.06-2.06.94z\"/><path d=\"M17.41 7.96l-1.37-1.37c-.4-.4-.92-.59-1.43-.59-.52 0-1.04.2-1.43.59L10.3 9.45l-7.72 7.72c-.78.78-.78 2.05 0 2.83L4 21.41c.39.39.9.59 1.41.59.51 0 1.02-.2 1.41-.59l7.78-7.78 2.81-2.81c.8-.78.8-2.07 0-2.86zM5.41 20L4 18.59l7.72-7.72 1.47 1.35L5.41 20z\"/>\n",
              "  </svg>\n",
              "      </button>\n",
              "      \n",
              "  <style>\n",
              "    .colab-df-container {\n",
              "      display:flex;\n",
              "      flex-wrap:wrap;\n",
              "      gap: 12px;\n",
              "    }\n",
              "\n",
              "    .colab-df-convert {\n",
              "      background-color: #E8F0FE;\n",
              "      border: none;\n",
              "      border-radius: 50%;\n",
              "      cursor: pointer;\n",
              "      display: none;\n",
              "      fill: #1967D2;\n",
              "      height: 32px;\n",
              "      padding: 0 0 0 0;\n",
              "      width: 32px;\n",
              "    }\n",
              "\n",
              "    .colab-df-convert:hover {\n",
              "      background-color: #E2EBFA;\n",
              "      box-shadow: 0px 1px 2px rgba(60, 64, 67, 0.3), 0px 1px 3px 1px rgba(60, 64, 67, 0.15);\n",
              "      fill: #174EA6;\n",
              "    }\n",
              "\n",
              "    [theme=dark] .colab-df-convert {\n",
              "      background-color: #3B4455;\n",
              "      fill: #D2E3FC;\n",
              "    }\n",
              "\n",
              "    [theme=dark] .colab-df-convert:hover {\n",
              "      background-color: #434B5C;\n",
              "      box-shadow: 0px 1px 3px 1px rgba(0, 0, 0, 0.15);\n",
              "      filter: drop-shadow(0px 1px 2px rgba(0, 0, 0, 0.3));\n",
              "      fill: #FFFFFF;\n",
              "    }\n",
              "  </style>\n",
              "\n",
              "      <script>\n",
              "        const buttonEl =\n",
              "          document.querySelector('#df-99cab3f4-a0c6-44e1-b868-fe2d85f729b8 button.colab-df-convert');\n",
              "        buttonEl.style.display =\n",
              "          google.colab.kernel.accessAllowed ? 'block' : 'none';\n",
              "\n",
              "        async function convertToInteractive(key) {\n",
              "          const element = document.querySelector('#df-99cab3f4-a0c6-44e1-b868-fe2d85f729b8');\n",
              "          const dataTable =\n",
              "            await google.colab.kernel.invokeFunction('convertToInteractive',\n",
              "                                                     [key], {});\n",
              "          if (!dataTable) return;\n",
              "\n",
              "          const docLinkHtml = 'Like what you see? Visit the ' +\n",
              "            '<a target=\"_blank\" href=https://colab.research.google.com/notebooks/data_table.ipynb>data table notebook</a>'\n",
              "            + ' to learn more about interactive tables.';\n",
              "          element.innerHTML = '';\n",
              "          dataTable['output_type'] = 'display_data';\n",
              "          await google.colab.output.renderOutput(dataTable, element);\n",
              "          const docLink = document.createElement('div');\n",
              "          docLink.innerHTML = docLinkHtml;\n",
              "          element.appendChild(docLink);\n",
              "        }\n",
              "      </script>\n",
              "    </div>\n",
              "  </div>\n",
              "  "
            ]
          },
          "metadata": {},
          "execution_count": 48
        }
      ]
    },
    {
      "cell_type": "code",
      "source": [
        "df['monthly_income'].replace(monthly_income_scale, inplace = True)"
      ],
      "metadata": {
        "id": "im825FCmt-74"
      },
      "execution_count": 49,
      "outputs": []
    },
    {
      "cell_type": "code",
      "source": [
        "df.head()"
      ],
      "metadata": {
        "colab": {
          "base_uri": "https://localhost:8080/",
          "height": 334
        },
        "id": "T8WCngSVuXl6",
        "outputId": "229385bd-1092-40ec-9928-22566a50452f"
      },
      "execution_count": 50,
      "outputs": [
        {
          "output_type": "execute_result",
          "data": {
            "text/plain": [
              "  age  gender mar_status profession family_type   res_area med_support  \\\n",
              "0  YA    Male  Unmarried    Student     Nuclear  Sub-urban          CH   \n",
              "1  YA  Female  Unmarried    Student     Nuclear      Urban          CM   \n",
              "2  YA    Male  Unmarried    Student     Nuclear  Sub-urban          CM   \n",
              "3  YA    Male  Unmarried    Student     Nuclear      Rural          CM   \n",
              "4  YA    Male  Unmarried    Student     Nuclear      Rural          CH   \n",
              "\n",
              "  living_style monthly_income family_income  ... lose_family mental_counsel  \\\n",
              "0          Yes             LO           SRI  ...          No             No   \n",
              "1          Yes            LMC            RI  ...          No             No   \n",
              "2          Yes             NO           HMC  ...          No            Yes   \n",
              "3          Yes             LO           LOI  ...          No             No   \n",
              "4          Yes             NO           LOI  ...          No             No   \n",
              "\n",
              "  anx_covid psy_nervous psy_worry psy_diff_worry psy_trouble_relax  \\\n",
              "0        No           1         0              2                 1   \n",
              "1       Yes           2         2              2                 2   \n",
              "2        No           0         0              0                 0   \n",
              "3       Yes           1         1              1                 1   \n",
              "4       Yes           2         1              2                 2   \n",
              "\n",
              "  psy_restless psy_annoy psy_fear  \n",
              "0            0         3        2  \n",
              "1            0         2        2  \n",
              "2            0         0        0  \n",
              "3            2         3        3  \n",
              "4            2         2        1  \n",
              "\n",
              "[5 rows x 29 columns]"
            ],
            "text/html": [
              "\n",
              "  <div id=\"df-20533a2c-86dd-459f-8958-20891de6d046\">\n",
              "    <div class=\"colab-df-container\">\n",
              "      <div>\n",
              "<style scoped>\n",
              "    .dataframe tbody tr th:only-of-type {\n",
              "        vertical-align: middle;\n",
              "    }\n",
              "\n",
              "    .dataframe tbody tr th {\n",
              "        vertical-align: top;\n",
              "    }\n",
              "\n",
              "    .dataframe thead th {\n",
              "        text-align: right;\n",
              "    }\n",
              "</style>\n",
              "<table border=\"1\" class=\"dataframe\">\n",
              "  <thead>\n",
              "    <tr style=\"text-align: right;\">\n",
              "      <th></th>\n",
              "      <th>age</th>\n",
              "      <th>gender</th>\n",
              "      <th>mar_status</th>\n",
              "      <th>profession</th>\n",
              "      <th>family_type</th>\n",
              "      <th>res_area</th>\n",
              "      <th>med_support</th>\n",
              "      <th>living_style</th>\n",
              "      <th>monthly_income</th>\n",
              "      <th>family_income</th>\n",
              "      <th>...</th>\n",
              "      <th>lose_family</th>\n",
              "      <th>mental_counsel</th>\n",
              "      <th>anx_covid</th>\n",
              "      <th>psy_nervous</th>\n",
              "      <th>psy_worry</th>\n",
              "      <th>psy_diff_worry</th>\n",
              "      <th>psy_trouble_relax</th>\n",
              "      <th>psy_restless</th>\n",
              "      <th>psy_annoy</th>\n",
              "      <th>psy_fear</th>\n",
              "    </tr>\n",
              "  </thead>\n",
              "  <tbody>\n",
              "    <tr>\n",
              "      <th>0</th>\n",
              "      <td>YA</td>\n",
              "      <td>Male</td>\n",
              "      <td>Unmarried</td>\n",
              "      <td>Student</td>\n",
              "      <td>Nuclear</td>\n",
              "      <td>Sub-urban</td>\n",
              "      <td>CH</td>\n",
              "      <td>Yes</td>\n",
              "      <td>LO</td>\n",
              "      <td>SRI</td>\n",
              "      <td>...</td>\n",
              "      <td>No</td>\n",
              "      <td>No</td>\n",
              "      <td>No</td>\n",
              "      <td>1</td>\n",
              "      <td>0</td>\n",
              "      <td>2</td>\n",
              "      <td>1</td>\n",
              "      <td>0</td>\n",
              "      <td>3</td>\n",
              "      <td>2</td>\n",
              "    </tr>\n",
              "    <tr>\n",
              "      <th>1</th>\n",
              "      <td>YA</td>\n",
              "      <td>Female</td>\n",
              "      <td>Unmarried</td>\n",
              "      <td>Student</td>\n",
              "      <td>Nuclear</td>\n",
              "      <td>Urban</td>\n",
              "      <td>CM</td>\n",
              "      <td>Yes</td>\n",
              "      <td>LMC</td>\n",
              "      <td>RI</td>\n",
              "      <td>...</td>\n",
              "      <td>No</td>\n",
              "      <td>No</td>\n",
              "      <td>Yes</td>\n",
              "      <td>2</td>\n",
              "      <td>2</td>\n",
              "      <td>2</td>\n",
              "      <td>2</td>\n",
              "      <td>0</td>\n",
              "      <td>2</td>\n",
              "      <td>2</td>\n",
              "    </tr>\n",
              "    <tr>\n",
              "      <th>2</th>\n",
              "      <td>YA</td>\n",
              "      <td>Male</td>\n",
              "      <td>Unmarried</td>\n",
              "      <td>Student</td>\n",
              "      <td>Nuclear</td>\n",
              "      <td>Sub-urban</td>\n",
              "      <td>CM</td>\n",
              "      <td>Yes</td>\n",
              "      <td>NO</td>\n",
              "      <td>HMC</td>\n",
              "      <td>...</td>\n",
              "      <td>No</td>\n",
              "      <td>Yes</td>\n",
              "      <td>No</td>\n",
              "      <td>0</td>\n",
              "      <td>0</td>\n",
              "      <td>0</td>\n",
              "      <td>0</td>\n",
              "      <td>0</td>\n",
              "      <td>0</td>\n",
              "      <td>0</td>\n",
              "    </tr>\n",
              "    <tr>\n",
              "      <th>3</th>\n",
              "      <td>YA</td>\n",
              "      <td>Male</td>\n",
              "      <td>Unmarried</td>\n",
              "      <td>Student</td>\n",
              "      <td>Nuclear</td>\n",
              "      <td>Rural</td>\n",
              "      <td>CM</td>\n",
              "      <td>Yes</td>\n",
              "      <td>LO</td>\n",
              "      <td>LOI</td>\n",
              "      <td>...</td>\n",
              "      <td>No</td>\n",
              "      <td>No</td>\n",
              "      <td>Yes</td>\n",
              "      <td>1</td>\n",
              "      <td>1</td>\n",
              "      <td>1</td>\n",
              "      <td>1</td>\n",
              "      <td>2</td>\n",
              "      <td>3</td>\n",
              "      <td>3</td>\n",
              "    </tr>\n",
              "    <tr>\n",
              "      <th>4</th>\n",
              "      <td>YA</td>\n",
              "      <td>Male</td>\n",
              "      <td>Unmarried</td>\n",
              "      <td>Student</td>\n",
              "      <td>Nuclear</td>\n",
              "      <td>Rural</td>\n",
              "      <td>CH</td>\n",
              "      <td>Yes</td>\n",
              "      <td>NO</td>\n",
              "      <td>LOI</td>\n",
              "      <td>...</td>\n",
              "      <td>No</td>\n",
              "      <td>No</td>\n",
              "      <td>Yes</td>\n",
              "      <td>2</td>\n",
              "      <td>1</td>\n",
              "      <td>2</td>\n",
              "      <td>2</td>\n",
              "      <td>2</td>\n",
              "      <td>2</td>\n",
              "      <td>1</td>\n",
              "    </tr>\n",
              "  </tbody>\n",
              "</table>\n",
              "<p>5 rows × 29 columns</p>\n",
              "</div>\n",
              "      <button class=\"colab-df-convert\" onclick=\"convertToInteractive('df-20533a2c-86dd-459f-8958-20891de6d046')\"\n",
              "              title=\"Convert this dataframe to an interactive table.\"\n",
              "              style=\"display:none;\">\n",
              "        \n",
              "  <svg xmlns=\"http://www.w3.org/2000/svg\" height=\"24px\"viewBox=\"0 0 24 24\"\n",
              "       width=\"24px\">\n",
              "    <path d=\"M0 0h24v24H0V0z\" fill=\"none\"/>\n",
              "    <path d=\"M18.56 5.44l.94 2.06.94-2.06 2.06-.94-2.06-.94-.94-2.06-.94 2.06-2.06.94zm-11 1L8.5 8.5l.94-2.06 2.06-.94-2.06-.94L8.5 2.5l-.94 2.06-2.06.94zm10 10l.94 2.06.94-2.06 2.06-.94-2.06-.94-.94-2.06-.94 2.06-2.06.94z\"/><path d=\"M17.41 7.96l-1.37-1.37c-.4-.4-.92-.59-1.43-.59-.52 0-1.04.2-1.43.59L10.3 9.45l-7.72 7.72c-.78.78-.78 2.05 0 2.83L4 21.41c.39.39.9.59 1.41.59.51 0 1.02-.2 1.41-.59l7.78-7.78 2.81-2.81c.8-.78.8-2.07 0-2.86zM5.41 20L4 18.59l7.72-7.72 1.47 1.35L5.41 20z\"/>\n",
              "  </svg>\n",
              "      </button>\n",
              "      \n",
              "  <style>\n",
              "    .colab-df-container {\n",
              "      display:flex;\n",
              "      flex-wrap:wrap;\n",
              "      gap: 12px;\n",
              "    }\n",
              "\n",
              "    .colab-df-convert {\n",
              "      background-color: #E8F0FE;\n",
              "      border: none;\n",
              "      border-radius: 50%;\n",
              "      cursor: pointer;\n",
              "      display: none;\n",
              "      fill: #1967D2;\n",
              "      height: 32px;\n",
              "      padding: 0 0 0 0;\n",
              "      width: 32px;\n",
              "    }\n",
              "\n",
              "    .colab-df-convert:hover {\n",
              "      background-color: #E2EBFA;\n",
              "      box-shadow: 0px 1px 2px rgba(60, 64, 67, 0.3), 0px 1px 3px 1px rgba(60, 64, 67, 0.15);\n",
              "      fill: #174EA6;\n",
              "    }\n",
              "\n",
              "    [theme=dark] .colab-df-convert {\n",
              "      background-color: #3B4455;\n",
              "      fill: #D2E3FC;\n",
              "    }\n",
              "\n",
              "    [theme=dark] .colab-df-convert:hover {\n",
              "      background-color: #434B5C;\n",
              "      box-shadow: 0px 1px 3px 1px rgba(0, 0, 0, 0.15);\n",
              "      filter: drop-shadow(0px 1px 2px rgba(0, 0, 0, 0.3));\n",
              "      fill: #FFFFFF;\n",
              "    }\n",
              "  </style>\n",
              "\n",
              "      <script>\n",
              "        const buttonEl =\n",
              "          document.querySelector('#df-20533a2c-86dd-459f-8958-20891de6d046 button.colab-df-convert');\n",
              "        buttonEl.style.display =\n",
              "          google.colab.kernel.accessAllowed ? 'block' : 'none';\n",
              "\n",
              "        async function convertToInteractive(key) {\n",
              "          const element = document.querySelector('#df-20533a2c-86dd-459f-8958-20891de6d046');\n",
              "          const dataTable =\n",
              "            await google.colab.kernel.invokeFunction('convertToInteractive',\n",
              "                                                     [key], {});\n",
              "          if (!dataTable) return;\n",
              "\n",
              "          const docLinkHtml = 'Like what you see? Visit the ' +\n",
              "            '<a target=\"_blank\" href=https://colab.research.google.com/notebooks/data_table.ipynb>data table notebook</a>'\n",
              "            + ' to learn more about interactive tables.';\n",
              "          element.innerHTML = '';\n",
              "          dataTable['output_type'] = 'display_data';\n",
              "          await google.colab.output.renderOutput(dataTable, element);\n",
              "          const docLink = document.createElement('div');\n",
              "          docLink.innerHTML = docLinkHtml;\n",
              "          element.appendChild(docLink);\n",
              "        }\n",
              "      </script>\n",
              "    </div>\n",
              "  </div>\n",
              "  "
            ]
          },
          "metadata": {},
          "execution_count": 50
        }
      ]
    },
    {
      "cell_type": "code",
      "source": [
        "sns.countplot(x='monthly_income',data=df)"
      ],
      "metadata": {
        "colab": {
          "base_uri": "https://localhost:8080/",
          "height": 303
        },
        "id": "H0aYzMAxuZXF",
        "outputId": "91c3baa1-b372-4ec3-e9ce-c9d0a6b06dbc"
      },
      "execution_count": 51,
      "outputs": [
        {
          "output_type": "execute_result",
          "data": {
            "text/plain": [
              "<matplotlib.axes._subplots.AxesSubplot at 0x7f8265e09a10>"
            ]
          },
          "metadata": {},
          "execution_count": 51
        },
        {
          "output_type": "display_data",
          "data": {
            "text/plain": [
              "<Figure size 432x288 with 1 Axes>"
            ],
            "image/png": "[encoded data removed]"
          },
          "metadata": {}
        }
      ]
    },
    {
      "cell_type": "code",
      "source": [
        "sns.countplot(x='family_income',data=df)"
      ],
      "metadata": {
        "colab": {
          "base_uri": "https://localhost:8080/",
          "height": 302
        },
        "id": "d24iPldAunZ2",
        "outputId": "2a2f880e-5a5f-4417-b720-8e0608b5c337"
      },
      "execution_count": 52,
      "outputs": [
        {
          "output_type": "execute_result",
          "data": {
            "text/plain": [
              "<matplotlib.axes._subplots.AxesSubplot at 0x7f8265daad10>"
            ]
          },
          "metadata": {},
          "execution_count": 52
        },
        {
          "output_type": "display_data",
          "data": {
            "text/plain": [
              "<Figure size 432x288 with 1 Axes>"
            ],
            "image/png": "[encoded data removed]"
          },
          "metadata": {}
        }
      ]
    },
    {
      "cell_type": "markdown",
      "source": [
        "### Assigning dummy values to selected data columns"
      ],
      "metadata": {
        "id": "haVSRt6ZgJhk"
      }
    },
    {
      "cell_type": "code",
      "source": [
        "cat_features = ['gender','age' ,'mar_status','profession','family_type','res_area','med_support','living_style','monthly_income','family_income', 'earn_consistency', 'prim_earner','job_covid','lose_job','work_pressure', 'work_home','study','covid_infec', 'covid_infec_fam', 'lose_family', 'mental_counsel', 'anx_covid']\n",
        "len(cat_features)"
      ],
      "metadata": {
        "colab": {
          "base_uri": "https://localhost:8080/"
        },
        "id": "oahWtumyu2md",
        "outputId": "6bfb9bdd-8db2-4310-918c-2da944f4318a"
      },
      "execution_count": 53,
      "outputs": [
        {
          "output_type": "execute_result",
          "data": {
            "text/plain": [
              "22"
            ]
          },
          "metadata": {},
          "execution_count": 53
        }
      ]
    },
    {
      "cell_type": "code",
      "source": [
        "df = pd.get_dummies(data = df, columns = cat_features)"
      ],
      "metadata": {
        "id": "ZKBNJUkpwW2O"
      },
      "execution_count": 54,
      "outputs": []
    },
    {
      "cell_type": "code",
      "source": [
        "df.shape"
      ],
      "metadata": {
        "colab": {
          "base_uri": "https://localhost:8080/"
        },
        "id": "V1jxHeLEwpQC",
        "outputId": "31729da8-03d8-497b-93df-1af655df0051"
      },
      "execution_count": 55,
      "outputs": [
        {
          "output_type": "execute_result",
          "data": {
            "text/plain": [
              "(225, 77)"
            ]
          },
          "metadata": {},
          "execution_count": 55
        }
      ]
    },
    {
      "cell_type": "code",
      "source": [
        "df.head()"
      ],
      "metadata": {
        "colab": {
          "base_uri": "https://localhost:8080/",
          "height": 300
        },
        "id": "qROYc7bmw30I",
        "outputId": "1f782593-ac39-4f52-ef4c-4c90ffc38b9f"
      },
      "execution_count": 56,
      "outputs": [
        {
          "output_type": "execute_result",
          "data": {
            "text/plain": [
              "   psy_nervous  psy_worry  psy_diff_worry  psy_trouble_relax  psy_restless  \\\n",
              "0            1          0               2                  1             0   \n",
              "1            2          2               2                  2             0   \n",
              "2            0          0               0                  0             0   \n",
              "3            1          1               1                  1             2   \n",
              "4            2          1               2                  2             2   \n",
              "\n",
              "   psy_annoy  psy_fear  gender_Female  gender_Male  age_AD  ...  \\\n",
              "0          3         2              0            1       0  ...   \n",
              "1          2         2              1            0       0  ...   \n",
              "2          0         0              0            1       0  ...   \n",
              "3          3         3              0            1       0  ...   \n",
              "4          2         1              0            1       0  ...   \n",
              "\n",
              "   covid_infec_No  covid_infec_Yes  covid_infec_fam_No  covid_infec_fam_Yes  \\\n",
              "0               1                0                   1                    0   \n",
              "1               1                0                   1                    0   \n",
              "2               1                0                   1                    0   \n",
              "3               1                0                   1                    0   \n",
              "4               1                0                   1                    0   \n",
              "\n",
              "   lose_family_No  lose_family_Yes  mental_counsel_No  mental_counsel_Yes  \\\n",
              "0               1                0                  1                   0   \n",
              "1               1                0                  1                   0   \n",
              "2               1                0                  0                   1   \n",
              "3               1                0                  1                   0   \n",
              "4               1                0                  1                   0   \n",
              "\n",
              "   anx_covid_No  anx_covid_Yes  \n",
              "0             1              0  \n",
              "1             0              1  \n",
              "2             1              0  \n",
              "3             0              1  \n",
              "4             0              1  \n",
              "\n",
              "[5 rows x 77 columns]"
            ],
            "text/html": [
              "\n",
              "  <div id=\"df-8ffd12de-4f71-4c4c-a5fb-30144ff48645\">\n",
              "    <div class=\"colab-df-container\">\n",
              "      <div>\n",
              "<style scoped>\n",
              "    .dataframe tbody tr th:only-of-type {\n",
              "        vertical-align: middle;\n",
              "    }\n",
              "\n",
              "    .dataframe tbody tr th {\n",
              "        vertical-align: top;\n",
              "    }\n",
              "\n",
              "    .dataframe thead th {\n",
              "        text-align: right;\n",
              "    }\n",
              "</style>\n",
              "<table border=\"1\" class=\"dataframe\">\n",
              "  <thead>\n",
              "    <tr style=\"text-align: right;\">\n",
              "      <th></th>\n",
              "      <th>psy_nervous</th>\n",
              "      <th>psy_worry</th>\n",
              "      <th>psy_diff_worry</th>\n",
              "      <th>psy_trouble_relax</th>\n",
              "      <th>psy_restless</th>\n",
              "      <th>psy_annoy</th>\n",
              "      <th>psy_fear</th>\n",
              "      <th>gender_Female</th>\n",
              "      <th>gender_Male</th>\n",
              "      <th>age_AD</th>\n",
              "      <th>...</th>\n",
              "      <th>covid_infec_No</th>\n",
              "      <th>covid_infec_Yes</th>\n",
              "      <th>covid_infec_fam_No</th>\n",
              "      <th>covid_infec_fam_Yes</th>\n",
              "      <th>lose_family_No</th>\n",
              "      <th>lose_family_Yes</th>\n",
              "      <th>mental_counsel_No</th>\n",
              "      <th>mental_counsel_Yes</th>\n",
              "      <th>anx_covid_No</th>\n",
              "      <th>anx_covid_Yes</th>\n",
              "    </tr>\n",
              "  </thead>\n",
              "  <tbody>\n",
              "    <tr>\n",
              "      <th>0</th>\n",
              "      <td>1</td>\n",
              "      <td>0</td>\n",
              "      <td>2</td>\n",
              "      <td>1</td>\n",
              "      <td>0</td>\n",
              "      <td>3</td>\n",
              "      <td>2</td>\n",
              "      <td>0</td>\n",
              "      <td>1</td>\n",
              "      <td>0</td>\n",
              "      <td>...</td>\n",
              "      <td>1</td>\n",
              "      <td>0</td>\n",
              "      <td>1</td>\n",
              "      <td>0</td>\n",
              "      <td>1</td>\n",
              "      <td>0</td>\n",
              "      <td>1</td>\n",
              "      <td>0</td>\n",
              "      <td>1</td>\n",
              "      <td>0</td>\n",
              "    </tr>\n",
              "    <tr>\n",
              "      <th>1</th>\n",
              "      <td>2</td>\n",
              "      <td>2</td>\n",
              "      <td>2</td>\n",
              "      <td>2</td>\n",
              "      <td>0</td>\n",
              "      <td>2</td>\n",
              "      <td>2</td>\n",
              "      <td>1</td>\n",
              "      <td>0</td>\n",
              "      <td>0</td>\n",
              "      <td>...</td>\n",
              "      <td>1</td>\n",
              "      <td>0</td>\n",
              "      <td>1</td>\n",
              "      <td>0</td>\n",
              "      <td>1</td>\n",
              "      <td>0</td>\n",
              "      <td>1</td>\n",
              "      <td>0</td>\n",
              "      <td>0</td>\n",
              "      <td>1</td>\n",
              "    </tr>\n",
              "    <tr>\n",
              "      <th>2</th>\n",
              "      <td>0</td>\n",
              "      <td>0</td>\n",
              "      <td>0</td>\n",
              "      <td>0</td>\n",
              "      <td>0</td>\n",
              "      <td>0</td>\n",
              "      <td>0</td>\n",
              "      <td>0</td>\n",
              "      <td>1</td>\n",
              "      <td>0</td>\n",
              "      <td>...</td>\n",
              "      <td>1</td>\n",
              "      <td>0</td>\n",
              "      <td>1</td>\n",
              "      <td>0</td>\n",
              "      <td>1</td>\n",
              "      <td>0</td>\n",
              "      <td>0</td>\n",
              "      <td>1</td>\n",
              "      <td>1</td>\n",
              "      <td>0</td>\n",
              "    </tr>\n",
              "    <tr>\n",
              "      <th>3</th>\n",
              "      <td>1</td>\n",
              "      <td>1</td>\n",
              "      <td>1</td>\n",
              "      <td>1</td>\n",
              "      <td>2</td>\n",
              "      <td>3</td>\n",
              "      <td>3</td>\n",
              "      <td>0</td>\n",
              "      <td>1</td>\n",
              "      <td>0</td>\n",
              "      <td>...</td>\n",
              "      <td>1</td>\n",
              "      <td>0</td>\n",
              "      <td>1</td>\n",
              "      <td>0</td>\n",
              "      <td>1</td>\n",
              "      <td>0</td>\n",
              "      <td>1</td>\n",
              "      <td>0</td>\n",
              "      <td>0</td>\n",
              "      <td>1</td>\n",
              "    </tr>\n",
              "    <tr>\n",
              "      <th>4</th>\n",
              "      <td>2</td>\n",
              "      <td>1</td>\n",
              "      <td>2</td>\n",
              "      <td>2</td>\n",
              "      <td>2</td>\n",
              "      <td>2</td>\n",
              "      <td>1</td>\n",
              "      <td>0</td>\n",
              "      <td>1</td>\n",
              "      <td>0</td>\n",
              "      <td>...</td>\n",
              "      <td>1</td>\n",
              "      <td>0</td>\n",
              "      <td>1</td>\n",
              "      <td>0</td>\n",
              "      <td>1</td>\n",
              "      <td>0</td>\n",
              "      <td>1</td>\n",
              "      <td>0</td>\n",
              "      <td>0</td>\n",
              "      <td>1</td>\n",
              "    </tr>\n",
              "  </tbody>\n",
              "</table>\n",
              "<p>5 rows × 77 columns</p>\n",
              "</div>\n",
              "      <button class=\"colab-df-convert\" onclick=\"convertToInteractive('df-8ffd12de-4f71-4c4c-a5fb-30144ff48645')\"\n",
              "              title=\"Convert this dataframe to an interactive table.\"\n",
              "              style=\"display:none;\">\n",
              "        \n",
              "  <svg xmlns=\"http://www.w3.org/2000/svg\" height=\"24px\"viewBox=\"0 0 24 24\"\n",
              "       width=\"24px\">\n",
              "    <path d=\"M0 0h24v24H0V0z\" fill=\"none\"/>\n",
              "    <path d=\"M18.56 5.44l.94 2.06.94-2.06 2.06-.94-2.06-.94-.94-2.06-.94 2.06-2.06.94zm-11 1L8.5 8.5l.94-2.06 2.06-.94-2.06-.94L8.5 2.5l-.94 2.06-2.06.94zm10 10l.94 2.06.94-2.06 2.06-.94-2.06-.94-.94-2.06-.94 2.06-2.06.94z\"/><path d=\"M17.41 7.96l-1.37-1.37c-.4-.4-.92-.59-1.43-.59-.52 0-1.04.2-1.43.59L10.3 9.45l-7.72 7.72c-.78.78-.78 2.05 0 2.83L4 21.41c.39.39.9.59 1.41.59.51 0 1.02-.2 1.41-.59l7.78-7.78 2.81-2.81c.8-.78.8-2.07 0-2.86zM5.41 20L4 18.59l7.72-7.72 1.47 1.35L5.41 20z\"/>\n",
              "  </svg>\n",
              "      </button>\n",
              "      \n",
              "  <style>\n",
              "    .colab-df-container {\n",
              "      display:flex;\n",
              "      flex-wrap:wrap;\n",
              "      gap: 12px;\n",
              "    }\n",
              "\n",
              "    .colab-df-convert {\n",
              "      background-color: #E8F0FE;\n",
              "      border: none;\n",
              "      border-radius: 50%;\n",
              "      cursor: pointer;\n",
              "      display: none;\n",
              "      fill: #1967D2;\n",
              "      height: 32px;\n",
              "      padding: 0 0 0 0;\n",
              "      width: 32px;\n",
              "    }\n",
              "\n",
              "    .colab-df-convert:hover {\n",
              "      background-color: #E2EBFA;\n",
              "      box-shadow: 0px 1px 2px rgba(60, 64, 67, 0.3), 0px 1px 3px 1px rgba(60, 64, 67, 0.15);\n",
              "      fill: #174EA6;\n",
              "    }\n",
              "\n",
              "    [theme=dark] .colab-df-convert {\n",
              "      background-color: #3B4455;\n",
              "      fill: #D2E3FC;\n",
              "    }\n",
              "\n",
              "    [theme=dark] .colab-df-convert:hover {\n",
              "      background-color: #434B5C;\n",
              "      box-shadow: 0px 1px 3px 1px rgba(0, 0, 0, 0.15);\n",
              "      filter: drop-shadow(0px 1px 2px rgba(0, 0, 0, 0.3));\n",
              "      fill: #FFFFFF;\n",
              "    }\n",
              "  </style>\n",
              "\n",
              "      <script>\n",
              "        const buttonEl =\n",
              "          document.querySelector('#df-8ffd12de-4f71-4c4c-a5fb-30144ff48645 button.colab-df-convert');\n",
              "        buttonEl.style.display =\n",
              "          google.colab.kernel.accessAllowed ? 'block' : 'none';\n",
              "\n",
              "        async function convertToInteractive(key) {\n",
              "          const element = document.querySelector('#df-8ffd12de-4f71-4c4c-a5fb-30144ff48645');\n",
              "          const dataTable =\n",
              "            await google.colab.kernel.invokeFunction('convertToInteractive',\n",
              "                                                     [key], {});\n",
              "          if (!dataTable) return;\n",
              "\n",
              "          const docLinkHtml = 'Like what you see? Visit the ' +\n",
              "            '<a target=\"_blank\" href=https://colab.research.google.com/notebooks/data_table.ipynb>data table notebook</a>'\n",
              "            + ' to learn more about interactive tables.';\n",
              "          element.innerHTML = '';\n",
              "          dataTable['output_type'] = 'display_data';\n",
              "          await google.colab.output.renderOutput(dataTable, element);\n",
              "          const docLink = document.createElement('div');\n",
              "          docLink.innerHTML = docLinkHtml;\n",
              "          element.appendChild(docLink);\n",
              "        }\n",
              "      </script>\n",
              "    </div>\n",
              "  </div>\n",
              "  "
            ]
          },
          "metadata": {},
          "execution_count": 56
        }
      ]
    },
    {
      "cell_type": "markdown",
      "source": [
        "### Finalizing scores and labels based on answers to psychological questions "
      ],
      "metadata": {
        "id": "8BxQEG_rgPsr"
      }
    },
    {
      "cell_type": "code",
      "source": [
        "#emotion_love\temotion_enjoyment\temotion_satisfaction\temotion_thankful\temotion_fear\temotion_anxiety\n",
        "finalScore=[]\n",
        "for score in df.index:\n",
        "     totalScore = df['psy_nervous'][score] + df['psy_worry'][score] + df['psy_diff_worry'][score] + df['psy_trouble_relax'][score] + df['psy_restless'][score] + df['psy_annoy'][score] + df['psy_fear'][score]\n",
        "     finalScore.append(totalScore)\n",
        "print(finalScore)"
      ],
      "metadata": {
        "colab": {
          "base_uri": "https://localhost:8080/"
        },
        "id": "TB73XnOGw7Fy",
        "outputId": "dbaeec4c-c800-4ef3-e41d-e934cb8a74c7"
      },
      "execution_count": 57,
      "outputs": [
        {
          "output_type": "stream",
          "name": "stdout",
          "text": [
            "[9, 12, 0, 12, 12, 0, 14, 18, 13, 2, 17, 9, 18, 11, 13, 17, 11, 10, 9, 4, 19, 14, 16, 14, 15, 14, 16, 9, 15, 14, 19, 10, 10, 7, 8, 5, 10, 13, 13, 3, 14, 17, 14, 19, 15, 5, 1, 21, 18, 13, 9, 7, 8, 14, 15, 5, 15, 3, 15, 9, 3, 14, 21, 21, 1, 21, 8, 21, 0, 20, 11, 16, 0, 10, 5, 8, 20, 17, 16, 21, 7, 6, 2, 13, 8, 5, 19, 13, 19, 7, 5, 1, 18, 12, 17, 14, 7, 17, 3, 7, 11, 12, 15, 7, 12, 10, 1, 14, 11, 11, 13, 15, 16, 15, 4, 15, 0, 13, 10, 5, 14, 17, 21, 15, 7, 8, 15, 18, 11, 4, 5, 20, 6, 10, 9, 13, 3, 18, 7, 6, 13, 16, 6, 21, 11, 11, 15, 1, 10, 13, 12, 15, 13, 13, 12, 17, 9, 0, 4, 12, 21, 12, 15, 11, 8, 10, 17, 21, 21, 8, 10, 17, 10, 14, 12, 16, 14, 20, 14, 14, 21, 15, 16, 14, 17, 18, 15, 19, 17, 18, 17, 18, 11, 17, 15, 21, 17, 21, 16, 14, 17, 18, 21, 16, 18, 13, 16, 14, 17, 17, 13, 19, 12, 19, 15, 15, 14, 13, 10, 16, 8, 17, 21, 12, 19]\n"
          ]
        }
      ]
    },
    {
      "cell_type": "code",
      "source": [
        "len(finalScore)"
      ],
      "metadata": {
        "colab": {
          "base_uri": "https://localhost:8080/"
        },
        "id": "5gK4sf_y3-vo",
        "outputId": "d67b3b4b-259b-44b4-d5f0-5a850dd627c6"
      },
      "execution_count": 58,
      "outputs": [
        {
          "output_type": "execute_result",
          "data": {
            "text/plain": [
              "225"
            ]
          },
          "metadata": {},
          "execution_count": 58
        }
      ]
    },
    {
      "cell_type": "markdown",
      "source": [
        "Assigning label to numerical value of psychological scores.\n",
        "\n",
        "This is labeled based on GAD-7 score. \n"
      ],
      "metadata": {
        "id": "PHmbZ-CXgjnq"
      }
    },
    {
      "cell_type": "code",
      "source": [
        "emotion_score = []\n",
        "for score in finalScore:\n",
        "  if score >= 15:\n",
        "    print(score,':Severe')\n",
        "    print()\n",
        "    emotion_score.append('Severe')\n",
        "  elif score>= 10 and score <= 14:\n",
        "    print(score,':Moderate')\n",
        "    print()\n",
        "    emotion_score.append('Moderate')\n",
        "  elif score>= 5 and score <= 9:\n",
        "    print(score,':Mild')\n",
        "    print()\n",
        "    emotion_score.append('Mild')\n",
        "  elif score <= 4:\n",
        "    print(score,'Minimal')\n",
        "    print()\n",
        "    emotion_score.append('Minimal')"
      ],
      "metadata": {
        "id": "PKu7nrE5xq8p",
        "colab": {
          "base_uri": "https://localhost:8080/"
        },
        "outputId": "f829e69c-47ba-4902-865a-a0d501c7f7c6"
      },
      "execution_count": 59,
      "outputs": [
        {
          "output_type": "stream",
          "name": "stdout",
          "text": [
            "9 :Mild\n",
            "\n",
            "12 :Moderate\n",
            "\n",
            "0 Minimal\n",
            "\n",
            "12 :Moderate\n",
            "\n",
            "12 :Moderate\n",
            "\n",
            "0 Minimal\n",
            "\n",
            "14 :Moderate\n",
            "\n",
            "18 :Severe\n",
            "\n",
            "13 :Moderate\n",
            "\n",
            "2 Minimal\n",
            "\n",
            "17 :Severe\n",
            "\n",
            "9 :Mild\n",
            "\n",
            "18 :Severe\n",
            "\n",
            "11 :Moderate\n",
            "\n",
            "13 :Moderate\n",
            "\n",
            "17 :Severe\n",
            "\n",
            "11 :Moderate\n",
            "\n",
            "10 :Moderate\n",
            "\n",
            "9 :Mild\n",
            "\n",
            "4 Minimal\n",
            "\n",
            "19 :Severe\n",
            "\n",
            "14 :Moderate\n",
            "\n",
            "16 :Severe\n",
            "\n",
            "14 :Moderate\n",
            "\n",
            "15 :Severe\n",
            "\n",
            "14 :Moderate\n",
            "\n",
            "16 :Severe\n",
            "\n",
            "9 :Mild\n",
            "\n",
            "15 :Severe\n",
            "\n",
            "14 :Moderate\n",
            "\n",
            "19 :Severe\n",
            "\n",
            "10 :Moderate\n",
            "\n",
            "10 :Moderate\n",
            "\n",
            "7 :Mild\n",
            "\n",
            "8 :Mild\n",
            "\n",
            "5 :Mild\n",
            "\n",
            "10 :Moderate\n",
            "\n",
            "13 :Moderate\n",
            "\n",
            "13 :Moderate\n",
            "\n",
            "3 Minimal\n",
            "\n",
            "14 :Moderate\n",
            "\n",
            "17 :Severe\n",
            "\n",
            "14 :Moderate\n",
            "\n",
            "19 :Severe\n",
            "\n",
            "15 :Severe\n",
            "\n",
            "5 :Mild\n",
            "\n",
            "1 Minimal\n",
            "\n",
            "21 :Severe\n",
            "\n",
            "18 :Severe\n",
            "\n",
            "13 :Moderate\n",
            "\n",
            "9 :Mild\n",
            "\n",
            "7 :Mild\n",
            "\n",
            "8 :Mild\n",
            "\n",
            "14 :Moderate\n",
            "\n",
            "15 :Severe\n",
            "\n",
            "5 :Mild\n",
            "\n",
            "15 :Severe\n",
            "\n",
            "3 Minimal\n",
            "\n",
            "15 :Severe\n",
            "\n",
            "9 :Mild\n",
            "\n",
            "3 Minimal\n",
            "\n",
            "14 :Moderate\n",
            "\n",
            "21 :Severe\n",
            "\n",
            "21 :Severe\n",
            "\n",
            "1 Minimal\n",
            "\n",
            "21 :Severe\n",
            "\n",
            "8 :Mild\n",
            "\n",
            "21 :Severe\n",
            "\n",
            "0 Minimal\n",
            "\n",
            "20 :Severe\n",
            "\n",
            "11 :Moderate\n",
            "\n",
            "16 :Severe\n",
            "\n",
            "0 Minimal\n",
            "\n",
            "10 :Moderate\n",
            "\n",
            "5 :Mild\n",
            "\n",
            "8 :Mild\n",
            "\n",
            "20 :Severe\n",
            "\n",
            "17 :Severe\n",
            "\n",
            "16 :Severe\n",
            "\n",
            "21 :Severe\n",
            "\n",
            "7 :Mild\n",
            "\n",
            "6 :Mild\n",
            "\n",
            "2 Minimal\n",
            "\n",
            "13 :Moderate\n",
            "\n",
            "8 :Mild\n",
            "\n",
            "5 :Mild\n",
            "\n",
            "19 :Severe\n",
            "\n",
            "13 :Moderate\n",
            "\n",
            "19 :Severe\n",
            "\n",
            "7 :Mild\n",
            "\n",
            "5 :Mild\n",
            "\n",
            "1 Minimal\n",
            "\n",
            "18 :Severe\n",
            "\n",
            "12 :Moderate\n",
            "\n",
            "17 :Severe\n",
            "\n",
            "14 :Moderate\n",
            "\n",
            "7 :Mild\n",
            "\n",
            "17 :Severe\n",
            "\n",
            "3 Minimal\n",
            "\n",
            "7 :Mild\n",
            "\n",
            "11 :Moderate\n",
            "\n",
            "12 :Moderate\n",
            "\n",
            "15 :Severe\n",
            "\n",
            "7 :Mild\n",
            "\n",
            "12 :Moderate\n",
            "\n",
            "10 :Moderate\n",
            "\n",
            "1 Minimal\n",
            "\n",
            "14 :Moderate\n",
            "\n",
            "11 :Moderate\n",
            "\n",
            "11 :Moderate\n",
            "\n",
            "13 :Moderate\n",
            "\n",
            "15 :Severe\n",
            "\n",
            "16 :Severe\n",
            "\n",
            "15 :Severe\n",
            "\n",
            "4 Minimal\n",
            "\n",
            "15 :Severe\n",
            "\n",
            "0 Minimal\n",
            "\n",
            "13 :Moderate\n",
            "\n",
            "10 :Moderate\n",
            "\n",
            "5 :Mild\n",
            "\n",
            "14 :Moderate\n",
            "\n",
            "17 :Severe\n",
            "\n",
            "21 :Severe\n",
            "\n",
            "15 :Severe\n",
            "\n",
            "7 :Mild\n",
            "\n",
            "8 :Mild\n",
            "\n",
            "15 :Severe\n",
            "\n",
            "18 :Severe\n",
            "\n",
            "11 :Moderate\n",
            "\n",
            "4 Minimal\n",
            "\n",
            "5 :Mild\n",
            "\n",
            "20 :Severe\n",
            "\n",
            "6 :Mild\n",
            "\n",
            "10 :Moderate\n",
            "\n",
            "9 :Mild\n",
            "\n",
            "13 :Moderate\n",
            "\n",
            "3 Minimal\n",
            "\n",
            "18 :Severe\n",
            "\n",
            "7 :Mild\n",
            "\n",
            "6 :Mild\n",
            "\n",
            "13 :Moderate\n",
            "\n",
            "16 :Severe\n",
            "\n",
            "6 :Mild\n",
            "\n",
            "21 :Severe\n",
            "\n",
            "11 :Moderate\n",
            "\n",
            "11 :Moderate\n",
            "\n",
            "15 :Severe\n",
            "\n",
            "1 Minimal\n",
            "\n",
            "10 :Moderate\n",
            "\n",
            "13 :Moderate\n",
            "\n",
            "12 :Moderate\n",
            "\n",
            "15 :Severe\n",
            "\n",
            "13 :Moderate\n",
            "\n",
            "13 :Moderate\n",
            "\n",
            "12 :Moderate\n",
            "\n",
            "17 :Severe\n",
            "\n",
            "9 :Mild\n",
            "\n",
            "0 Minimal\n",
            "\n",
            "4 Minimal\n",
            "\n",
            "12 :Moderate\n",
            "\n",
            "21 :Severe\n",
            "\n",
            "12 :Moderate\n",
            "\n",
            "15 :Severe\n",
            "\n",
            "11 :Moderate\n",
            "\n",
            "8 :Mild\n",
            "\n",
            "10 :Moderate\n",
            "\n",
            "17 :Severe\n",
            "\n",
            "21 :Severe\n",
            "\n",
            "21 :Severe\n",
            "\n",
            "8 :Mild\n",
            "\n",
            "10 :Moderate\n",
            "\n",
            "17 :Severe\n",
            "\n",
            "10 :Moderate\n",
            "\n",
            "14 :Moderate\n",
            "\n",
            "12 :Moderate\n",
            "\n",
            "16 :Severe\n",
            "\n",
            "14 :Moderate\n",
            "\n",
            "20 :Severe\n",
            "\n",
            "14 :Moderate\n",
            "\n",
            "14 :Moderate\n",
            "\n",
            "21 :Severe\n",
            "\n",
            "15 :Severe\n",
            "\n",
            "16 :Severe\n",
            "\n",
            "14 :Moderate\n",
            "\n",
            "17 :Severe\n",
            "\n",
            "18 :Severe\n",
            "\n",
            "15 :Severe\n",
            "\n",
            "19 :Severe\n",
            "\n",
            "17 :Severe\n",
            "\n",
            "18 :Severe\n",
            "\n",
            "17 :Severe\n",
            "\n",
            "18 :Severe\n",
            "\n",
            "11 :Moderate\n",
            "\n",
            "17 :Severe\n",
            "\n",
            "15 :Severe\n",
            "\n",
            "21 :Severe\n",
            "\n",
            "17 :Severe\n",
            "\n",
            "21 :Severe\n",
            "\n",
            "16 :Severe\n",
            "\n",
            "14 :Moderate\n",
            "\n",
            "17 :Severe\n",
            "\n",
            "18 :Severe\n",
            "\n",
            "21 :Severe\n",
            "\n",
            "16 :Severe\n",
            "\n",
            "18 :Severe\n",
            "\n",
            "13 :Moderate\n",
            "\n",
            "16 :Severe\n",
            "\n",
            "14 :Moderate\n",
            "\n",
            "17 :Severe\n",
            "\n",
            "17 :Severe\n",
            "\n",
            "13 :Moderate\n",
            "\n",
            "19 :Severe\n",
            "\n",
            "12 :Moderate\n",
            "\n",
            "19 :Severe\n",
            "\n",
            "15 :Severe\n",
            "\n",
            "15 :Severe\n",
            "\n",
            "14 :Moderate\n",
            "\n",
            "13 :Moderate\n",
            "\n",
            "10 :Moderate\n",
            "\n",
            "16 :Severe\n",
            "\n",
            "8 :Mild\n",
            "\n",
            "17 :Severe\n",
            "\n",
            "21 :Severe\n",
            "\n",
            "12 :Moderate\n",
            "\n",
            "19 :Severe\n",
            "\n"
          ]
        }
      ]
    },
    {
      "cell_type": "code",
      "source": [
        "len(emotion_score)"
      ],
      "metadata": {
        "colab": {
          "base_uri": "https://localhost:8080/"
        },
        "id": "V5ohwexm7YZe",
        "outputId": "3539f8bf-d28d-471d-b63f-78a9ea289e85"
      },
      "execution_count": 60,
      "outputs": [
        {
          "output_type": "execute_result",
          "data": {
            "text/plain": [
              "225"
            ]
          },
          "metadata": {},
          "execution_count": 60
        }
      ]
    },
    {
      "cell_type": "code",
      "source": [
        "df['emotion_score'] = emotion_score"
      ],
      "metadata": {
        "id": "bJ8kJpy80UYa"
      },
      "execution_count": 61,
      "outputs": []
    },
    {
      "cell_type": "code",
      "source": [
        "df.head()"
      ],
      "metadata": {
        "id": "c3613zPF0srF",
        "colab": {
          "base_uri": "https://localhost:8080/",
          "height": 300
        },
        "outputId": "14202f53-e348-478d-bd0b-42081d692284"
      },
      "execution_count": 62,
      "outputs": [
        {
          "output_type": "execute_result",
          "data": {
            "text/plain": [
              "   psy_nervous  psy_worry  psy_diff_worry  psy_trouble_relax  psy_restless  \\\n",
              "0            1          0               2                  1             0   \n",
              "1            2          2               2                  2             0   \n",
              "2            0          0               0                  0             0   \n",
              "3            1          1               1                  1             2   \n",
              "4            2          1               2                  2             2   \n",
              "\n",
              "   psy_annoy  psy_fear  gender_Female  gender_Male  age_AD  ...  \\\n",
              "0          3         2              0            1       0  ...   \n",
              "1          2         2              1            0       0  ...   \n",
              "2          0         0              0            1       0  ...   \n",
              "3          3         3              0            1       0  ...   \n",
              "4          2         1              0            1       0  ...   \n",
              "\n",
              "   covid_infec_Yes  covid_infec_fam_No  covid_infec_fam_Yes  lose_family_No  \\\n",
              "0                0                   1                    0               1   \n",
              "1                0                   1                    0               1   \n",
              "2                0                   1                    0               1   \n",
              "3                0                   1                    0               1   \n",
              "4                0                   1                    0               1   \n",
              "\n",
              "   lose_family_Yes  mental_counsel_No  mental_counsel_Yes  anx_covid_No  \\\n",
              "0                0                  1                   0             1   \n",
              "1                0                  1                   0             0   \n",
              "2                0                  0                   1             1   \n",
              "3                0                  1                   0             0   \n",
              "4                0                  1                   0             0   \n",
              "\n",
              "   anx_covid_Yes  emotion_score  \n",
              "0              0           Mild  \n",
              "1              1       Moderate  \n",
              "2              0        Minimal  \n",
              "3              1       Moderate  \n",
              "4              1       Moderate  \n",
              "\n",
              "[5 rows x 78 columns]"
            ],
            "text/html": [
              "\n",
              "  <div id=\"df-fe15b865-6d4d-4167-a1aa-5595b3f266ca\">\n",
              "    <div class=\"colab-df-container\">\n",
              "      <div>\n",
              "<style scoped>\n",
              "    .dataframe tbody tr th:only-of-type {\n",
              "        vertical-align: middle;\n",
              "    }\n",
              "\n",
              "    .dataframe tbody tr th {\n",
              "        vertical-align: top;\n",
              "    }\n",
              "\n",
              "    .dataframe thead th {\n",
              "        text-align: right;\n",
              "    }\n",
              "</style>\n",
              "<table border=\"1\" class=\"dataframe\">\n",
              "  <thead>\n",
              "    <tr style=\"text-align: right;\">\n",
              "      <th></th>\n",
              "      <th>psy_nervous</th>\n",
              "      <th>psy_worry</th>\n",
              "      <th>psy_diff_worry</th>\n",
              "      <th>psy_trouble_relax</th>\n",
              "      <th>psy_restless</th>\n",
              "      <th>psy_annoy</th>\n",
              "      <th>psy_fear</th>\n",
              "      <th>gender_Female</th>\n",
              "      <th>gender_Male</th>\n",
              "      <th>age_AD</th>\n",
              "      <th>...</th>\n",
              "      <th>covid_infec_Yes</th>\n",
              "      <th>covid_infec_fam_No</th>\n",
              "      <th>covid_infec_fam_Yes</th>\n",
              "      <th>lose_family_No</th>\n",
              "      <th>lose_family_Yes</th>\n",
              "      <th>mental_counsel_No</th>\n",
              "      <th>mental_counsel_Yes</th>\n",
              "      <th>anx_covid_No</th>\n",
              "      <th>anx_covid_Yes</th>\n",
              "      <th>emotion_score</th>\n",
              "    </tr>\n",
              "  </thead>\n",
              "  <tbody>\n",
              "    <tr>\n",
              "      <th>0</th>\n",
              "      <td>1</td>\n",
              "      <td>0</td>\n",
              "      <td>2</td>\n",
              "      <td>1</td>\n",
              "      <td>0</td>\n",
              "      <td>3</td>\n",
              "      <td>2</td>\n",
              "      <td>0</td>\n",
              "      <td>1</td>\n",
              "      <td>0</td>\n",
              "      <td>...</td>\n",
              "      <td>0</td>\n",
              "      <td>1</td>\n",
              "      <td>0</td>\n",
              "      <td>1</td>\n",
              "      <td>0</td>\n",
              "      <td>1</td>\n",
              "      <td>0</td>\n",
              "      <td>1</td>\n",
              "      <td>0</td>\n",
              "      <td>Mild</td>\n",
              "    </tr>\n",
              "    <tr>\n",
              "      <th>1</th>\n",
              "      <td>2</td>\n",
              "      <td>2</td>\n",
              "      <td>2</td>\n",
              "      <td>2</td>\n",
              "      <td>0</td>\n",
              "      <td>2</td>\n",
              "      <td>2</td>\n",
              "      <td>1</td>\n",
              "      <td>0</td>\n",
              "      <td>0</td>\n",
              "      <td>...</td>\n",
              "      <td>0</td>\n",
              "      <td>1</td>\n",
              "      <td>0</td>\n",
              "      <td>1</td>\n",
              "      <td>0</td>\n",
              "      <td>1</td>\n",
              "      <td>0</td>\n",
              "      <td>0</td>\n",
              "      <td>1</td>\n",
              "      <td>Moderate</td>\n",
              "    </tr>\n",
              "    <tr>\n",
              "      <th>2</th>\n",
              "      <td>0</td>\n",
              "      <td>0</td>\n",
              "      <td>0</td>\n",
              "      <td>0</td>\n",
              "      <td>0</td>\n",
              "      <td>0</td>\n",
              "      <td>0</td>\n",
              "      <td>0</td>\n",
              "      <td>1</td>\n",
              "      <td>0</td>\n",
              "      <td>...</td>\n",
              "      <td>0</td>\n",
              "      <td>1</td>\n",
              "      <td>0</td>\n",
              "      <td>1</td>\n",
              "      <td>0</td>\n",
              "      <td>0</td>\n",
              "      <td>1</td>\n",
              "      <td>1</td>\n",
              "      <td>0</td>\n",
              "      <td>Minimal</td>\n",
              "    </tr>\n",
              "    <tr>\n",
              "      <th>3</th>\n",
              "      <td>1</td>\n",
              "      <td>1</td>\n",
              "      <td>1</td>\n",
              "      <td>1</td>\n",
              "      <td>2</td>\n",
              "      <td>3</td>\n",
              "      <td>3</td>\n",
              "      <td>0</td>\n",
              "      <td>1</td>\n",
              "      <td>0</td>\n",
              "      <td>...</td>\n",
              "      <td>0</td>\n",
              "      <td>1</td>\n",
              "      <td>0</td>\n",
              "      <td>1</td>\n",
              "      <td>0</td>\n",
              "      <td>1</td>\n",
              "      <td>0</td>\n",
              "      <td>0</td>\n",
              "      <td>1</td>\n",
              "      <td>Moderate</td>\n",
              "    </tr>\n",
              "    <tr>\n",
              "      <th>4</th>\n",
              "      <td>2</td>\n",
              "      <td>1</td>\n",
              "      <td>2</td>\n",
              "      <td>2</td>\n",
              "      <td>2</td>\n",
              "      <td>2</td>\n",
              "      <td>1</td>\n",
              "      <td>0</td>\n",
              "      <td>1</td>\n",
              "      <td>0</td>\n",
              "      <td>...</td>\n",
              "      <td>0</td>\n",
              "      <td>1</td>\n",
              "      <td>0</td>\n",
              "      <td>1</td>\n",
              "      <td>0</td>\n",
              "      <td>1</td>\n",
              "      <td>0</td>\n",
              "      <td>0</td>\n",
              "      <td>1</td>\n",
              "      <td>Moderate</td>\n",
              "    </tr>\n",
              "  </tbody>\n",
              "</table>\n",
              "<p>5 rows × 78 columns</p>\n",
              "</div>\n",
              "      <button class=\"colab-df-convert\" onclick=\"convertToInteractive('df-fe15b865-6d4d-4167-a1aa-5595b3f266ca')\"\n",
              "              title=\"Convert this dataframe to an interactive table.\"\n",
              "              style=\"display:none;\">\n",
              "        \n",
              "  <svg xmlns=\"http://www.w3.org/2000/svg\" height=\"24px\"viewBox=\"0 0 24 24\"\n",
              "       width=\"24px\">\n",
              "    <path d=\"M0 0h24v24H0V0z\" fill=\"none\"/>\n",
              "    <path d=\"M18.56 5.44l.94 2.06.94-2.06 2.06-.94-2.06-.94-.94-2.06-.94 2.06-2.06.94zm-11 1L8.5 8.5l.94-2.06 2.06-.94-2.06-.94L8.5 2.5l-.94 2.06-2.06.94zm10 10l.94 2.06.94-2.06 2.06-.94-2.06-.94-.94-2.06-.94 2.06-2.06.94z\"/><path d=\"M17.41 7.96l-1.37-1.37c-.4-.4-.92-.59-1.43-.59-.52 0-1.04.2-1.43.59L10.3 9.45l-7.72 7.72c-.78.78-.78 2.05 0 2.83L4 21.41c.39.39.9.59 1.41.59.51 0 1.02-.2 1.41-.59l7.78-7.78 2.81-2.81c.8-.78.8-2.07 0-2.86zM5.41 20L4 18.59l7.72-7.72 1.47 1.35L5.41 20z\"/>\n",
              "  </svg>\n",
              "      </button>\n",
              "      \n",
              "  <style>\n",
              "    .colab-df-container {\n",
              "      display:flex;\n",
              "      flex-wrap:wrap;\n",
              "      gap: 12px;\n",
              "    }\n",
              "\n",
              "    .colab-df-convert {\n",
              "      background-color: #E8F0FE;\n",
              "      border: none;\n",
              "      border-radius: 50%;\n",
              "      cursor: pointer;\n",
              "      display: none;\n",
              "      fill: #1967D2;\n",
              "      height: 32px;\n",
              "      padding: 0 0 0 0;\n",
              "      width: 32px;\n",
              "    }\n",
              "\n",
              "    .colab-df-convert:hover {\n",
              "      background-color: #E2EBFA;\n",
              "      box-shadow: 0px 1px 2px rgba(60, 64, 67, 0.3), 0px 1px 3px 1px rgba(60, 64, 67, 0.15);\n",
              "      fill: #174EA6;\n",
              "    }\n",
              "\n",
              "    [theme=dark] .colab-df-convert {\n",
              "      background-color: #3B4455;\n",
              "      fill: #D2E3FC;\n",
              "    }\n",
              "\n",
              "    [theme=dark] .colab-df-convert:hover {\n",
              "      background-color: #434B5C;\n",
              "      box-shadow: 0px 1px 3px 1px rgba(0, 0, 0, 0.15);\n",
              "      filter: drop-shadow(0px 1px 2px rgba(0, 0, 0, 0.3));\n",
              "      fill: #FFFFFF;\n",
              "    }\n",
              "  </style>\n",
              "\n",
              "      <script>\n",
              "        const buttonEl =\n",
              "          document.querySelector('#df-fe15b865-6d4d-4167-a1aa-5595b3f266ca button.colab-df-convert');\n",
              "        buttonEl.style.display =\n",
              "          google.colab.kernel.accessAllowed ? 'block' : 'none';\n",
              "\n",
              "        async function convertToInteractive(key) {\n",
              "          const element = document.querySelector('#df-fe15b865-6d4d-4167-a1aa-5595b3f266ca');\n",
              "          const dataTable =\n",
              "            await google.colab.kernel.invokeFunction('convertToInteractive',\n",
              "                                                     [key], {});\n",
              "          if (!dataTable) return;\n",
              "\n",
              "          const docLinkHtml = 'Like what you see? Visit the ' +\n",
              "            '<a target=\"_blank\" href=https://colab.research.google.com/notebooks/data_table.ipynb>data table notebook</a>'\n",
              "            + ' to learn more about interactive tables.';\n",
              "          element.innerHTML = '';\n",
              "          dataTable['output_type'] = 'display_data';\n",
              "          await google.colab.output.renderOutput(dataTable, element);\n",
              "          const docLink = document.createElement('div');\n",
              "          docLink.innerHTML = docLinkHtml;\n",
              "          element.appendChild(docLink);\n",
              "        }\n",
              "      </script>\n",
              "    </div>\n",
              "  </div>\n",
              "  "
            ]
          },
          "metadata": {},
          "execution_count": 62
        }
      ]
    },
    {
      "cell_type": "markdown",
      "source": [
        "Dropping individual scores of each psychological questions"
      ],
      "metadata": {
        "id": "41BhQWt5gzEd"
      }
    },
    {
      "cell_type": "code",
      "source": [
        "dropList = ['psy_nervous', 'psy_worry', 'psy_diff_worry', 'psy_trouble_relax', 'psy_restless', 'psy_annoy', 'psy_fear']"
      ],
      "metadata": {
        "id": "r--hLhFi8Xh-"
      },
      "execution_count": 63,
      "outputs": []
    },
    {
      "cell_type": "code",
      "source": [
        "df.drop(dropList,axis=1,inplace=True)"
      ],
      "metadata": {
        "id": "8vxPKGxP96E_"
      },
      "execution_count": 64,
      "outputs": []
    },
    {
      "cell_type": "code",
      "source": [
        "df.head()"
      ],
      "metadata": {
        "colab": {
          "base_uri": "https://localhost:8080/",
          "height": 300
        },
        "id": "eFUrhz7E98fj",
        "outputId": "3287b6f9-7733-4462-85c2-bf22a380332b"
      },
      "execution_count": 65,
      "outputs": [
        {
          "output_type": "execute_result",
          "data": {
            "text/plain": [
              "   gender_Female  gender_Male  age_AD  age_CH  age_OA  age_OL  age_YA  \\\n",
              "0              0            1       0       0       0       0       1   \n",
              "1              1            0       0       0       0       0       1   \n",
              "2              0            1       0       0       0       0       1   \n",
              "3              0            1       0       0       0       0       1   \n",
              "4              0            1       0       0       0       0       1   \n",
              "\n",
              "   mar_status_Married  mar_status_Unmarried  profession_Employed  ...  \\\n",
              "0                   0                     1                    0  ...   \n",
              "1                   0                     1                    0  ...   \n",
              "2                   0                     1                    0  ...   \n",
              "3                   0                     1                    0  ...   \n",
              "4                   0                     1                    0  ...   \n",
              "\n",
              "   covid_infec_Yes  covid_infec_fam_No  covid_infec_fam_Yes  lose_family_No  \\\n",
              "0                0                   1                    0               1   \n",
              "1                0                   1                    0               1   \n",
              "2                0                   1                    0               1   \n",
              "3                0                   1                    0               1   \n",
              "4                0                   1                    0               1   \n",
              "\n",
              "   lose_family_Yes  mental_counsel_No  mental_counsel_Yes  anx_covid_No  \\\n",
              "0                0                  1                   0             1   \n",
              "1                0                  1                   0             0   \n",
              "2                0                  0                   1             1   \n",
              "3                0                  1                   0             0   \n",
              "4                0                  1                   0             0   \n",
              "\n",
              "   anx_covid_Yes  emotion_score  \n",
              "0              0           Mild  \n",
              "1              1       Moderate  \n",
              "2              0        Minimal  \n",
              "3              1       Moderate  \n",
              "4              1       Moderate  \n",
              "\n",
              "[5 rows x 71 columns]"
            ],
            "text/html": [
              "\n",
              "  <div id=\"df-bcd0ab86-d7a9-4f8f-a1e0-b9bfef6a1f8a\">\n",
              "    <div class=\"colab-df-container\">\n",
              "      <div>\n",
              "<style scoped>\n",
              "    .dataframe tbody tr th:only-of-type {\n",
              "        vertical-align: middle;\n",
              "    }\n",
              "\n",
              "    .dataframe tbody tr th {\n",
              "        vertical-align: top;\n",
              "    }\n",
              "\n",
              "    .dataframe thead th {\n",
              "        text-align: right;\n",
              "    }\n",
              "</style>\n",
              "<table border=\"1\" class=\"dataframe\">\n",
              "  <thead>\n",
              "    <tr style=\"text-align: right;\">\n",
              "      <th></th>\n",
              "      <th>gender_Female</th>\n",
              "      <th>gender_Male</th>\n",
              "      <th>age_AD</th>\n",
              "      <th>age_CH</th>\n",
              "      <th>age_OA</th>\n",
              "      <th>age_OL</th>\n",
              "      <th>age_YA</th>\n",
              "      <th>mar_status_Married</th>\n",
              "      <th>mar_status_Unmarried</th>\n",
              "      <th>profession_Employed</th>\n",
              "      <th>...</th>\n",
              "      <th>covid_infec_Yes</th>\n",
              "      <th>covid_infec_fam_No</th>\n",
              "      <th>covid_infec_fam_Yes</th>\n",
              "      <th>lose_family_No</th>\n",
              "      <th>lose_family_Yes</th>\n",
              "      <th>mental_counsel_No</th>\n",
              "      <th>mental_counsel_Yes</th>\n",
              "      <th>anx_covid_No</th>\n",
              "      <th>anx_covid_Yes</th>\n",
              "      <th>emotion_score</th>\n",
              "    </tr>\n",
              "  </thead>\n",
              "  <tbody>\n",
              "    <tr>\n",
              "      <th>0</th>\n",
              "      <td>0</td>\n",
              "      <td>1</td>\n",
              "      <td>0</td>\n",
              "      <td>0</td>\n",
              "      <td>0</td>\n",
              "      <td>0</td>\n",
              "      <td>1</td>\n",
              "      <td>0</td>\n",
              "      <td>1</td>\n",
              "      <td>0</td>\n",
              "      <td>...</td>\n",
              "      <td>0</td>\n",
              "      <td>1</td>\n",
              "      <td>0</td>\n",
              "      <td>1</td>\n",
              "      <td>0</td>\n",
              "      <td>1</td>\n",
              "      <td>0</td>\n",
              "      <td>1</td>\n",
              "      <td>0</td>\n",
              "      <td>Mild</td>\n",
              "    </tr>\n",
              "    <tr>\n",
              "      <th>1</th>\n",
              "      <td>1</td>\n",
              "      <td>0</td>\n",
              "      <td>0</td>\n",
              "      <td>0</td>\n",
              "      <td>0</td>\n",
              "      <td>0</td>\n",
              "      <td>1</td>\n",
              "      <td>0</td>\n",
              "      <td>1</td>\n",
              "      <td>0</td>\n",
              "      <td>...</td>\n",
              "      <td>0</td>\n",
              "      <td>1</td>\n",
              "      <td>0</td>\n",
              "      <td>1</td>\n",
              "      <td>0</td>\n",
              "      <td>1</td>\n",
              "      <td>0</td>\n",
              "      <td>0</td>\n",
              "      <td>1</td>\n",
              "      <td>Moderate</td>\n",
              "    </tr>\n",
              "    <tr>\n",
              "      <th>2</th>\n",
              "      <td>0</td>\n",
              "      <td>1</td>\n",
              "      <td>0</td>\n",
              "      <td>0</td>\n",
              "      <td>0</td>\n",
              "      <td>0</td>\n",
              "      <td>1</td>\n",
              "      <td>0</td>\n",
              "      <td>1</td>\n",
              "      <td>0</td>\n",
              "      <td>...</td>\n",
              "      <td>0</td>\n",
              "      <td>1</td>\n",
              "      <td>0</td>\n",
              "      <td>1</td>\n",
              "      <td>0</td>\n",
              "      <td>0</td>\n",
              "      <td>1</td>\n",
              "      <td>1</td>\n",
              "      <td>0</td>\n",
              "      <td>Minimal</td>\n",
              "    </tr>\n",
              "    <tr>\n",
              "      <th>3</th>\n",
              "      <td>0</td>\n",
              "      <td>1</td>\n",
              "      <td>0</td>\n",
              "      <td>0</td>\n",
              "      <td>0</td>\n",
              "      <td>0</td>\n",
              "      <td>1</td>\n",
              "      <td>0</td>\n",
              "      <td>1</td>\n",
              "      <td>0</td>\n",
              "      <td>...</td>\n",
              "      <td>0</td>\n",
              "      <td>1</td>\n",
              "      <td>0</td>\n",
              "      <td>1</td>\n",
              "      <td>0</td>\n",
              "      <td>1</td>\n",
              "      <td>0</td>\n",
              "      <td>0</td>\n",
              "      <td>1</td>\n",
              "      <td>Moderate</td>\n",
              "    </tr>\n",
              "    <tr>\n",
              "      <th>4</th>\n",
              "      <td>0</td>\n",
              "      <td>1</td>\n",
              "      <td>0</td>\n",
              "      <td>0</td>\n",
              "      <td>0</td>\n",
              "      <td>0</td>\n",
              "      <td>1</td>\n",
              "      <td>0</td>\n",
              "      <td>1</td>\n",
              "      <td>0</td>\n",
              "      <td>...</td>\n",
              "      <td>0</td>\n",
              "      <td>1</td>\n",
              "      <td>0</td>\n",
              "      <td>1</td>\n",
              "      <td>0</td>\n",
              "      <td>1</td>\n",
              "      <td>0</td>\n",
              "      <td>0</td>\n",
              "      <td>1</td>\n",
              "      <td>Moderate</td>\n",
              "    </tr>\n",
              "  </tbody>\n",
              "</table>\n",
              "<p>5 rows × 71 columns</p>\n",
              "</div>\n",
              "      <button class=\"colab-df-convert\" onclick=\"convertToInteractive('df-bcd0ab86-d7a9-4f8f-a1e0-b9bfef6a1f8a')\"\n",
              "              title=\"Convert this dataframe to an interactive table.\"\n",
              "              style=\"display:none;\">\n",
              "        \n",
              "  <svg xmlns=\"http://www.w3.org/2000/svg\" height=\"24px\"viewBox=\"0 0 24 24\"\n",
              "       width=\"24px\">\n",
              "    <path d=\"M0 0h24v24H0V0z\" fill=\"none\"/>\n",
              "    <path d=\"M18.56 5.44l.94 2.06.94-2.06 2.06-.94-2.06-.94-.94-2.06-.94 2.06-2.06.94zm-11 1L8.5 8.5l.94-2.06 2.06-.94-2.06-.94L8.5 2.5l-.94 2.06-2.06.94zm10 10l.94 2.06.94-2.06 2.06-.94-2.06-.94-.94-2.06-.94 2.06-2.06.94z\"/><path d=\"M17.41 7.96l-1.37-1.37c-.4-.4-.92-.59-1.43-.59-.52 0-1.04.2-1.43.59L10.3 9.45l-7.72 7.72c-.78.78-.78 2.05 0 2.83L4 21.41c.39.39.9.59 1.41.59.51 0 1.02-.2 1.41-.59l7.78-7.78 2.81-2.81c.8-.78.8-2.07 0-2.86zM5.41 20L4 18.59l7.72-7.72 1.47 1.35L5.41 20z\"/>\n",
              "  </svg>\n",
              "      </button>\n",
              "      \n",
              "  <style>\n",
              "    .colab-df-container {\n",
              "      display:flex;\n",
              "      flex-wrap:wrap;\n",
              "      gap: 12px;\n",
              "    }\n",
              "\n",
              "    .colab-df-convert {\n",
              "      background-color: #E8F0FE;\n",
              "      border: none;\n",
              "      border-radius: 50%;\n",
              "      cursor: pointer;\n",
              "      display: none;\n",
              "      fill: #1967D2;\n",
              "      height: 32px;\n",
              "      padding: 0 0 0 0;\n",
              "      width: 32px;\n",
              "    }\n",
              "\n",
              "    .colab-df-convert:hover {\n",
              "      background-color: #E2EBFA;\n",
              "      box-shadow: 0px 1px 2px rgba(60, 64, 67, 0.3), 0px 1px 3px 1px rgba(60, 64, 67, 0.15);\n",
              "      fill: #174EA6;\n",
              "    }\n",
              "\n",
              "    [theme=dark] .colab-df-convert {\n",
              "      background-color: #3B4455;\n",
              "      fill: #D2E3FC;\n",
              "    }\n",
              "\n",
              "    [theme=dark] .colab-df-convert:hover {\n",
              "      background-color: #434B5C;\n",
              "      box-shadow: 0px 1px 3px 1px rgba(0, 0, 0, 0.15);\n",
              "      filter: drop-shadow(0px 1px 2px rgba(0, 0, 0, 0.3));\n",
              "      fill: #FFFFFF;\n",
              "    }\n",
              "  </style>\n",
              "\n",
              "      <script>\n",
              "        const buttonEl =\n",
              "          document.querySelector('#df-bcd0ab86-d7a9-4f8f-a1e0-b9bfef6a1f8a button.colab-df-convert');\n",
              "        buttonEl.style.display =\n",
              "          google.colab.kernel.accessAllowed ? 'block' : 'none';\n",
              "\n",
              "        async function convertToInteractive(key) {\n",
              "          const element = document.querySelector('#df-bcd0ab86-d7a9-4f8f-a1e0-b9bfef6a1f8a');\n",
              "          const dataTable =\n",
              "            await google.colab.kernel.invokeFunction('convertToInteractive',\n",
              "                                                     [key], {});\n",
              "          if (!dataTable) return;\n",
              "\n",
              "          const docLinkHtml = 'Like what you see? Visit the ' +\n",
              "            '<a target=\"_blank\" href=https://colab.research.google.com/notebooks/data_table.ipynb>data table notebook</a>'\n",
              "            + ' to learn more about interactive tables.';\n",
              "          element.innerHTML = '';\n",
              "          dataTable['output_type'] = 'display_data';\n",
              "          await google.colab.output.renderOutput(dataTable, element);\n",
              "          const docLink = document.createElement('div');\n",
              "          docLink.innerHTML = docLinkHtml;\n",
              "          element.appendChild(docLink);\n",
              "        }\n",
              "      </script>\n",
              "    </div>\n",
              "  </div>\n",
              "  "
            ]
          },
          "metadata": {},
          "execution_count": 65
        }
      ]
    },
    {
      "cell_type": "code",
      "source": [
        "#the columns that require scaling include\n",
        "y = df['emotion_score']\n",
        "x = df.drop(columns=['emotion_score'])"
      ],
      "metadata": {
        "id": "6syiB0fX9_vY"
      },
      "execution_count": 66,
      "outputs": []
    },
    {
      "cell_type": "code",
      "source": [
        "y.value_counts()"
      ],
      "metadata": {
        "colab": {
          "base_uri": "https://localhost:8080/"
        },
        "id": "tE9S1EufC7qJ",
        "outputId": "4f260a6b-05b5-4adc-d79f-659142a7d460"
      },
      "execution_count": 67,
      "outputs": [
        {
          "output_type": "execute_result",
          "data": {
            "text/plain": [
              "Severe      91\n",
              "Moderate    74\n",
              "Mild        38\n",
              "Minimal     22\n",
              "Name: emotion_score, dtype: int64"
            ]
          },
          "metadata": {},
          "execution_count": 67
        }
      ]
    },
    {
      "cell_type": "code",
      "source": [
        "df.head()"
      ],
      "metadata": {
        "colab": {
          "base_uri": "https://localhost:8080/",
          "height": 300
        },
        "id": "d7-QPwSBDBZg",
        "outputId": "0324355e-ea2f-4b34-ea42-b678b551ff21"
      },
      "execution_count": 68,
      "outputs": [
        {
          "output_type": "execute_result",
          "data": {
            "text/plain": [
              "   gender_Female  gender_Male  age_AD  age_CH  age_OA  age_OL  age_YA  \\\n",
              "0              0            1       0       0       0       0       1   \n",
              "1              1            0       0       0       0       0       1   \n",
              "2              0            1       0       0       0       0       1   \n",
              "3              0            1       0       0       0       0       1   \n",
              "4              0            1       0       0       0       0       1   \n",
              "\n",
              "   mar_status_Married  mar_status_Unmarried  profession_Employed  ...  \\\n",
              "0                   0                     1                    0  ...   \n",
              "1                   0                     1                    0  ...   \n",
              "2                   0                     1                    0  ...   \n",
              "3                   0                     1                    0  ...   \n",
              "4                   0                     1                    0  ...   \n",
              "\n",
              "   covid_infec_Yes  covid_infec_fam_No  covid_infec_fam_Yes  lose_family_No  \\\n",
              "0                0                   1                    0               1   \n",
              "1                0                   1                    0               1   \n",
              "2                0                   1                    0               1   \n",
              "3                0                   1                    0               1   \n",
              "4                0                   1                    0               1   \n",
              "\n",
              "   lose_family_Yes  mental_counsel_No  mental_counsel_Yes  anx_covid_No  \\\n",
              "0                0                  1                   0             1   \n",
              "1                0                  1                   0             0   \n",
              "2                0                  0                   1             1   \n",
              "3                0                  1                   0             0   \n",
              "4                0                  1                   0             0   \n",
              "\n",
              "   anx_covid_Yes  emotion_score  \n",
              "0              0           Mild  \n",
              "1              1       Moderate  \n",
              "2              0        Minimal  \n",
              "3              1       Moderate  \n",
              "4              1       Moderate  \n",
              "\n",
              "[5 rows x 71 columns]"
            ],
            "text/html": [
              "\n",
              "  <div id=\"df-502fdb9f-a339-448e-962b-0174f12a3b0f\">\n",
              "    <div class=\"colab-df-container\">\n",
              "      <div>\n",
              "<style scoped>\n",
              "    .dataframe tbody tr th:only-of-type {\n",
              "        vertical-align: middle;\n",
              "    }\n",
              "\n",
              "    .dataframe tbody tr th {\n",
              "        vertical-align: top;\n",
              "    }\n",
              "\n",
              "    .dataframe thead th {\n",
              "        text-align: right;\n",
              "    }\n",
              "</style>\n",
              "<table border=\"1\" class=\"dataframe\">\n",
              "  <thead>\n",
              "    <tr style=\"text-align: right;\">\n",
              "      <th></th>\n",
              "      <th>gender_Female</th>\n",
              "      <th>gender_Male</th>\n",
              "      <th>age_AD</th>\n",
              "      <th>age_CH</th>\n",
              "      <th>age_OA</th>\n",
              "      <th>age_OL</th>\n",
              "      <th>age_YA</th>\n",
              "      <th>mar_status_Married</th>\n",
              "      <th>mar_status_Unmarried</th>\n",
              "      <th>profession_Employed</th>\n",
              "      <th>...</th>\n",
              "      <th>covid_infec_Yes</th>\n",
              "      <th>covid_infec_fam_No</th>\n",
              "      <th>covid_infec_fam_Yes</th>\n",
              "      <th>lose_family_No</th>\n",
              "      <th>lose_family_Yes</th>\n",
              "      <th>mental_counsel_No</th>\n",
              "      <th>mental_counsel_Yes</th>\n",
              "      <th>anx_covid_No</th>\n",
              "      <th>anx_covid_Yes</th>\n",
              "      <th>emotion_score</th>\n",
              "    </tr>\n",
              "  </thead>\n",
              "  <tbody>\n",
              "    <tr>\n",
              "      <th>0</th>\n",
              "      <td>0</td>\n",
              "      <td>1</td>\n",
              "      <td>0</td>\n",
              "      <td>0</td>\n",
              "      <td>0</td>\n",
              "      <td>0</td>\n",
              "      <td>1</td>\n",
              "      <td>0</td>\n",
              "      <td>1</td>\n",
              "      <td>0</td>\n",
              "      <td>...</td>\n",
              "      <td>0</td>\n",
              "      <td>1</td>\n",
              "      <td>0</td>\n",
              "      <td>1</td>\n",
              "      <td>0</td>\n",
              "      <td>1</td>\n",
              "      <td>0</td>\n",
              "      <td>1</td>\n",
              "      <td>0</td>\n",
              "      <td>Mild</td>\n",
              "    </tr>\n",
              "    <tr>\n",
              "      <th>1</th>\n",
              "      <td>1</td>\n",
              "      <td>0</td>\n",
              "      <td>0</td>\n",
              "      <td>0</td>\n",
              "      <td>0</td>\n",
              "      <td>0</td>\n",
              "      <td>1</td>\n",
              "      <td>0</td>\n",
              "      <td>1</td>\n",
              "      <td>0</td>\n",
              "      <td>...</td>\n",
              "      <td>0</td>\n",
              "      <td>1</td>\n",
              "      <td>0</td>\n",
              "      <td>1</td>\n",
              "      <td>0</td>\n",
              "      <td>1</td>\n",
              "      <td>0</td>\n",
              "      <td>0</td>\n",
              "      <td>1</td>\n",
              "      <td>Moderate</td>\n",
              "    </tr>\n",
              "    <tr>\n",
              "      <th>2</th>\n",
              "      <td>0</td>\n",
              "      <td>1</td>\n",
              "      <td>0</td>\n",
              "      <td>0</td>\n",
              "      <td>0</td>\n",
              "      <td>0</td>\n",
              "      <td>1</td>\n",
              "      <td>0</td>\n",
              "      <td>1</td>\n",
              "      <td>0</td>\n",
              "      <td>...</td>\n",
              "      <td>0</td>\n",
              "      <td>1</td>\n",
              "      <td>0</td>\n",
              "      <td>1</td>\n",
              "      <td>0</td>\n",
              "      <td>0</td>\n",
              "      <td>1</td>\n",
              "      <td>1</td>\n",
              "      <td>0</td>\n",
              "      <td>Minimal</td>\n",
              "    </tr>\n",
              "    <tr>\n",
              "      <th>3</th>\n",
              "      <td>0</td>\n",
              "      <td>1</td>\n",
              "      <td>0</td>\n",
              "      <td>0</td>\n",
              "      <td>0</td>\n",
              "      <td>0</td>\n",
              "      <td>1</td>\n",
              "      <td>0</td>\n",
              "      <td>1</td>\n",
              "      <td>0</td>\n",
              "      <td>...</td>\n",
              "      <td>0</td>\n",
              "      <td>1</td>\n",
              "      <td>0</td>\n",
              "      <td>1</td>\n",
              "      <td>0</td>\n",
              "      <td>1</td>\n",
              "      <td>0</td>\n",
              "      <td>0</td>\n",
              "      <td>1</td>\n",
              "      <td>Moderate</td>\n",
              "    </tr>\n",
              "    <tr>\n",
              "      <th>4</th>\n",
              "      <td>0</td>\n",
              "      <td>1</td>\n",
              "      <td>0</td>\n",
              "      <td>0</td>\n",
              "      <td>0</td>\n",
              "      <td>0</td>\n",
              "      <td>1</td>\n",
              "      <td>0</td>\n",
              "      <td>1</td>\n",
              "      <td>0</td>\n",
              "      <td>...</td>\n",
              "      <td>0</td>\n",
              "      <td>1</td>\n",
              "      <td>0</td>\n",
              "      <td>1</td>\n",
              "      <td>0</td>\n",
              "      <td>1</td>\n",
              "      <td>0</td>\n",
              "      <td>0</td>\n",
              "      <td>1</td>\n",
              "      <td>Moderate</td>\n",
              "    </tr>\n",
              "  </tbody>\n",
              "</table>\n",
              "<p>5 rows × 71 columns</p>\n",
              "</div>\n",
              "      <button class=\"colab-df-convert\" onclick=\"convertToInteractive('df-502fdb9f-a339-448e-962b-0174f12a3b0f')\"\n",
              "              title=\"Convert this dataframe to an interactive table.\"\n",
              "              style=\"display:none;\">\n",
              "        \n",
              "  <svg xmlns=\"http://www.w3.org/2000/svg\" height=\"24px\"viewBox=\"0 0 24 24\"\n",
              "       width=\"24px\">\n",
              "    <path d=\"M0 0h24v24H0V0z\" fill=\"none\"/>\n",
              "    <path d=\"M18.56 5.44l.94 2.06.94-2.06 2.06-.94-2.06-.94-.94-2.06-.94 2.06-2.06.94zm-11 1L8.5 8.5l.94-2.06 2.06-.94-2.06-.94L8.5 2.5l-.94 2.06-2.06.94zm10 10l.94 2.06.94-2.06 2.06-.94-2.06-.94-.94-2.06-.94 2.06-2.06.94z\"/><path d=\"M17.41 7.96l-1.37-1.37c-.4-.4-.92-.59-1.43-.59-.52 0-1.04.2-1.43.59L10.3 9.45l-7.72 7.72c-.78.78-.78 2.05 0 2.83L4 21.41c.39.39.9.59 1.41.59.51 0 1.02-.2 1.41-.59l7.78-7.78 2.81-2.81c.8-.78.8-2.07 0-2.86zM5.41 20L4 18.59l7.72-7.72 1.47 1.35L5.41 20z\"/>\n",
              "  </svg>\n",
              "      </button>\n",
              "      \n",
              "  <style>\n",
              "    .colab-df-container {\n",
              "      display:flex;\n",
              "      flex-wrap:wrap;\n",
              "      gap: 12px;\n",
              "    }\n",
              "\n",
              "    .colab-df-convert {\n",
              "      background-color: #E8F0FE;\n",
              "      border: none;\n",
              "      border-radius: 50%;\n",
              "      cursor: pointer;\n",
              "      display: none;\n",
              "      fill: #1967D2;\n",
              "      height: 32px;\n",
              "      padding: 0 0 0 0;\n",
              "      width: 32px;\n",
              "    }\n",
              "\n",
              "    .colab-df-convert:hover {\n",
              "      background-color: #E2EBFA;\n",
              "      box-shadow: 0px 1px 2px rgba(60, 64, 67, 0.3), 0px 1px 3px 1px rgba(60, 64, 67, 0.15);\n",
              "      fill: #174EA6;\n",
              "    }\n",
              "\n",
              "    [theme=dark] .colab-df-convert {\n",
              "      background-color: #3B4455;\n",
              "      fill: #D2E3FC;\n",
              "    }\n",
              "\n",
              "    [theme=dark] .colab-df-convert:hover {\n",
              "      background-color: #434B5C;\n",
              "      box-shadow: 0px 1px 3px 1px rgba(0, 0, 0, 0.15);\n",
              "      filter: drop-shadow(0px 1px 2px rgba(0, 0, 0, 0.3));\n",
              "      fill: #FFFFFF;\n",
              "    }\n",
              "  </style>\n",
              "\n",
              "      <script>\n",
              "        const buttonEl =\n",
              "          document.querySelector('#df-502fdb9f-a339-448e-962b-0174f12a3b0f button.colab-df-convert');\n",
              "        buttonEl.style.display =\n",
              "          google.colab.kernel.accessAllowed ? 'block' : 'none';\n",
              "\n",
              "        async function convertToInteractive(key) {\n",
              "          const element = document.querySelector('#df-502fdb9f-a339-448e-962b-0174f12a3b0f');\n",
              "          const dataTable =\n",
              "            await google.colab.kernel.invokeFunction('convertToInteractive',\n",
              "                                                     [key], {});\n",
              "          if (!dataTable) return;\n",
              "\n",
              "          const docLinkHtml = 'Like what you see? Visit the ' +\n",
              "            '<a target=\"_blank\" href=https://colab.research.google.com/notebooks/data_table.ipynb>data table notebook</a>'\n",
              "            + ' to learn more about interactive tables.';\n",
              "          element.innerHTML = '';\n",
              "          dataTable['output_type'] = 'display_data';\n",
              "          await google.colab.output.renderOutput(dataTable, element);\n",
              "          const docLink = document.createElement('div');\n",
              "          docLink.innerHTML = docLinkHtml;\n",
              "          element.appendChild(docLink);\n",
              "        }\n",
              "      </script>\n",
              "    </div>\n",
              "  </div>\n",
              "  "
            ]
          },
          "metadata": {},
          "execution_count": 68
        }
      ]
    },
    {
      "cell_type": "markdown",
      "source": [
        "# Training Model"
      ],
      "metadata": {
        "id": "MNtn9Jwqg_O2"
      }
    },
    {
      "cell_type": "markdown",
      "source": [
        "## Scaling data"
      ],
      "metadata": {
        "id": "OK90CPXNhOfh"
      }
    },
    {
      "cell_type": "code",
      "source": [
        "from sklearn.preprocessing import MinMaxScaler\n",
        "from sklearn.model_selection import train_test_split\n",
        "scaler = MinMaxScaler()\n",
        "\n",
        "X_train, X_test, y_train, y_test = train_test_split(x, y, test_size = 0.2, random_state = 20)\n",
        "print(X_train.shape)\n",
        "print(X_test.shape)"
      ],
      "metadata": {
        "colab": {
          "base_uri": "https://localhost:8080/"
        },
        "id": "qGnJGZSXDt3P",
        "outputId": "5d5e9df1-a968-4c2a-8769-46c7acb2f3dc"
      },
      "execution_count": 69,
      "outputs": [
        {
          "output_type": "stream",
          "name": "stdout",
          "text": [
            "(180, 70)\n",
            "(45, 70)\n"
          ]
        }
      ]
    },
    {
      "cell_type": "markdown",
      "source": [
        "## KNN with Euclidean Distance Metric"
      ],
      "metadata": {
        "id": "XPL_xxb6hbOw"
      }
    },
    {
      "cell_type": "code",
      "source": [
        "from sklearn.metrics import accuracy_score"
      ],
      "metadata": {
        "id": "wbmdlSGiRqPT"
      },
      "execution_count": 70,
      "outputs": []
    },
    {
      "cell_type": "code",
      "source": [
        "# KNN with Euclidean Distance Metric\n",
        "\n",
        "from sklearn.neighbors import KNeighborsClassifier\n",
        "numNeighbors = [1, 5, 10, 15, 20, 25, 30]\n",
        "trainAcc = []\n",
        "testAcc = []\n",
        "\n",
        "for k in numNeighbors:\n",
        "    clf = KNeighborsClassifier(n_neighbors=k, metric='minkowski', p=2)\n",
        "    clf.fit(X_train, y_train)\n",
        "    y_predTrain = clf.predict(X_train)\n",
        "    y_pred_Test = clf.predict(X_test)\n",
        "    trainAcc.append(accuracy_score(y_train, y_predTrain))\n",
        "    testAcc.append(accuracy_score(y_test, y_pred_Test))\n",
        "\n",
        "plt.plot(numNeighbors, trainAcc, 'ro-', numNeighbors, testAcc,'bv--')\n",
        "plt.legend(['Training Accuracy','Test Accuracy'])\n",
        "plt.xlabel('Number of neighbors')\n",
        "plt.ylabel('Accuracy');\n",
        "\n",
        "index = 0\n",
        "for i in numNeighbors:\n",
        "    print(\"K = \", numNeighbors[index], \", Training Accuracy = \", trainAcc[index], \" Test Accuracy = \", testAcc[index], \n",
        "          \", Difference = \", np.abs(trainAcc[index]-testAcc[index])*100, \"%\")\n",
        "    index+=1"
      ],
      "metadata": {
        "colab": {
          "base_uri": "https://localhost:8080/",
          "height": 427
        },
        "id": "dxdzNTuuEekV",
        "outputId": "9171be21-3824-4506-d4b2-e7db1a6d7bc9"
      },
      "execution_count": 71,
      "outputs": [
        {
          "output_type": "stream",
          "name": "stdout",
          "text": [
            "K =  1 , Training Accuracy =  1.0  Test Accuracy =  0.28888888888888886 , Difference =  71.11111111111111 %\n",
            "K =  5 , Training Accuracy =  0.55  Test Accuracy =  0.3333333333333333 , Difference =  21.66666666666667 %\n",
            "K =  10 , Training Accuracy =  0.5111111111111111  Test Accuracy =  0.3333333333333333 , Difference =  17.777777777777775 %\n",
            "K =  15 , Training Accuracy =  0.48333333333333334  Test Accuracy =  0.4222222222222222 , Difference =  6.111111111111112 %\n",
            "K =  20 , Training Accuracy =  0.4777777777777778  Test Accuracy =  0.4222222222222222 , Difference =  5.555555555555558 %\n",
            "K =  25 , Training Accuracy =  0.45  Test Accuracy =  0.4 , Difference =  4.999999999999999 %\n",
            "K =  30 , Training Accuracy =  0.4666666666666667  Test Accuracy =  0.4 , Difference =  6.666666666666665 %\n"
          ]
        },
        {
          "output_type": "display_data",
          "data": {
            "text/plain": [
              "<Figure size 432x288 with 1 Axes>"
            ],
            "image/png": "[encoded data removed]"
          },
          "metadata": {}
        }
      ]
    },
    {
      "cell_type": "markdown",
      "source": [
        "## Decision Tree"
      ],
      "metadata": {
        "id": "ongV0Lm4hXbT"
      }
    },
    {
      "cell_type": "code",
      "source": [
        "# Decision Tree\n",
        "\n",
        "from sklearn.tree import DecisionTreeClassifier\n",
        "from sklearn.metrics import accuracy_score\n",
        "maxdepths = [2,3,4,5,6,7,8,9,10,15,20,25,30,35,40,45,50]\n",
        "trainAcc = np.zeros(len(maxdepths))\n",
        "testAcc = np.zeros(len(maxdepths))\n",
        "\n",
        "index = 0\n",
        "for depth in maxdepths:\n",
        "    clf = DecisionTreeClassifier(max_depth=depth)\n",
        "    clf = clf.fit(X_train, y_train)\n",
        "    y_predTrain = clf.predict(X_train)\n",
        "    y_pred_Test = clf.predict(X_test)\n",
        "    trainAcc[index] = accuracy_score(y_train, y_predTrain)\n",
        "    testAcc[index] = accuracy_score(y_test, y_pred_Test)\n",
        "    print(\"Depth = \", depth, \", Training Accuracy = \", trainAcc[index], \", Test Accuracy = \", testAcc[index], \n",
        "          \", Diff = \", np.abs((trainAcc[index]-testAcc[index])*100), \" %\")\n",
        "    index += 1\n",
        "\n",
        "    \n",
        "#########################################\n",
        "# Plot of training and test accuracies\n",
        "#########################################\n",
        "    \n",
        "plt.plot(maxdepths,trainAcc,'ro-',maxdepths,testAcc,'bv--')\n",
        "plt.legend(['Training Accuracy','Test Accuracy'])\n",
        "plt.xlabel('Max depth')\n",
        "plt.ylabel('Accuracy');"
      ],
      "metadata": {
        "colab": {
          "base_uri": "https://localhost:8080/",
          "height": 600
        },
        "id": "eFrUbQuZEZMC",
        "outputId": "e652db28-16c8-44d9-fbb3-4a0188392d90"
      },
      "execution_count": 72,
      "outputs": [
        {
          "output_type": "stream",
          "name": "stdout",
          "text": [
            "Depth =  2 , Training Accuracy =  0.4888888888888889 , Test Accuracy =  0.35555555555555557 , Diff =  13.33333333333333  %\n",
            "Depth =  3 , Training Accuracy =  0.5555555555555556 , Test Accuracy =  0.3333333333333333 , Diff =  22.222222222222225  %\n",
            "Depth =  4 , Training Accuracy =  0.6111111111111112 , Test Accuracy =  0.3111111111111111 , Diff =  30.000000000000004  %\n",
            "Depth =  5 , Training Accuracy =  0.6944444444444444 , Test Accuracy =  0.3333333333333333 , Diff =  36.11111111111111  %\n",
            "Depth =  6 , Training Accuracy =  0.7555555555555555 , Test Accuracy =  0.3333333333333333 , Diff =  42.22222222222222  %\n",
            "Depth =  7 , Training Accuracy =  0.8333333333333334 , Test Accuracy =  0.3333333333333333 , Diff =  50.0  %\n",
            "Depth =  8 , Training Accuracy =  0.8611111111111112 , Test Accuracy =  0.35555555555555557 , Diff =  50.55555555555556  %\n",
            "Depth =  9 , Training Accuracy =  0.9055555555555556 , Test Accuracy =  0.37777777777777777 , Diff =  52.77777777777778  %\n",
            "Depth =  10 , Training Accuracy =  0.9388888888888889 , Test Accuracy =  0.3333333333333333 , Diff =  60.555555555555564  %\n",
            "Depth =  15 , Training Accuracy =  1.0 , Test Accuracy =  0.35555555555555557 , Diff =  64.44444444444444  %\n",
            "Depth =  20 , Training Accuracy =  1.0 , Test Accuracy =  0.3333333333333333 , Diff =  66.66666666666667  %\n",
            "Depth =  25 , Training Accuracy =  1.0 , Test Accuracy =  0.3333333333333333 , Diff =  66.66666666666667  %\n",
            "Depth =  30 , Training Accuracy =  1.0 , Test Accuracy =  0.3333333333333333 , Diff =  66.66666666666667  %\n",
            "Depth =  35 , Training Accuracy =  1.0 , Test Accuracy =  0.3111111111111111 , Diff =  68.88888888888889  %\n",
            "Depth =  40 , Training Accuracy =  1.0 , Test Accuracy =  0.35555555555555557 , Diff =  64.44444444444444  %\n",
            "Depth =  45 , Training Accuracy =  1.0 , Test Accuracy =  0.3333333333333333 , Diff =  66.66666666666667  %\n",
            "Depth =  50 , Training Accuracy =  1.0 , Test Accuracy =  0.35555555555555557 , Diff =  64.44444444444444  %\n"
          ]
        },
        {
          "output_type": "display_data",
          "data": {
            "text/plain": [
              "<Figure size 432x288 with 1 Axes>"
            ],
            "image/png": "[encoded data removed]"
          },
          "metadata": {}
        }
      ]
    },
    {
      "cell_type": "markdown",
      "source": [
        "## Applying SMOTE"
      ],
      "metadata": {
        "id": "wCbTbn7NhhsU"
      }
    },
    {
      "cell_type": "code",
      "source": [
        "from imblearn.over_sampling import SMOTE\n",
        "sm=SMOTE(random_state=30)\n",
        "X_train_n, y_train_n=sm.fit_resample(X_train, y_train)"
      ],
      "metadata": {
        "id": "GNt6y6rSEo2M"
      },
      "execution_count": 73,
      "outputs": []
    },
    {
      "cell_type": "code",
      "source": [
        "print(X_train.shape)\n",
        "print(X_test.shape)"
      ],
      "metadata": {
        "colab": {
          "base_uri": "https://localhost:8080/"
        },
        "id": "lKr4Iuz7ExzD",
        "outputId": "420e905f-4847-479b-c5f3-7e9460f62486"
      },
      "execution_count": 74,
      "outputs": [
        {
          "output_type": "stream",
          "name": "stdout",
          "text": [
            "(180, 70)\n",
            "(45, 70)\n"
          ]
        }
      ]
    },
    {
      "cell_type": "markdown",
      "source": [
        "## Decision Tree after SMOTE"
      ],
      "metadata": {
        "id": "k7sd7kYkhse6"
      }
    },
    {
      "cell_type": "code",
      "source": [
        "# Decision Tree\n",
        "\n",
        "from sklearn.tree import DecisionTreeClassifier\n",
        "from sklearn.metrics import accuracy_score\n",
        "maxdepths = [2,3,4,5,6,7,8,9,10,15,20,25,30,35,40,45,50]\n",
        "trainAcc = np.zeros(len(maxdepths))\n",
        "testAcc = np.zeros(len(maxdepths))\n",
        "\n",
        "index = 0\n",
        "for depth in maxdepths:\n",
        "    clf = DecisionTreeClassifier(max_depth=depth)\n",
        "    clf = clf.fit(X_train_n, y_train_n)\n",
        "    y_predTrain = clf.predict(X_train_n)\n",
        "    y_pred_Test = clf.predict(X_test)\n",
        "    trainAcc[index] = accuracy_score(y_train_n, y_predTrain)\n",
        "    testAcc[index] = accuracy_score(y_test, y_pred_Test)\n",
        "    print(\"Depth = \", depth, \", Training Accuracy = \", trainAcc[index], \", Test Accuracy = \", testAcc[index], \n",
        "          \", Diff = \", np.abs((trainAcc[index]-testAcc[index])*100), \" %\")\n",
        "    index += 1\n",
        "\n",
        "    \n",
        "#########################################\n",
        "# Plot of training and test accuracies\n",
        "#########################################\n",
        "    \n",
        "plt.plot(maxdepths,trainAcc,'ro-',maxdepths,testAcc,'bv--')\n",
        "plt.legend(['Training Accuracy','Test Accuracy'])\n",
        "plt.xlabel('Max depth')\n",
        "plt.ylabel('Accuracy');\n",
        "\n",
        "#########################################\n",
        "# Table for Precision, Recal & F1 Score\n",
        "#########################################\n",
        "from sklearn import metrics\n",
        "print('-------------------------------------')\n",
        "print(\"Confusion Matrix for the Test Case\")\n",
        "print(metrics.confusion_matrix(y_test, y_pred_Test))\n",
        "print()\n",
        "print(\"Classification Report\")\n",
        "print(metrics.classification_report(y_test, y_pred_Test, digits = 3))"
      ],
      "metadata": {
        "colab": {
          "base_uri": "https://localhost:8080/",
          "height": 930
        },
        "id": "gmVgweYfE0nm",
        "outputId": "ea2e1136-7fd3-4a41-952a-6210eb1a6063"
      },
      "execution_count": 75,
      "outputs": [
        {
          "output_type": "stream",
          "name": "stdout",
          "text": [
            "Depth =  2 , Training Accuracy =  0.4607142857142857 , Test Accuracy =  0.4 , Diff =  6.071428571428567  %\n",
            "Depth =  3 , Training Accuracy =  0.5142857142857142 , Test Accuracy =  0.37777777777777777 , Diff =  13.650793650793647  %\n",
            "Depth =  4 , Training Accuracy =  0.575 , Test Accuracy =  0.4 , Diff =  17.499999999999993  %\n",
            "Depth =  5 , Training Accuracy =  0.65 , Test Accuracy =  0.3333333333333333 , Diff =  31.66666666666667  %\n",
            "Depth =  6 , Training Accuracy =  0.7071428571428572 , Test Accuracy =  0.3333333333333333 , Diff =  37.38095238095239  %\n",
            "Depth =  7 , Training Accuracy =  0.7642857142857142 , Test Accuracy =  0.26666666666666666 , Diff =  49.76190476190476  %\n",
            "Depth =  8 , Training Accuracy =  0.7892857142857143 , Test Accuracy =  0.2222222222222222 , Diff =  56.7063492063492  %\n",
            "Depth =  9 , Training Accuracy =  0.8142857142857143 , Test Accuracy =  0.2222222222222222 , Diff =  59.20634920634921  %\n",
            "Depth =  10 , Training Accuracy =  0.85 , Test Accuracy =  0.2222222222222222 , Diff =  62.77777777777778  %\n",
            "Depth =  15 , Training Accuracy =  0.9607142857142857 , Test Accuracy =  0.24444444444444444 , Diff =  71.62698412698413  %\n",
            "Depth =  20 , Training Accuracy =  1.0 , Test Accuracy =  0.28888888888888886 , Diff =  71.11111111111111  %\n",
            "Depth =  25 , Training Accuracy =  1.0 , Test Accuracy =  0.26666666666666666 , Diff =  73.33333333333334  %\n",
            "Depth =  30 , Training Accuracy =  1.0 , Test Accuracy =  0.3111111111111111 , Diff =  68.88888888888889  %\n",
            "Depth =  35 , Training Accuracy =  1.0 , Test Accuracy =  0.28888888888888886 , Diff =  71.11111111111111  %\n",
            "Depth =  40 , Training Accuracy =  1.0 , Test Accuracy =  0.24444444444444444 , Diff =  75.55555555555556  %\n",
            "Depth =  45 , Training Accuracy =  1.0 , Test Accuracy =  0.28888888888888886 , Diff =  71.11111111111111  %\n",
            "Depth =  50 , Training Accuracy =  1.0 , Test Accuracy =  0.26666666666666666 , Diff =  73.33333333333334  %\n",
            "-------------------------------------\n",
            "Confusion Matrix for the Test Case\n",
            "[[1 1 3 1]\n",
            " [1 1 2 0]\n",
            " [3 1 5 5]\n",
            " [5 4 7 5]]\n",
            "\n",
            "Classification Report\n",
            "              precision    recall  f1-score   support\n",
            "\n",
            "        Mild      0.100     0.167     0.125         6\n",
            "     Minimal      0.143     0.250     0.182         4\n",
            "    Moderate      0.294     0.357     0.323        14\n",
            "      Severe      0.455     0.238     0.312        21\n",
            "\n",
            "    accuracy                          0.267        45\n",
            "   macro avg      0.248     0.253     0.235        45\n",
            "weighted avg      0.330     0.267     0.279        45\n",
            "\n"
          ]
        },
        {
          "output_type": "display_data",
          "data": {
            "text/plain": [
              "<Figure size 432x288 with 1 Axes>"
            ],
            "image/png": "[encoded data removed]"
          },
          "metadata": {}
        }
      ]
    },
    {
      "cell_type": "markdown",
      "source": [
        "## Cross-validation"
      ],
      "metadata": {
        "id": "fUHQiFELiAji"
      }
    },
    {
      "cell_type": "code",
      "source": [
        "from sklearn.model_selection import KFold, cross_val_score\n",
        "import numpy as np\n",
        "kfold_validation = KFold(n_splits = 10)\n",
        "clf = DecisionTreeClassifier()\n",
        "\n",
        "results = cross_val_score(clf, x, y, cv = kfold_validation)\n",
        "print(results)\n",
        "print()\n",
        "print (\"Results = \", np.mean(results), \"+/-\", np.std(results))"
      ],
      "metadata": {
        "colab": {
          "base_uri": "https://localhost:8080/"
        },
        "id": "TPyEHXEvE55R",
        "outputId": "3d212f22-417a-4346-f35f-16694141b119"
      },
      "execution_count": 76,
      "outputs": [
        {
          "output_type": "stream",
          "name": "stdout",
          "text": [
            "[0.39130435 0.30434783 0.30434783 0.08695652 0.43478261 0.40909091\n",
            " 0.27272727 0.36363636 0.36363636 0.36363636]\n",
            "\n",
            "Results =  0.3294466403162056 +/- 0.09383523246746878\n"
          ]
        }
      ]
    },
    {
      "cell_type": "markdown",
      "source": [
        "## Stratifying data"
      ],
      "metadata": {
        "id": "NrrHUHFYiJjF"
      }
    },
    {
      "cell_type": "code",
      "source": [
        "# For imbalance dataset\n",
        "from sklearn.model_selection import StratifiedKFold\n",
        "skfold = StratifiedKFold(n_splits=5)\n",
        "clf = DecisionTreeClassifier()\n",
        "results = cross_val_score(clf, x, y, cv = skfold)\n",
        "print(results)\n",
        "print()\n",
        "print (\"Results = \", np.mean(results), \"+/-\", np.std(results))"
      ],
      "metadata": {
        "colab": {
          "base_uri": "https://localhost:8080/"
        },
        "id": "rE-FYMuXE_Mi",
        "outputId": "ccd5a66f-14c3-4aa8-d141-b9491879fc3d"
      },
      "execution_count": 77,
      "outputs": [
        {
          "output_type": "stream",
          "name": "stdout",
          "text": [
            "[0.28888889 0.33333333 0.31111111 0.37777778 0.42222222]\n",
            "\n",
            "Results =  0.3466666666666667 +/- 0.047868131618973374\n"
          ]
        }
      ]
    },
    {
      "cell_type": "code",
      "source": [
        "from imblearn.over_sampling import SMOTE\n",
        "sm=SMOTE(random_state=30)\n",
        "X_n, y_n=sm.fit_resample(x, y)"
      ],
      "metadata": {
        "id": "uGFZUe81FI1V"
      },
      "execution_count": 78,
      "outputs": []
    },
    {
      "cell_type": "code",
      "source": [
        "unique, count= np.unique(y_n, return_counts=True)\n",
        "counts={k:v for (k,v) in zip (unique, count)}\n",
        "counts"
      ],
      "metadata": {
        "colab": {
          "base_uri": "https://localhost:8080/"
        },
        "id": "F4fKjaaJFPlI",
        "outputId": "9aa71057-c1dc-4924-9b5c-9948bb693117"
      },
      "execution_count": 79,
      "outputs": [
        {
          "output_type": "execute_result",
          "data": {
            "text/plain": [
              "{'Mild': 91, 'Minimal': 91, 'Moderate': 91, 'Severe': 91}"
            ]
          },
          "metadata": {},
          "execution_count": 79
        }
      ]
    },
    {
      "cell_type": "code",
      "source": [
        "X_n.shape"
      ],
      "metadata": {
        "colab": {
          "base_uri": "https://localhost:8080/"
        },
        "id": "Fw9DhtqRFUvK",
        "outputId": "32e19bdc-ca27-43e9-e43f-ac8e3e9d7ed8"
      },
      "execution_count": 80,
      "outputs": [
        {
          "output_type": "execute_result",
          "data": {
            "text/plain": [
              "(364, 70)"
            ]
          },
          "metadata": {},
          "execution_count": 80
        }
      ]
    },
    {
      "cell_type": "code",
      "source": [
        "from sklearn.model_selection import KFold, cross_val_score\n",
        "import numpy as np\n",
        "# for i in range(2,30):    \n",
        "kfold_validation = KFold(n_splits = 12)\n",
        "clf = DecisionTreeClassifier()\n",
        "\n",
        "results = cross_val_score(clf,X_n, y_n, cv = kfold_validation)\n",
        "print(results)\n",
        "print()\n",
        "print (\"Results = \", np.mean(results), \"+/-\", np.std(results))"
      ],
      "metadata": {
        "colab": {
          "base_uri": "https://localhost:8080/"
        },
        "id": "obQ2QMSmFYGk",
        "outputId": "bd59a693-1752-4e6c-f646-f993478e2d4c"
      },
      "execution_count": 81,
      "outputs": [
        {
          "output_type": "stream",
          "name": "stdout",
          "text": [
            "[0.48387097 0.25806452 0.38709677 0.29032258 0.23333333 0.2\n",
            " 0.23333333 0.73333333 0.66666667 0.93333333 0.96666667 0.8       ]\n",
            "\n",
            "Results =  0.5155017921146953 +/- 0.2772815981268053\n"
          ]
        }
      ]
    },
    {
      "cell_type": "markdown",
      "source": [
        "## Shuffle Split"
      ],
      "metadata": {
        "id": "-zMRRoEPD1DK"
      }
    },
    {
      "cell_type": "code",
      "source": [
        "from sklearn.model_selection import ShuffleSplit\n",
        "ssplit = ShuffleSplit(n_splits = 10, test_size = 0.30)\n",
        "clf = DecisionTreeClassifier()\n",
        "results = cross_val_score(clf,X_n, y_n, cv = ssplit)\n",
        "print(results)\n",
        "print()\n",
        "print (\"Results = \", np.mean(results), \"+/-\", np.std(results))"
      ],
      "metadata": {
        "colab": {
          "base_uri": "https://localhost:8080/"
        },
        "id": "AWefhD8vFf01",
        "outputId": "80fa7404-eeec-42ca-c91e-17ff089d0a6c"
      },
      "execution_count": 82,
      "outputs": [
        {
          "output_type": "stream",
          "name": "stdout",
          "text": [
            "[0.5        0.65454545 0.52727273 0.56363636 0.56363636 0.68181818\n",
            " 0.56363636 0.54545455 0.59090909 0.50909091]\n",
            "\n",
            "Results =  0.57 +/- 0.055899851416884395\n"
          ]
        }
      ]
    },
    {
      "cell_type": "code",
      "source": [
        "X_train, X_test, y_train, y_test = train_test_split(X_n, y_n, test_size = 0.2, random_state = 20)"
      ],
      "metadata": {
        "id": "DoJAAXwJFo4z"
      },
      "execution_count": 83,
      "outputs": []
    },
    {
      "cell_type": "markdown",
      "source": [
        "## Decision Tree after final data modification"
      ],
      "metadata": {
        "id": "VSyCCdADD7Iy"
      }
    },
    {
      "cell_type": "code",
      "source": [
        "# Decision Tree\n",
        "\n",
        "from sklearn.tree import DecisionTreeClassifier\n",
        "from sklearn.metrics import accuracy_score\n",
        "maxdepths = [2,3,4,5,6,7,8,9,10,15,20,25,30,35,40,45,50]\n",
        "trainAcc = np.zeros(len(maxdepths))\n",
        "testAcc = np.zeros(len(maxdepths))\n",
        "\n",
        "index = 0\n",
        "for depth in maxdepths:\n",
        "    clf = DecisionTreeClassifier(max_depth=depth)\n",
        "    clf = clf.fit(X_train, y_train)\n",
        "    y_predTrain = clf.predict(X_train)\n",
        "    y_pred_Test = clf.predict(X_test)\n",
        "    trainAcc[index] = accuracy_score(y_train, y_predTrain)\n",
        "    testAcc[index] = accuracy_score(y_test, y_pred_Test)\n",
        "    print(\"Depth = \", depth, \", Training Accuracy = \", trainAcc[index], \", Test Accuracy = \", testAcc[index], \n",
        "          \", Diff = \", np.abs((trainAcc[index]-testAcc[index])*100), \" %\")\n",
        "    index += 1\n",
        "\n",
        "    \n",
        "#########################################\n",
        "# Plot of training and test accuracies\n",
        "#########################################\n",
        "    \n",
        "plt.plot(maxdepths,trainAcc,'ro-',maxdepths,testAcc,'bv--')\n",
        "plt.legend(['Training Accuracy','Test Accuracy'])\n",
        "plt.xlabel('Max depth')\n",
        "plt.ylabel('Accuracy');\n",
        "\n",
        "#########################################\n",
        "# Table for Precision, Recal & F1 Score\n",
        "#########################################\n",
        "from sklearn import metrics\n",
        "print('-------------------------------------')\n",
        "print(\"Confusion Matrix for the Test Case\")\n",
        "print(metrics.confusion_matrix(y_test, y_pred_Test))\n",
        "print()\n",
        "print(\"Classification Report\")\n",
        "print(metrics.classification_report(y_test, y_pred_Test, digits = 3))"
      ],
      "metadata": {
        "colab": {
          "base_uri": "https://localhost:8080/",
          "height": 930
        },
        "id": "rrteG0tlFseu",
        "outputId": "1077ef45-5559-428a-bb08-210d58c0b3c2"
      },
      "execution_count": 84,
      "outputs": [
        {
          "output_type": "stream",
          "name": "stdout",
          "text": [
            "Depth =  2 , Training Accuracy =  0.40893470790378006 , Test Accuracy =  0.4931506849315068 , Diff =  8.421597702772676  %\n",
            "Depth =  3 , Training Accuracy =  0.4742268041237113 , Test Accuracy =  0.5068493150684932 , Diff =  3.2622510944781857  %\n",
            "Depth =  4 , Training Accuracy =  0.5292096219931272 , Test Accuracy =  0.5205479452054794 , Diff =  0.8661676787647732  %\n",
            "Depth =  5 , Training Accuracy =  0.5807560137457045 , Test Accuracy =  0.410958904109589 , Diff =  16.97971096361155  %\n",
            "Depth =  6 , Training Accuracy =  0.6735395189003437 , Test Accuracy =  0.5068493150684932 , Diff =  16.66902038318505  %\n",
            "Depth =  7 , Training Accuracy =  0.7250859106529209 , Test Accuracy =  0.547945205479452 , Diff =  17.71407051734689  %\n",
            "Depth =  8 , Training Accuracy =  0.7972508591065293 , Test Accuracy =  0.547945205479452 , Diff =  24.930565362707725  %\n",
            "Depth =  9 , Training Accuracy =  0.8419243986254296 , Test Accuracy =  0.5205479452054794 , Diff =  32.13764534199501  %\n",
            "Depth =  10 , Training Accuracy =  0.8831615120274914 , Test Accuracy =  0.547945205479452 , Diff =  33.521630654803936  %\n",
            "Depth =  15 , Training Accuracy =  0.979381443298969 , Test Accuracy =  0.5068493150684932 , Diff =  47.25321282304758  %\n",
            "Depth =  20 , Training Accuracy =  1.0 , Test Accuracy =  0.5205479452054794 , Diff =  47.945205479452056  %\n",
            "Depth =  25 , Training Accuracy =  1.0 , Test Accuracy =  0.4931506849315068 , Diff =  50.68493150684932  %\n",
            "Depth =  30 , Training Accuracy =  1.0 , Test Accuracy =  0.4931506849315068 , Diff =  50.68493150684932  %\n",
            "Depth =  35 , Training Accuracy =  1.0 , Test Accuracy =  0.5068493150684932 , Diff =  49.31506849315068  %\n",
            "Depth =  40 , Training Accuracy =  1.0 , Test Accuracy =  0.5342465753424658 , Diff =  46.57534246575342  %\n",
            "Depth =  45 , Training Accuracy =  1.0 , Test Accuracy =  0.4931506849315068 , Diff =  50.68493150684932  %\n",
            "Depth =  50 , Training Accuracy =  1.0 , Test Accuracy =  0.4931506849315068 , Diff =  50.68493150684932  %\n",
            "-------------------------------------\n",
            "Confusion Matrix for the Test Case\n",
            "[[ 7  2  1  3]\n",
            " [ 0 18  2  0]\n",
            " [ 6  3  1  7]\n",
            " [ 5  1  7 10]]\n",
            "\n",
            "Classification Report\n",
            "              precision    recall  f1-score   support\n",
            "\n",
            "        Mild      0.389     0.538     0.452        13\n",
            "     Minimal      0.750     0.900     0.818        20\n",
            "    Moderate      0.091     0.059     0.071        17\n",
            "      Severe      0.500     0.435     0.465        23\n",
            "\n",
            "    accuracy                          0.493        73\n",
            "   macro avg      0.432     0.483     0.452        73\n",
            "weighted avg      0.453     0.493     0.468        73\n",
            "\n"
          ]
        },
        {
          "output_type": "display_data",
          "data": {
            "text/plain": [
              "<Figure size 432x288 with 1 Axes>"
            ],
            "image/png": "[encoded data removed]"
          },
          "metadata": {}
        }
      ]
    },
    {
      "cell_type": "markdown",
      "source": [
        "## KNN after final data modification"
      ],
      "metadata": {
        "id": "H0vd9UlnEDe0"
      }
    },
    {
      "cell_type": "code",
      "source": [
        "# KNN with Euclidean Distance Metric\n",
        "\n",
        "from sklearn.neighbors import KNeighborsClassifier\n",
        "numNeighbors = [1, 5, 10, 15, 20, 25, 30]\n",
        "trainAcc = []\n",
        "testAcc = []\n",
        "\n",
        "for k in numNeighbors:\n",
        "    clf = KNeighborsClassifier(n_neighbors=k, metric='minkowski', p=2)\n",
        "    clf.fit(X_train, y_train)\n",
        "    y_predTrain = clf.predict(X_train)\n",
        "    y_pred_Test = clf.predict(X_test)\n",
        "    trainAcc.append(accuracy_score(y_train, y_predTrain))\n",
        "    testAcc.append(accuracy_score(y_test, y_pred_Test))\n",
        "\n",
        "plt.plot(numNeighbors, trainAcc, 'ro-', numNeighbors, testAcc,'bv--')\n",
        "plt.legend(['Training Accuracy','Test Accuracy'])\n",
        "plt.xlabel('Number of neighbors')\n",
        "plt.ylabel('Accuracy');\n",
        "\n",
        "index = 0\n",
        "for i in numNeighbors:\n",
        "    print(\"K = \", numNeighbors[index], \", Training Accuracy = \", trainAcc[index], \" Test Accuracy = \", testAcc[index], \n",
        "          \", Difference = \", np.abs(trainAcc[index]-testAcc[index])*100, \"%\")\n",
        "    index+=1"
      ],
      "metadata": {
        "colab": {
          "base_uri": "https://localhost:8080/",
          "height": 427
        },
        "id": "khnYOlWUCoBG",
        "outputId": "6de899eb-795a-4495-8d9f-23502e2b42c5"
      },
      "execution_count": 85,
      "outputs": [
        {
          "output_type": "stream",
          "name": "stdout",
          "text": [
            "K =  1 , Training Accuracy =  1.0  Test Accuracy =  0.5342465753424658 , Difference =  46.57534246575342 %\n",
            "K =  5 , Training Accuracy =  0.6288659793814433  Test Accuracy =  0.4657534246575342 , Difference =  16.311255472390908 %\n",
            "K =  10 , Training Accuracy =  0.5532646048109966  Test Accuracy =  0.5068493150684932 , Difference =  4.641528974250342 %\n",
            "K =  15 , Training Accuracy =  0.5154639175257731  Test Accuracy =  0.5342465753424658 , Difference =  1.8782657816692638 %\n",
            "K =  20 , Training Accuracy =  0.4536082474226804  Test Accuracy =  0.4931506849315068 , Difference =  3.9542437508826414 %\n",
            "K =  25 , Training Accuracy =  0.46048109965635736  Test Accuracy =  0.4657534246575342 , Difference =  0.5272325001176859 %\n",
            "K =  30 , Training Accuracy =  0.42955326460481097  Test Accuracy =  0.4246575342465753 , Difference =  0.48957303582356504 %\n"
          ]
        },
        {
          "output_type": "display_data",
          "data": {
            "text/plain": [
              "<Figure size 432x288 with 1 Axes>"
            ],
            "image/png": "[encoded data removed]"
          },
          "metadata": {}
        }
      ]
    },
    {
      "cell_type": "markdown",
      "source": [
        "## Logistic Regression"
      ],
      "metadata": {
        "id": "Awlf10nQEHv7"
      }
    },
    {
      "cell_type": "code",
      "source": [
        "from sklearn.model_selection import train_test_split\n",
        "from sklearn.linear_model import LogisticRegression\n",
        "from sklearn.metrics import plot_confusion_matrix"
      ],
      "metadata": {
        "id": "fPGkIafkbXyq"
      },
      "execution_count": 86,
      "outputs": []
    },
    {
      "cell_type": "code",
      "source": [
        "X_train, X_test, y_train, y_test = train_test_split(X_n, y_n, random_state = 20)"
      ],
      "metadata": {
        "id": "GZmm6zyxz2QU"
      },
      "execution_count": 87,
      "outputs": []
    },
    {
      "cell_type": "code",
      "source": [
        "clf = LogisticRegression()\n",
        "clf = clf.fit(X_train, y_train)\n",
        "y_predTrain = clf.predict(X_train)\n",
        "y_pred_Test = clf.predict(X_test)\n",
        "trainAcc = accuracy_score(y_train, y_predTrain)\n",
        "testAcc = accuracy_score(y_test, y_pred_Test)\n",
        "print(\"Training Accuracy = \", trainAcc, \", Test Accuracy = \", testAcc, \n",
        "          \", Diff = \", np.abs((trainAcc-testAcc)*100), \" %\")\n"
      ],
      "metadata": {
        "colab": {
          "base_uri": "https://localhost:8080/"
        },
        "id": "DMIOSk5n0E6I",
        "outputId": "14c6f1bc-516d-41e7-a1c3-8440774c34a9"
      },
      "execution_count": 88,
      "outputs": [
        {
          "output_type": "stream",
          "name": "stdout",
          "text": [
            "Training Accuracy =  0.7692307692307693 , Test Accuracy =  0.5054945054945055 , Diff =  26.37362637362638  %\n"
          ]
        }
      ]
    },
    {
      "cell_type": "markdown",
      "source": [
        "# Confusion Matrix"
      ],
      "metadata": {
        "id": "1Dla57XiENVL"
      }
    },
    {
      "cell_type": "code",
      "source": [
        "disp = plot_confusion_matrix(clf, X_test, y_test, cmap='Greens', values_format = '.3g')"
      ],
      "metadata": {
        "colab": {
          "base_uri": "https://localhost:8080/",
          "height": 285
        },
        "id": "sc2EbrZ40Qda",
        "outputId": "f6707ad3-0f53-4300-99a6-f5a994102174"
      },
      "execution_count": 99,
      "outputs": [
        {
          "output_type": "display_data",
          "data": {
            "text/plain": [
              "<Figure size 432x288 with 2 Axes>"
            ],
            "image/png": "[encoded data removed]"
          },
          "metadata": {}
        }
      ]
    },
    {
      "cell_type": "code",
      "source": [],
      "metadata": {
        "id": "kr0ALJZHIi05"
      },
      "execution_count": null,
      "outputs": []
    }
  ]
}
